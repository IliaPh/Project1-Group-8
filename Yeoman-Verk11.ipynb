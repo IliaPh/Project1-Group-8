{
 "cells": [
  {
   "cell_type": "code",
   "execution_count": null,
   "id": "1103a348",
   "metadata": {},
   "outputs": [],
   "source": [
    "import pandas as pd\n",
    "import numpy as np\n",
    "import scipy.stats as st\n",
    "import matplotlib.pyplot as plt"
   ]
  },
  {
   "cell_type": "code",
   "execution_count": null,
   "id": "8f5d6371",
   "metadata": {},
   "outputs": [],
   "source": [
    "pd.options.display.max_rows = 1000\n",
    "\n",
    "df = pd.read_csv(\"mpls_crime_2017-2022.csv\", encoding=\"utf-8\")"
   ]
  },
  {
   "cell_type": "code",
   "execution_count": null,
   "id": "00bc0666",
   "metadata": {
    "scrolled": true
   },
   "outputs": [],
   "source": [
    "df.sample(n=5)"
   ]
  },
  {
   "cell_type": "code",
   "execution_count": null,
   "id": "80d3b6d8",
   "metadata": {},
   "outputs": [],
   "source": [
    "def cleanup_df(a_df):\n",
    "    \n",
    "    a_df = a_df.drop(\"neighborhoodCrimeStatisticsID\", axis=1)\n",
    "    a_df = a_df.loc[df[\"neighborhood\"] != \"Z_** NOT ASSIGNED **\"]\n",
    "    a_df = a_df.loc[df[\"neighborhood\"] != \"** NOT ASSIGNED **\"]\n",
    "    a_df[\"neighborhood\"] = a_df[\"neighborhood\"].replace(\"CARAG\", \"South Uptown\")\n",
    "    a_df[\"neighborhood\"] = a_df[\"neighborhood\"].replace(\"ECCO\", \"East Bde Maka Ska\")\n",
    "    a_df[\"neighborhood\"] = a_df[\"neighborhood\"].replace(\"WEST CALHOUN\", \"West Maka Ska\")\n",
    "    a_df[\"neighborhood\"] = a_df.neighborhood.str.lower()\n",
    "    a_df[\"neighborhood\"] = a_df[\"neighborhood\"].replace(\"stevens square - loring heights\", \"steven's square - loring heights\")\n",
    "    a_df[\"neighborhood\"] = a_df[\"neighborhood\"].replace(\"west calhoun\", \"west maka ska\")\n",
    "    \n",
    "    return a_df\n",
    "    "
   ]
  },
  {
   "cell_type": "code",
   "execution_count": null,
   "id": "cb28acc3",
   "metadata": {},
   "outputs": [],
   "source": [
    "# Breakpoint\n",
    "\n",
    "df = cleanup_df(df)\n",
    "df = df.copy()\n",
    "# df.sort_values(by=\"neighborhood\")"
   ]
  },
  {
   "cell_type": "code",
   "execution_count": null,
   "id": "634d2928",
   "metadata": {},
   "outputs": [],
   "source": [
    "# 480 data points for each neighborhood, accounting for name changes!\n",
    "\n",
    "# df.neighborhood.value_counts()\n",
    "\n"
   ]
  },
  {
   "cell_type": "code",
   "execution_count": null,
   "id": "a267f1f9",
   "metadata": {},
   "outputs": [],
   "source": [
    "# Mpls Neighborhood \"Communities\"\n",
    "\n",
    "CALHOUN_ISLES = [\"bryn - mawr\", \"cedar - isles - dean\", \"east bde maka ska\", \"east isles\", \"kenwood\", \"lowry hill\", \\\n",
    "                 \"lowry hill east\", \"south uptown\", \"west maka ska\"]\n",
    "\n",
    "CAMDEN = [\"camden industrial\", \"cleveland\", \"folwell\", \"humboldt industrial area\", \"lind - bohanon\", \"mckinley\", \\\n",
    "          \"shingle creek\", \"victory\", \"webber - camden\"]\n",
    "\n",
    "CENTRAL = [\"downtown east\", \"downtown west\", \"elliot park\", \"loring park\", \"north loop\", \"steven's square - loring heights\"]\n",
    "\n",
    "LONGFELLOW = [\"cooper\", \"hiawatha\", \"howe\", \"longfellow\", \"seward\"]\n",
    "\n",
    "NEAR_NORTH = [\"harrison\", \"hawthorne\", \"jordan\", \"near - north\", \"sumner - glenwood\", \"willard - hay\"]\n",
    "\n",
    "NOKOMIS = [\"diamond lake\", \"ericsson\", \"field\", \"hale\", \"keewaydin\", \"minnehaha\", \"morris park\", \\\n",
    "           \"northrop\", \"page\", \"regina\", \"wenonah\"]\n",
    "\n",
    "NORTHEAST = [\"audubon park\", \"beltrami\", \"bottineau\", \"columbia park\", \"holland\", \"logan park\", \"marshall terrace\", \\\n",
    "             \"northeast park\", \"sheridan\", \"st. anthony east\", \"st. anthony west\", \"waite park\", \"windom park\"]\n",
    "\n",
    "PHILLIPS = [\"east phillips\", \"midtown phillips\", \"phillips west\", \"ventura village\"]\n",
    "\n",
    "POWDERHORN = [\"bancroft\", \"bryant\", \"central\", \"corcoran\", \"lyndale\", \"powderhorn park\", \"standish\", \"whittier\"]\n",
    " \n",
    "SOUTHWEST = [\"armatage\", \"east harriet\", \"fulton\", \"kenny\", \"king field\", \"linden hills\", \"lynnhurst\", \"tangletown\", \\\n",
    "             \"windom\"]\n",
    "\n",
    "UNIVERSITY = [\"cedar riverside\", \"como\", \"marcy holmes\", \"mid - city industrial\", \"nicollet island - east bank\", \\\n",
    "              \"prospect park - east river road\", \"university of minnesota\"]"
   ]
  },
  {
   "cell_type": "code",
   "execution_count": null,
   "id": "3f7c865c",
   "metadata": {},
   "outputs": [],
   "source": [
    "# Make list of communities names, each a list of neighborhoods\n",
    "\n",
    "COMMUNITIES = [\"CALHOUN_ISLES\", \"CAMDEN\", \"CENTRAL\", \"LONGFELLOW\", \"NEAR_NORTH\", \"NOKOMIS\", \"NORTHEAST\", \\\n",
    "              \"PHILLIPS\", \"POWDERHORN\", \"SOUTHWEST\", \"UNIVERSITY\"]"
   ]
  },
  {
   "cell_type": "code",
   "execution_count": null,
   "id": "e0216e6c",
   "metadata": {},
   "outputs": [],
   "source": [
    "# As per FBI ucr reporting standards\n",
    "\n",
    "violent_crimes = [\"Aggravated Assault\", \"Homicide\", \"Rape\", \"Robbery\"]\n",
    "\n",
    "property_crimes = [\"Arson\", \"Auto Theft\", \"Burglary\", \"Larceny\"]"
   ]
  },
  {
   "cell_type": "code",
   "execution_count": null,
   "id": "1e50e03d",
   "metadata": {},
   "outputs": [],
   "source": [
    "# Narrow down to just months and type of crime I'm interested in\n",
    "\n",
    "before_violent = df[ (df[\"reportMonth\"]==5) & (df[\"reportYear\"]==2020) & (df[\"ucrDescription\"].isin(violent_crimes)) ]\n",
    "before_violent = before_violent.sort_values(by=[\"neighborhood\", \"ucrDescription\"])\n",
    "\n",
    "before_violent = before_violent.drop([\"reportMonth\", \"reportYear\"], axis=1)\n",
    "\n",
    "# before_violent"
   ]
  },
  {
   "cell_type": "code",
   "execution_count": null,
   "id": "a2f64da9",
   "metadata": {},
   "outputs": [],
   "source": [
    "after_violent = df[ (df[\"reportMonth\"]==6) & (df[\"reportYear\"]==2020) & (df[\"ucrDescription\"].isin(violent_crimes)) ]\n",
    "after_violent = after_violent.sort_values(by=[\"neighborhood\", \"ucrDescription\"])\n",
    "\n",
    "after_violent = after_violent.drop([\"reportMonth\", \"reportYear\"], axis=1)\n",
    "\n",
    "# after_violent"
   ]
  },
  {
   "cell_type": "code",
   "execution_count": null,
   "id": "15e314d3",
   "metadata": {},
   "outputs": [],
   "source": [
    "before_property = df[ (df[\"reportMonth\"]==5) & (df[\"reportYear\"]==2020) & (df[\"ucrDescription\"].isin(property_crimes)) ]\n",
    "before_property = before_property.sort_values(by=[\"neighborhood\", \"ucrDescription\"])\n",
    "\n",
    "before_property = before_property.drop([\"reportMonth\", \"reportYear\"], axis=1)\n",
    "\n",
    "# before_property"
   ]
  },
  {
   "cell_type": "code",
   "execution_count": null,
   "id": "bf2b2253",
   "metadata": {},
   "outputs": [],
   "source": [
    "after_property = df[ (df[\"reportMonth\"]==6) & (df[\"reportYear\"]==2020) & (df[\"ucrDescription\"].isin(property_crimes)) ]\n",
    "after_property = after_property.sort_values(by=[\"neighborhood\", \"ucrDescription\"])\n",
    "\n",
    "after_property = after_property.drop([\"reportMonth\", \"reportYear\"], axis=1)\n",
    "\n",
    "# after_property"
   ]
  },
  {
   "cell_type": "code",
   "execution_count": null,
   "id": "67e8d6e4",
   "metadata": {},
   "outputs": [],
   "source": [
    "CALH_bp = int(before_property.loc[ (before_property[\"neighborhood\"].isin(CALHOUN_ISLES)), : ].groupby(\"neighborhood\").sum().sum())\n",
    "\n",
    "CAMD_bp = int(before_property.loc[ (before_property[\"neighborhood\"].isin(CAMDEN)), : ].groupby(\"neighborhood\").sum().sum())\n",
    "\n",
    "CENT_bp = int(before_property.loc[ (before_property[\"neighborhood\"].isin(CENTRAL)), : ].groupby(\"neighborhood\").sum().sum())\n",
    "\n",
    "LONG_bp = int(before_property.loc[ (before_property[\"neighborhood\"].isin(LONGFELLOW)), : ].groupby(\"neighborhood\").sum().sum())\n",
    "\n",
    "NEAR_bp = int(before_property.loc[ (before_property[\"neighborhood\"].isin(NEAR_NORTH)), : ].groupby(\"neighborhood\").sum().sum())\n",
    "\n",
    "NOKO_bp = int(before_property.loc[ (before_property[\"neighborhood\"].isin(NOKOMIS)), : ].groupby(\"neighborhood\").sum().sum())\n",
    "\n",
    "NORT_bp = int(before_property.loc[ (before_property[\"neighborhood\"].isin(NORTHEAST)), : ].groupby(\"neighborhood\").sum().sum())\n",
    "\n",
    "PHIL_bp = int(before_property.loc[ (before_property[\"neighborhood\"].isin(PHILLIPS)), : ].groupby(\"neighborhood\").sum().sum())\n",
    "\n",
    "POWD_bp = int(before_property.loc[ (before_property[\"neighborhood\"].isin(POWDERHORN)), : ].groupby(\"neighborhood\").sum().sum())\n",
    "\n",
    "SOUT_bp = int(before_property.loc[ (before_property[\"neighborhood\"].isin(SOUTHWEST)), : ].groupby(\"neighborhood\").sum().sum())\n",
    "\n",
    "UNIV_bp = int(before_property.loc[ (before_property[\"neighborhood\"].isin(UNIVERSITY)), : ].groupby(\"neighborhood\").sum().sum())\n"
   ]
  },
  {
   "cell_type": "code",
   "execution_count": null,
   "id": "838846c5",
   "metadata": {},
   "outputs": [],
   "source": [
    "CALH_ap = int(after_property.loc[ (after_property[\"neighborhood\"].isin(CALHOUN_ISLES)), : ].groupby(\"neighborhood\").sum().sum())\n",
    "\n",
    "CAMD_ap = int(after_property.loc[ (after_property[\"neighborhood\"].isin(CAMDEN)), : ].groupby(\"neighborhood\").sum().sum())\n",
    "\n",
    "CENT_ap = int(after_property.loc[ (after_property[\"neighborhood\"].isin(CENTRAL)), : ].groupby(\"neighborhood\").sum().sum())\n",
    "\n",
    "LONG_ap = int(after_property.loc[ (after_property[\"neighborhood\"].isin(LONGFELLOW)), : ].groupby(\"neighborhood\").sum().sum())\n",
    "\n",
    "NEAR_ap = int(after_property.loc[ (after_property[\"neighborhood\"].isin(NEAR_NORTH)), : ].groupby(\"neighborhood\").sum().sum())\n",
    "\n",
    "NOKO_ap = int(after_property.loc[ (after_property[\"neighborhood\"].isin(NOKOMIS)), : ].groupby(\"neighborhood\").sum().sum())\n",
    "\n",
    "NORT_ap = int(after_property.loc[ (after_property[\"neighborhood\"].isin(NORTHEAST)), : ].groupby(\"neighborhood\").sum().sum())\n",
    "\n",
    "PHIL_ap = int(after_property.loc[ (after_property[\"neighborhood\"].isin(PHILLIPS)), : ].groupby(\"neighborhood\").sum().sum())\n",
    "\n",
    "POWD_ap = int(after_property.loc[ (after_property[\"neighborhood\"].isin(POWDERHORN)), : ].groupby(\"neighborhood\").sum().sum())\n",
    "\n",
    "SOUT_ap = int(after_property.loc[ (after_property[\"neighborhood\"].isin(SOUTHWEST)), : ].groupby(\"neighborhood\").sum().sum())\n",
    "\n",
    "UNIV_ap = int(after_property.loc[ (after_property[\"neighborhood\"].isin(UNIVERSITY)), : ].groupby(\"neighborhood\").sum().sum())\n"
   ]
  },
  {
   "cell_type": "code",
   "execution_count": null,
   "id": "fcc49758",
   "metadata": {},
   "outputs": [],
   "source": [
    "CALH_bv = int(before_violent.loc[ (before_violent[\"neighborhood\"].isin(CALHOUN_ISLES)), : ].groupby(\"neighborhood\").sum().sum())\n",
    "\n",
    "CAMD_bv = int(before_violent.loc[ (before_violent[\"neighborhood\"].isin(CAMDEN)), : ].groupby(\"neighborhood\").sum().sum())\n",
    "\n",
    "CENT_bv = int(before_violent.loc[ (before_violent[\"neighborhood\"].isin(CENTRAL)), : ].groupby(\"neighborhood\").sum().sum())\n",
    "\n",
    "LONG_bv = int(before_violent.loc[ (before_violent[\"neighborhood\"].isin(LONGFELLOW)), : ].groupby(\"neighborhood\").sum().sum())\n",
    "\n",
    "NEAR_bv = int(before_violent.loc[ (before_violent[\"neighborhood\"].isin(NEAR_NORTH)), : ].groupby(\"neighborhood\").sum().sum())\n",
    "\n",
    "NOKO_bv = int(before_violent.loc[ (before_violent[\"neighborhood\"].isin(NOKOMIS)), : ].groupby(\"neighborhood\").sum().sum())\n",
    "\n",
    "NORT_bv = int(before_violent.loc[ (before_violent[\"neighborhood\"].isin(NORTHEAST)), : ].groupby(\"neighborhood\").sum().sum())\n",
    "\n",
    "PHIL_bv = int(before_violent.loc[ (before_violent[\"neighborhood\"].isin(PHILLIPS)), : ].groupby(\"neighborhood\").sum().sum())\n",
    "\n",
    "POWD_bv = int(before_violent.loc[ (before_violent[\"neighborhood\"].isin(POWDERHORN)), : ].groupby(\"neighborhood\").sum().sum())\n",
    "\n",
    "SOUT_bv = int(before_violent.loc[ (before_violent[\"neighborhood\"].isin(SOUTHWEST)), : ].groupby(\"neighborhood\").sum().sum())\n",
    "\n",
    "UNIV_bv = int(before_violent.loc[ (before_violent[\"neighborhood\"].isin(UNIVERSITY)), : ].groupby(\"neighborhood\").sum().sum())\n"
   ]
  },
  {
   "cell_type": "code",
   "execution_count": null,
   "id": "a4448424",
   "metadata": {},
   "outputs": [],
   "source": [
    "CALH_av = int(after_violent.loc[ (after_violent[\"neighborhood\"].isin(CALHOUN_ISLES)), : ].groupby(\"neighborhood\").sum().sum())\n",
    "\n",
    "CAMD_av = int(after_violent.loc[ (after_violent[\"neighborhood\"].isin(CAMDEN)), : ].groupby(\"neighborhood\").sum().sum())\n",
    "\n",
    "CENT_av = int(after_violent.loc[ (after_violent[\"neighborhood\"].isin(CENTRAL)), : ].groupby(\"neighborhood\").sum().sum())\n",
    "\n",
    "LONG_av = int(after_violent.loc[ (after_violent[\"neighborhood\"].isin(LONGFELLOW)), : ].groupby(\"neighborhood\").sum().sum())\n",
    "\n",
    "NEAR_av = int(after_violent.loc[ (after_violent[\"neighborhood\"].isin(NEAR_NORTH)), : ].groupby(\"neighborhood\").sum().sum())\n",
    "\n",
    "NOKO_av = int(after_violent.loc[ (after_violent[\"neighborhood\"].isin(NOKOMIS)), : ].groupby(\"neighborhood\").sum().sum())\n",
    "\n",
    "NORT_av = int(after_violent.loc[ (after_violent[\"neighborhood\"].isin(NORTHEAST)), : ].groupby(\"neighborhood\").sum().sum())\n",
    "\n",
    "PHIL_av = int(after_violent.loc[ (after_violent[\"neighborhood\"].isin(PHILLIPS)), : ].groupby(\"neighborhood\").sum().sum())\n",
    "\n",
    "POWD_av = int(after_violent.loc[ (after_violent[\"neighborhood\"].isin(POWDERHORN)), : ].groupby(\"neighborhood\").sum().sum())\n",
    "\n",
    "SOUT_av = int(after_violent.loc[ (after_violent[\"neighborhood\"].isin(SOUTHWEST)), : ].groupby(\"neighborhood\").sum().sum())\n",
    "\n",
    "UNIV_av = int(after_violent.loc[ (after_violent[\"neighborhood\"].isin(UNIVERSITY)), : ].groupby(\"neighborhood\").sum().sum())\n"
   ]
  },
  {
   "cell_type": "code",
   "execution_count": null,
   "id": "a2756146",
   "metadata": {},
   "outputs": [],
   "source": [
    "bp = [CALH_bp, CAMD_bp, CENT_bp, LONG_bp, NEAR_bp, NOKO_bp, NORT_bp, PHIL_bp, POWD_bp, SOUT_bp, UNIV_bp]\n",
    "ap = [CALH_ap, CAMD_ap, CENT_ap, LONG_ap, NEAR_ap, NOKO_ap, NORT_ap, PHIL_ap, POWD_ap, SOUT_ap, UNIV_ap]\n",
    "\n",
    "bv = [CALH_bv, CAMD_bv, CENT_bv, LONG_bv, NEAR_bv, NOKO_bv, NORT_bv, PHIL_bv, POWD_bv, SOUT_bv, UNIV_bv]\n",
    "av = [CALH_av, CAMD_av, CENT_av, LONG_av, NEAR_av, NOKO_av, NORT_av, PHIL_av, POWD_av, SOUT_av, UNIV_av]\n",
    "\n",
    "# COMMUNITIES is list of neighborhood communities for plotting"
   ]
  },
  {
   "cell_type": "code",
   "execution_count": null,
   "id": "659aebbf",
   "metadata": {},
   "outputs": [],
   "source": [
    "plot_df_prop = pd.DataFrame(index=COMMUNITIES, data={\"Property_Before\":bp, \"Property_After\":ap, \"%_Chg\": 0})\n",
    "plot_df_viol = pd.DataFrame(index=COMMUNITIES, data={\"Violent_Before\":bv, \"Violent_After\":av, \"%_Chg\": 0})\n",
    "   \n",
    "plot_df_prop[\"%_Chg\"] = ((plot_df_prop[\"Property_After\"] - plot_df_prop[\"Property_Before\"]) / plot_df_prop[\"Property_Before\"]) * 100\n",
    "\n",
    "plot_df_viol[\"%_Chg\"] = ((plot_df_viol[\"Violent_After\"] - plot_df_viol[\"Violent_Before\"]) / plot_df_viol[\"Violent_Before\"]) * 100\n",
    "\n"
   ]
  },
  {
   "cell_type": "code",
   "execution_count": null,
   "id": "2dba1ec6",
   "metadata": {},
   "outputs": [],
   "source": [
    "plot_df_prop.plot.bar(color=[\"blue\",\"green\",\"black\"], figsize=(12,4))\n",
    "plt.ylim(-50, 290)\n",
    "plt.xticks(rotation=45)\n",
    "plt.grid()\n"
   ]
  },
  {
   "cell_type": "code",
   "execution_count": null,
   "id": "54f6fd7f",
   "metadata": {},
   "outputs": [],
   "source": [
    "plot_df_viol.plot.bar(color=[\"blue\",\"green\",\"black\"], figsize=(12,4))\n",
    "plt.ylim(-20, 120)\n",
    "plt.xticks(rotation=45)\n",
    "plt.grid()\n"
   ]
  },
  {
   "cell_type": "code",
   "execution_count": null,
   "id": "5dfc45f2",
   "metadata": {},
   "outputs": [],
   "source": [
    "\n",
    "x = COMMUNITIES\n",
    "y = plot_df_prop[\"%_Chg\"]\n",
    "\n",
    "plt.barh(x, y)\n",
    " \n",
    "for index, value in enumerate(y):\n",
    "    plt.text(round(value,2), index, str(round(value,2)))\n",
    " \n",
    "plt.show()"
   ]
  },
  {
   "cell_type": "code",
   "execution_count": null,
   "id": "74460019",
   "metadata": {},
   "outputs": [],
   "source": []
  },
  {
   "cell_type": "code",
   "execution_count": null,
   "id": "23dd0bc1",
   "metadata": {},
   "outputs": [],
   "source": []
  },
  {
   "cell_type": "code",
   "execution_count": null,
   "id": "1858e2b1",
   "metadata": {},
   "outputs": [],
   "source": []
  },
  {
   "cell_type": "code",
   "execution_count": null,
   "id": "9586fbb9",
   "metadata": {},
   "outputs": [],
   "source": []
  },
  {
   "cell_type": "code",
   "execution_count": null,
   "id": "b3d35eed",
   "metadata": {},
   "outputs": [],
   "source": []
  },
  {
   "cell_type": "code",
   "execution_count": null,
   "id": "18a4911e",
   "metadata": {},
   "outputs": [],
   "source": []
  },
  {
   "cell_type": "code",
   "execution_count": null,
   "id": "51a9a4a9",
   "metadata": {},
   "outputs": [],
   "source": []
  },
  {
   "cell_type": "code",
   "execution_count": null,
   "id": "33b132fc",
   "metadata": {},
   "outputs": [],
   "source": []
  },
  {
   "cell_type": "code",
   "execution_count": null,
   "id": "6e7bb34d",
   "metadata": {},
   "outputs": [],
   "source": [
    "fig = plt.figure(figsize = (20, 5))\n",
    "\n",
    "\n",
    "x_axis = np.arange(len(COMMUNITIES))\n",
    "\n",
    "tick_locations = [value for value in x_axis]\n",
    "\n",
    "plt.xticks(tick_locations, COMMUNITIES)\n",
    "\n",
    " # Tell matplotlib that we will be making a bar chart\n",
    "# Users is our y axis and x_axis is, of course, our x axis\n",
    "# We apply align=\"edge\" to ensure our bars line up with our tick marks\n",
    "\n",
    "plt.bar(x_axis, bp, color='r', alpha=0.5, align=\"center\", width=.1)\n",
    "\n",
    "\n",
    "# Give our chart some labels and a tile\n",
    "\n",
    "plt.title(\"Property Crime (before GF)\")\n",
    "plt.xlabel(\"Mpls Communities\")\n",
    "plt.ylabel(\"Number of Property Crimes\")\n",
    "plt.tight_layout()\n",
    "\n",
    "plt.show()"
   ]
  },
  {
   "cell_type": "code",
   "execution_count": null,
   "id": "fbe81918",
   "metadata": {},
   "outputs": [],
   "source": []
  },
  {
   "cell_type": "code",
   "execution_count": null,
   "id": "4e64cfcf",
   "metadata": {},
   "outputs": [],
   "source": [
    "fig = plt.figure(figsize = (20, 5))\n",
    "\n",
    "\n",
    "x_axis = np.arange(len(COMMUNITIES))\n",
    "\n",
    "tick_locations = [value for value in x_axis]\n",
    "\n",
    "plt.xticks(tick_locations, COMMUNITIES)\n",
    "\n",
    " # Tell matplotlib that we will be making a bar chart\n",
    "# Users is our y axis and x_axis is, of course, our x axis\n",
    "# We apply align=\"edge\" to ensure our bars line up with our tick marks\n",
    "\n",
    "plt.bar(x_axis, ap, color='r', alpha=0.5, align=\"center\", width=.1)\n",
    "\n",
    "\n",
    "# Give our chart some labels and a tile\n",
    "\n",
    "plt.title(\"Property Crime (after GF)\")\n",
    "plt.xlabel(\"Mpls Communities\")\n",
    "plt.ylabel(\"Number of Property Crimes\")\n",
    "plt.tight_layout()\n",
    "\n",
    "plt.show()"
   ]
  },
  {
   "cell_type": "code",
   "execution_count": null,
   "id": "d2e27052",
   "metadata": {},
   "outputs": [],
   "source": [
    "fig = plt.figure(figsize = (20, 5))\n",
    "\n",
    "\n",
    "x_axis = np.arange(len(COMMUNITIES))\n",
    "\n",
    "tick_locations = [value for value in x_axis]\n",
    "\n",
    "plt.xticks(tick_locations, COMMUNITIES)\n",
    "\n",
    " # Tell matplotlib that we will be making a bar chart\n",
    "# Users is our y axis and x_axis is, of course, our x axis\n",
    "# We apply align=\"edge\" to ensure our bars line up with our tick marks\n",
    "\n",
    "plt.bar(x_axis, bv, color='r', alpha=0.5, align=\"center\", width=.1)\n",
    "\n",
    "\n",
    "# Give our chart some labels and a tile\n",
    "\n",
    "plt.title(\"Violent Crime (before GF)\")\n",
    "plt.xlabel(\"Mpls Communities\")\n",
    "plt.ylabel(\"Number of Violent Crimes\")\n",
    "plt.tight_layout()\n",
    "\n",
    "plt.show()"
   ]
  },
  {
   "cell_type": "code",
   "execution_count": null,
   "id": "e2b71286",
   "metadata": {},
   "outputs": [],
   "source": [
    "fig = plt.figure(figsize = (20, 5))\n",
    "\n",
    "x_axis = np.arange(len(COMMUNITIES))\n",
    "\n",
    "tick_locations = [value for value in x_axis]\n",
    "\n",
    "plt.xticks(tick_locations, COMMUNITIES, rotation=45)\n",
    "\n",
    " # Tell matplotlib that we will be making a bar chart\n",
    "# Users is our y axis and x_axis is, of course, our x axis\n",
    "# We apply align=\"edge\" to ensure our bars line up with our tick marks\n",
    "\n",
    "plt.bar(x_axis, av, color='r', alpha=0.5, align=\"edge\")\n",
    "\n",
    "# Give our chart some labels and a tile\n",
    "\n",
    "plt.title(\"Violent Crime (after GF)\")\n",
    "plt.xlabel(\"Mpls Communities\")\n",
    "plt.ylabel(\"Number of Violent Crimes\")\n",
    "plt.tight_layout()\n",
    "\n",
    "plt.show()"
   ]
  },
  {
   "cell_type": "code",
   "execution_count": null,
   "id": "bb2cb2dd",
   "metadata": {},
   "outputs": [],
   "source": [
    "fig = plt.figure(figsize = (20, 5))\n",
    "\n",
    "x = COMMUNITIES\n",
    "y1 = bp\n",
    "y2 = ap\n",
    "  \n",
    "# plot bars in stack manner\n",
    "plt.bar(x, y1, color='r')\n",
    "plt.bar(x, y2, bottom=y1, color='b')\n",
    "plt.show()"
   ]
  },
  {
   "cell_type": "code",
   "execution_count": null,
   "id": "cc526f1a",
   "metadata": {},
   "outputs": [],
   "source": [
    "N = 5\n",
    "menMeans = (20, 35, 30, 35, 27)\n",
    "menStd =   (2, 3, 4, 1, 2)\n",
    "\n",
    "ind = np.arange(N)  # the x locations for the groups\n",
    "width = 0.35       # the width of the bars\n",
    "\n",
    "fig = plt.figure()\n",
    "ax = fig.add_subplot(111)\n",
    "rects1 = ax.bar(ind, menMeans, width, color='royalblue', yerr=menStd)\n",
    "\n",
    "womenMeans = (25, 32, 34, 20, 25)\n",
    "womenStd =   (3, 5, 2, 3, 3)\n",
    "rects2 = ax.bar(ind+width, womenMeans, width, color='seagreen', yerr=womenStd)\n",
    "\n",
    "# add some\n",
    "ax.set_ylabel('Scores')\n",
    "ax.set_title('Scores by group and gender')\n",
    "ax.set_xticks(ind + width / 2)\n",
    "ax.set_xticklabels( ('G1', 'G2', 'G3', 'G4', 'G5') )\n",
    "\n",
    "ax.legend( (rects1[0], rects2[0]), ('Men', 'Women') )\n",
    "\n",
    "plt.show()"
   ]
  },
  {
   "cell_type": "code",
   "execution_count": null,
   "id": "b1aae9ec",
   "metadata": {},
   "outputs": [],
   "source": [
    "team = COMMUNITIES\n",
    "female = bp\n",
    "male = ap\n",
    "\n",
    "fig = plt.figure(figsize = (15, 5))\n",
    "x_axis = np.arange(len(team))\n",
    "\n",
    "# Multi bar Chart\n",
    "\n",
    "plt.bar(x_axis, female, width=.2, label = 'BP', color=\"blue\")\n",
    "plt.bar(x_axis +.2, male, width=.2, label = 'AP', color=\"red\")\n",
    "\n",
    "# Xticks\n",
    "\n",
    "plt.xticks(x_axis+.2/2, team)\n",
    "\n",
    "# Add legend\n",
    "\n",
    "plt.legend()\n",
    "\n",
    "# Display\n",
    "\n",
    "plt.grid()\n",
    "\n",
    "\n",
    "plt.show()"
   ]
  },
  {
   "cell_type": "code",
   "execution_count": null,
   "id": "743ddaeb",
   "metadata": {},
   "outputs": [],
   "source": [
    "print(bp)\n",
    "print(ap)\n",
    "\n",
    "\n",
    "data = {\"Before GF\": bp, \"After GF\": ap}\n",
    "df = pd.DataFrame(data, columns=[\"Before GF\", \"After GF\"], index=COMMUNITIES)\n",
    "\n",
    "print(df)\n",
    "df.plot.barh()\n",
    "plt.grid()\n",
    "plt.show()"
   ]
  },
  {
   "cell_type": "code",
   "execution_count": null,
   "id": "9e1c063e",
   "metadata": {},
   "outputs": [],
   "source": [
    "data = {\"Month Before GF\": bv, \"Month After GF\": av}\n",
    "df = pd.DataFrame(data, columns=[\"Month Before GF\", \"Month After GF\"], index=COMMUNITIES)\n",
    "\n",
    "df.plot.barh()\n",
    "plt.grid()\n",
    "plt.title(\"Violent Crime\")\n",
    "plt.show()"
   ]
  },
  {
   "cell_type": "code",
   "execution_count": null,
   "id": "108eabda",
   "metadata": {},
   "outputs": [],
   "source": [
    "data = {\"Month Before GF\": bp, \"Month After GF\": ap}\n",
    "df = pd.DataFrame(data, columns=[\"Month Before GF\", \"Month After GF\"], index=COMMUNITIES)\n",
    "\n",
    "df.plot.barh()\n",
    "plt.grid()\n",
    "plt.title(\"Property Crime\")\n",
    "plt.show()"
   ]
  },
  {
   "cell_type": "code",
   "execution_count": null,
   "id": "91d48732",
   "metadata": {},
   "outputs": [],
   "source": [
    "data = {\"Month Before GF\": bp, \"Month After GF\": ap}\n",
    "df = pd.DataFrame(data, columns=[\"Month Before GF\", \"Month After GF\"], index=COMMUNITIES)\n",
    "\n",
    "df.plot.box()\n",
    "plt.grid()\n",
    "plt.title(\"Property Crime\")\n",
    "plt.show()"
   ]
  },
  {
   "cell_type": "code",
   "execution_count": null,
   "id": "7f8ab7f2",
   "metadata": {},
   "outputs": [],
   "source": [
    "data = {\"Month Before GF\": bv, \"Month After GF\": av}\n",
    "df = pd.DataFrame(data, columns=[\"Month Before GF\", \"Month After GF\"], index=COMMUNITIES)\n",
    "\n",
    "df.plot.box()\n",
    "plt.grid()\n",
    "plt.title(\"Violent Crime\")\n",
    "plt.show()"
   ]
  },
  {
   "cell_type": "code",
   "execution_count": null,
   "id": "499eae90",
   "metadata": {},
   "outputs": [],
   "source": [
    "st.ttest_ind(bp, ap, equal_var=False) "
   ]
  },
  {
   "cell_type": "code",
   "execution_count": null,
   "id": "8da551d8",
   "metadata": {},
   "outputs": [],
   "source": [
    "st.ttest_ind(bv, av, equal_var=False) "
   ]
  }
 ],
 "metadata": {
  "kernelspec": {
   "display_name": "Python 3 (ipykernel)",
   "language": "python",
   "name": "python3"
  },
  "language_info": {
   "codemirror_mode": {
    "name": "ipython",
    "version": 3
   },
   "file_extension": ".py",
   "mimetype": "text/x-python",
   "name": "python",
   "nbconvert_exporter": "python",
   "pygments_lexer": "ipython3",
   "version": "3.8.13"
  }
 },
 "nbformat": 4,
 "nbformat_minor": 5
}
