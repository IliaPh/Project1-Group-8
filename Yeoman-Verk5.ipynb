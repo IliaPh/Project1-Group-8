{
 "cells": [
  {
   "cell_type": "code",
   "execution_count": 12,
   "id": "1103a348",
   "metadata": {},
   "outputs": [],
   "source": [
    "import pandas as pd\n",
    "import numpy as np\n",
    "import scipy.stats as st\n",
    "import matplotlib.pyplot as plt"
   ]
  },
  {
   "cell_type": "code",
   "execution_count": 13,
   "id": "8f5d6371",
   "metadata": {},
   "outputs": [],
   "source": [
    "pd.options.display.max_rows = 1000\n",
    "\n",
    "df = pd.read_csv(\"mpls_crime_2017-2022.csv\", encoding=\"utf-8\")"
   ]
  },
  {
   "cell_type": "code",
   "execution_count": 14,
   "id": "00bc0666",
   "metadata": {
    "scrolled": true
   },
   "outputs": [
    {
     "data": {
      "text/html": [
       "<div>\n",
       "<style scoped>\n",
       "    .dataframe tbody tr th:only-of-type {\n",
       "        vertical-align: middle;\n",
       "    }\n",
       "\n",
       "    .dataframe tbody tr th {\n",
       "        vertical-align: top;\n",
       "    }\n",
       "\n",
       "    .dataframe thead th {\n",
       "        text-align: right;\n",
       "    }\n",
       "</style>\n",
       "<table border=\"1\" class=\"dataframe\">\n",
       "  <thead>\n",
       "    <tr style=\"text-align: right;\">\n",
       "      <th></th>\n",
       "      <th>neighborhoodCrimeStatisticsID</th>\n",
       "      <th>neighborhood</th>\n",
       "      <th>ucrDescription</th>\n",
       "      <th>number</th>\n",
       "      <th>reportMonth</th>\n",
       "      <th>reportYear</th>\n",
       "    </tr>\n",
       "  </thead>\n",
       "  <tbody>\n",
       "    <tr>\n",
       "      <th>38876</th>\n",
       "      <td>38877</td>\n",
       "      <td>Downtown West</td>\n",
       "      <td>Homicide</td>\n",
       "      <td>0.0</td>\n",
       "      <td>3</td>\n",
       "      <td>2022</td>\n",
       "    </tr>\n",
       "    <tr>\n",
       "      <th>33193</th>\n",
       "      <td>33194</td>\n",
       "      <td>Columbia Park</td>\n",
       "      <td>Arson</td>\n",
       "      <td>0.0</td>\n",
       "      <td>7</td>\n",
       "      <td>2021</td>\n",
       "    </tr>\n",
       "    <tr>\n",
       "      <th>8986</th>\n",
       "      <td>8987</td>\n",
       "      <td>Seward</td>\n",
       "      <td>Auto Theft</td>\n",
       "      <td>7.0</td>\n",
       "      <td>8</td>\n",
       "      <td>2018</td>\n",
       "    </tr>\n",
       "    <tr>\n",
       "      <th>11587</th>\n",
       "      <td>11588</td>\n",
       "      <td>King Field</td>\n",
       "      <td>Burglary</td>\n",
       "      <td>7.0</td>\n",
       "      <td>12</td>\n",
       "      <td>2018</td>\n",
       "    </tr>\n",
       "    <tr>\n",
       "      <th>16443</th>\n",
       "      <td>16444</td>\n",
       "      <td>Hawthorne</td>\n",
       "      <td>Burglary</td>\n",
       "      <td>9.0</td>\n",
       "      <td>7</td>\n",
       "      <td>2019</td>\n",
       "    </tr>\n",
       "  </tbody>\n",
       "</table>\n",
       "</div>"
      ],
      "text/plain": [
       "       neighborhoodCrimeStatisticsID   neighborhood ucrDescription  number  \\\n",
       "38876                          38877  Downtown West       Homicide     0.0   \n",
       "33193                          33194  Columbia Park          Arson     0.0   \n",
       "8986                            8987         Seward     Auto Theft     7.0   \n",
       "11587                          11588     King Field       Burglary     7.0   \n",
       "16443                          16444      Hawthorne       Burglary     9.0   \n",
       "\n",
       "       reportMonth  reportYear  \n",
       "38876            3        2022  \n",
       "33193            7        2021  \n",
       "8986             8        2018  \n",
       "11587           12        2018  \n",
       "16443            7        2019  "
      ]
     },
     "execution_count": 14,
     "metadata": {},
     "output_type": "execute_result"
    }
   ],
   "source": [
    "df.sample(n=5)"
   ]
  },
  {
   "cell_type": "code",
   "execution_count": 15,
   "id": "80d3b6d8",
   "metadata": {},
   "outputs": [],
   "source": [
    "def clean_df(a_df):\n",
    "    \n",
    "    a_df = a_df.drop(\"neighborhoodCrimeStatisticsID\", axis=1)\n",
    "    a_df = a_df.loc[df[\"neighborhood\"] != \"Z_** NOT ASSIGNED **\"]\n",
    "    a_df = a_df.loc[df[\"neighborhood\"] != \"** NOT ASSIGNED **\"]\n",
    "    a_df[\"neighborhood\"] = a_df[\"neighborhood\"].replace(\"CARAG\", \"South Uptown\")\n",
    "    a_df[\"neighborhood\"] = a_df[\"neighborhood\"].replace(\"ECCO\", \"East Bde Maka Ska\")\n",
    "    a_df[\"neighborhood\"] = a_df[\"neighborhood\"].replace(\"WEST CALHOUN\", \"West Maka Ska\")\n",
    "    a_df[\"neighborhood\"] = a_df.neighborhood.str.lower()\n",
    "    a_df[\"neighborhood\"] = a_df[\"neighborhood\"].replace(\"stevens square - loring heights\", \"steven's square - loring heights\")\n",
    "    a_df[\"neighborhood\"] = a_df[\"neighborhood\"].replace(\"west calhoun\", \"west maka ska\")\n",
    "    a_df = a_df.sort_values(by=\"neighborhood\")\n",
    "    \n",
    "    return a_df\n",
    "    "
   ]
  },
  {
   "cell_type": "code",
   "execution_count": 16,
   "id": "cb28acc3",
   "metadata": {},
   "outputs": [],
   "source": [
    "# Breakpoint\n",
    "\n",
    "crime_df = clean_df(df)"
   ]
  },
  {
   "cell_type": "code",
   "execution_count": 17,
   "id": "634d2928",
   "metadata": {},
   "outputs": [
    {
     "data": {
      "text/plain": [
       "armatage                            480\n",
       "morris park                         480\n",
       "powderhorn park                     480\n",
       "phillips west                       480\n",
       "page                                480\n",
       "northrop                            480\n",
       "northeast park                      480\n",
       "north loop                          480\n",
       "nicollet island - east bank         480\n",
       "near - north                        480\n",
       "minnehaha                           480\n",
       "regina                              480\n",
       "midtown phillips                    480\n",
       "mid - city industrial               480\n",
       "mckinley                            480\n",
       "marshall terrace                    480\n",
       "marcy holmes                        480\n",
       "lynnhurst                           480\n",
       "lyndale                             480\n",
       "lowry hill east                     480\n",
       "prospect park - east river road     480\n",
       "seward                              480\n",
       "loring park                         480\n",
       "ventura village                     480\n",
       "windom                              480\n",
       "willard - hay                       480\n",
       "whittier                            480\n",
       "west maka ska                       480\n",
       "wenonah                             480\n",
       "webber - camden                     480\n",
       "waite park                          480\n",
       "victory                             480\n",
       "university of minnesota             480\n",
       "sheridan                            480\n",
       "tangletown                          480\n",
       "sumner - glenwood                   480\n",
       "steven's square - loring heights    480\n",
       "standish                            480\n",
       "st. anthony west                    480\n",
       "st. anthony east                    480\n",
       "south uptown                        480\n",
       "shingle creek                       480\n",
       "lowry hill                          480\n",
       "longfellow                          480\n",
       "audubon park                        480\n",
       "cleveland                           480\n",
       "east bde maka ska                   480\n",
       "downtown west                       480\n",
       "downtown east                       480\n",
       "diamond lake                        480\n",
       "corcoran                            480\n",
       "cooper                              480\n",
       "como                                480\n",
       "columbia park                       480\n",
       "central                             480\n",
       "east isles                          480\n",
       "cedar riverside                     480\n",
       "cedar - isles - dean                480\n",
       "camden industrial                   480\n",
       "bryn - mawr                         480\n",
       "bryant                              480\n",
       "bottineau                           480\n",
       "beltrami                            480\n",
       "bancroft                            480\n",
       "east harriet                        480\n",
       "east phillips                       480\n",
       "logan park                          480\n",
       "howe                                480\n",
       "linden hills                        480\n",
       "lind - bohanon                      480\n",
       "king field                          480\n",
       "kenwood                             480\n",
       "kenny                               480\n",
       "keewaydin                           480\n",
       "jordan                              480\n",
       "humboldt industrial area            480\n",
       "holland                             480\n",
       "elliot park                         480\n",
       "hiawatha                            480\n",
       "hawthorne                           480\n",
       "harrison                            480\n",
       "hale                                480\n",
       "fulton                              480\n",
       "folwell                             480\n",
       "field                               480\n",
       "ericsson                            480\n",
       "windom park                         480\n",
       "Name: neighborhood, dtype: int64"
      ]
     },
     "execution_count": 17,
     "metadata": {},
     "output_type": "execute_result"
    }
   ],
   "source": [
    "# 480 data points for each neighborhood, accounting for name changes!\n",
    "\n",
    "crime_df.neighborhood.value_counts()"
   ]
  },
  {
   "cell_type": "code",
   "execution_count": null,
   "id": "a267f1f9",
   "metadata": {},
   "outputs": [],
   "source": [
    "# Mpls Neighborhood \"Communities\"\n",
    "\n",
    "CALHOUN_ISLES = [\"bryn - mawr\", \"cedar - isles - dean\", \"east bde maka ska\", \"east isles\", \"kenwood\", \"lowry hill\", \\\n",
    "                 \"lowry hill east\", \"south uptown\", \"west maka ska\"]\n",
    "\n",
    "CAMDEN = [\"camden industrial\", \"cleveland\", \"folwell\", \"humboldt industrial area\", \"lind - bohanon\", \"mckinley\", \"shingle creek\", \"victory\", \"webber - camden\"]\n",
    "\n",
    "CENTRAL = [\"downtown east\", \"downtown west\", \"elliot park\", \"loring park\", \"north loop\", \"steven's square - loring heights\"]\n",
    "\n",
    "LONGFELLOW = [\"cooper\", \"hiawatha\", \"howe\", \"longfellow\", \"seward\"]\n",
    "\n",
    "NEAR_NORTH = [\"harrison\", \"hawthorne\", \"jordan\", \"near - north\", \"sumner - glenwood\", \"willard - hay\"]\n",
    "\n",
    "NOKOMIS = [\"diamond lake\", \"ericsson\", \"field\", \"hale\", \"keewaydin\", \"minnehaha\", \"morris park\", \\\n",
    "           \"northrop\", \"page\", \"regina\", \"wenonah\"]\n",
    "\n",
    "NORTHEAST = [\"audubon park\", \"beltrami\", \"bottineau\", \"columbia park\", \"holland\", \"logan park\", \"marshall terrace\", \\\n",
    "             \"northeast park\", \"sheridan\", \"st. anthony east\", \"st. anthony west\", \"waite park\", \"windom park\"]\n",
    "\n",
    "PHILLIPS = [\"east phillips\", \"midtown phillips\", \"phillips west\", \"ventura village\"]\n",
    "\n",
    "POWDERHORN = [\"bancroft\", \"bryant\", \"central\", \"corcoran\", \"lyndale\", \"powderhorn park\", \"standish\", \"whittier\"]\n",
    "\n",
    "SOUTHWEST = [\"armatage\", \"east harriet\", \"fulton\", \"kenny\", \"king field\", \"linden hills\", \"lynnhurst\", \"tangletown\", \"windom\"]\n",
    "\n",
    "UNIVERSITY = [\"cedar riverside\", \"como\", \"marcy holmes\", \"mid - city industrial\", \"nicollet island - east bank\", \"prospect park - east river road\", \"university of minnesota\"]"
   ]
  },
  {
   "cell_type": "code",
   "execution_count": 7,
   "id": "3f7c865c",
   "metadata": {},
   "outputs": [],
   "source": [
    "# Make list of communities names, each a list of neighborhoods\n",
    "\n",
    "COMMUNITIES = [CALHOUN_ISLES, CAMDEN, CENTRAL, LONGFELLOW, NEAR_NORTH, NOKOMIS, NORTHEAST, \\\n",
    "              PHILLIPS, POWDERHORN, SOUTHWEST, UNIVERSITY]"
   ]
  },
  {
   "cell_type": "code",
   "execution_count": 8,
   "id": "e0216e6c",
   "metadata": {},
   "outputs": [],
   "source": [
    "# As per FBI ucr reporting standards\n",
    "\n",
    "violent_crimes = [\"Aggravated Assault\", \"Homicide\", \"Rape\", \"Robbery\"]\n",
    "\n",
    "property_crimes = [\"Arson\", \"Auto Theft\", \"Burglary\", \"Larceny\"]"
   ]
  },
  {
   "cell_type": "code",
   "execution_count": 9,
   "id": "bf2b2253",
   "metadata": {},
   "outputs": [],
   "source": [
    "# Narrow down to just months and type of crime I'm interested in\n",
    "\n",
    "before_violent = df[ (df[\"reportMonth\"]==5) & (df[\"reportYear\"]==2020) & (df[\"ucrDescription\"].isin(violent_crimes)) ]\n",
    "before_violent = before_violent.sort_values(by=[\"neighborhood\", \"ucrDescription\"])\n",
    "before_violent = before_violent.drop([\"reportMonth\", \"reportYear\"], axis=1)\n",
    "\n",
    "\n",
    "after_violent = df[ (df[\"reportMonth\"]==6) & (df[\"reportYear\"]==2020) & (df[\"ucrDescription\"].isin(violent_crimes)) ]\n",
    "after_violent = after_violent.sort_values(by=[\"neighborhood\", \"ucrDescription\"])\n",
    "after_violent = after_violent.drop([\"reportMonth\", \"reportYear\"], axis=1)\n",
    "\n",
    "before_property = df[ (df[\"reportMonth\"]==5) & (df[\"reportYear\"]==2020) & (df[\"ucrDescription\"].isin(property_crimes)) ]\n",
    "before_property = before_property.sort_values(by=[\"neighborhood\", \"ucrDescription\"])\n",
    "before_property = before_property.drop([\"reportMonth\", \"reportYear\"], axis=1)\n",
    "\n",
    "\n",
    "after_property = df[ (df[\"reportMonth\"]==6) & (df[\"reportYear\"]==2020) & (df[\"ucrDescription\"].isin(property_crimes)) ]\n",
    "after_property = after_property.sort_values(by=[\"neighborhood\", \"ucrDescription\"])\n",
    "after_property = after_property.drop([\"reportMonth\", \"reportYear\"], axis=1)"
   ]
  },
  {
   "cell_type": "code",
   "execution_count": null,
   "id": "151524a7",
   "metadata": {},
   "outputs": [],
   "source": [
    "# Now have the 4 principal dfs I will use for all further work:\n",
    "        \n",
    "    '''\n",
    "        \n",
    "        1. before_violent\n",
    "        2. after_violent\n",
    "        3. before_property\n",
    "        4. after_property\n",
    "        \n",
    "    '''\n",
    "\n",
    "# I will split these into df by Mpls COMMUNITY, then run aggs and return series for plotting!\n",
    "\n",
    "# CALHOUN_ISLES, CAMDEN, CENTRAL, LONGFELLOW, NEAR_NORTH, NOKOMIS, NORTHEAST, PHILLIPS, POWDERHORN, SOUTHWEST, UNIVERSITY\n",
    "\n",
    "# Naming scheme:\n",
    "\n",
    "    '''\n",
    "    \n",
    "        CALH = CALHOUN_ISLES\n",
    "        CAMD = CAMDEN\n",
    "        CENT = CENTRAL\n",
    "        LONG = LONGFELLOW\n",
    "        NEAR = NEAR_NORTH\n",
    "        NOKO = NOKOMIS\n",
    "        NORT = NORTHEAST\n",
    "        PHIL = PHILLIPS\n",
    "        POWD = POWDERHORN\n",
    "        SOUT = SOUTHWEST\n",
    "        UNIV = UNIVERSITY\n",
    "\n",
    "    '''"
   ]
  },
  {
   "cell_type": "code",
   "execution_count": 16,
   "id": "2d451bd1",
   "metadata": {},
   "outputs": [
    {
     "data": {
      "text/plain": [
       "<AxesSubplot:ylabel='neighborhood'>"
      ]
     },
     "execution_count": 16,
     "metadata": {},
     "output_type": "execute_result"
    },
    {
     "data": {
      "image/png": "[encoded data removed]",
      "text/plain": [
       "<Figure size 432x288 with 1 Axes>"
      ]
     },
     "metadata": {
      "needs_background": "light"
     },
     "output_type": "display_data"
    }
   ],
   "source": [
    "bp_CALHOUN_ISLES = before_property.loc[  (before_property[\"neighborhood\"].isin(CALHOUN_ISLES))  ]\n",
    "bp_CALHOUN_ISLES = bp_CALHOUN_ISLES.sort_values(by=\"neighborhood\")\n",
    "\n",
    "bp_CALHOUN_ISLES = before_property.loc[  (before_property[\"neighborhood\"].isin(CALHOUN_ISLES))  ]\n",
    "bp_CALHOUN_ISLES = bp_CALHOUN_ISLES.sort_values(by=\"neighborhood\")\n",
    "\n",
    "bp_CALHOUN_ISLES = before_property.loc[  (before_property[\"neighborhood\"].isin(CALHOUN_ISLES))  ]\n",
    "bp_CALHOUN_ISLES = bp_CALHOUN_ISLES.sort_values(by=\"neighborhood\")\n",
    "\n",
    "bp_CALHOUN_ISLES = before_property.loc[  (before_property[\"neighborhood\"].isin(CALHOUN_ISLES))  ]\n",
    "bp_CALHOUN_ISLES = bp_CALHOUN_ISLES.sort_values(by=\"neighborhood\")\n",
    "\n",
    "bp_CALHOUN_ISLES = before_property.loc[  (before_property[\"neighborhood\"].isin(CALHOUN_ISLES))  ]\n",
    "bp_CALHOUN_ISLES = bp_CALHOUN_ISLES.sort_values(by=\"neighborhood\")\n",
    "\n",
    "bp_CALHOUN_ISLES = before_property.loc[  (before_property[\"neighborhood\"].isin(CALHOUN_ISLES))  ]\n",
    "bp_CALHOUN_ISLES = bp_CALHOUN_ISLES.sort_values(by=\"neighborhood\")\n",
    "\n",
    "bp_CALHOUN_ISLES = before_property.loc[  (before_property[\"neighborhood\"].isin(CALHOUN_ISLES))  ]\n",
    "bp_CALHOUN_ISLES = bp_CALHOUN_ISLES.sort_values(by=\"neighborhood\")\n",
    "\n",
    "bp_CALHOUN_ISLES = before_property.loc[  (before_property[\"neighborhood\"].isin(CALHOUN_ISLES))  ]\n",
    "bp_CALHOUN_ISLES = bp_CALHOUN_ISLES.sort_values(by=\"neighborhood\")\n",
    "\n",
    "bp_CALHOUN_ISLES = before_property.loc[  (before_property[\"neighborhood\"].isin(CALHOUN_ISLES))  ]\n",
    "bp_CALHOUN_ISLES = bp_CALHOUN_ISLES.sort_values(by=\"neighborhood\")\n",
    "\n",
    "bp_CALHOUN_ISLES = before_property.loc[  (before_property[\"neighborhood\"].isin(CALHOUN_ISLES))  ]\n",
    "bp_CALHOUN_ISLES = bp_CALHOUN_ISLES.sort_values(by=\"neighborhood\")\n",
    "\n",
    "\n",
    "\n",
    "\n",
    "\n",
    "\n",
    "final_bp_CALHOUN_ISLES = bp_CALHOUN_ISLES.groupby(\"neighborhood\")[\"number\"].sum()\n",
    "final_bp_CALHOUN_ISLES = final_bp_CALHOUN_ISLES.sort_values()\n",
    "\n",
    "total_beforepropertycrime_CALHOUN_ISLES = final_bp_CALHOUN_ISLES.sum()\n",
    "\n",
    "final_bp_CALHOUN_ISLES.plot(kind=\"barh\")"
   ]
  },
  {
   "cell_type": "code",
   "execution_count": 24,
   "id": "16d0221c",
   "metadata": {},
   "outputs": [
    {
     "data": {
      "text/html": [
       "<div>\n",
       "<style scoped>\n",
       "    .dataframe tbody tr th:only-of-type {\n",
       "        vertical-align: middle;\n",
       "    }\n",
       "\n",
       "    .dataframe tbody tr th {\n",
       "        vertical-align: top;\n",
       "    }\n",
       "\n",
       "    .dataframe thead th {\n",
       "        text-align: right;\n",
       "    }\n",
       "</style>\n",
       "<table border=\"1\" class=\"dataframe\">\n",
       "  <thead>\n",
       "    <tr style=\"text-align: right;\">\n",
       "      <th></th>\n",
       "      <th>neighborhood</th>\n",
       "      <th>ucrDescription</th>\n",
       "      <th>number</th>\n",
       "    </tr>\n",
       "  </thead>\n",
       "  <tbody>\n",
       "    <tr>\n",
       "      <th>23281</th>\n",
       "      <td>bryn - mawr</td>\n",
       "      <td>Arson</td>\n",
       "      <td>0.0</td>\n",
       "    </tr>\n",
       "    <tr>\n",
       "      <th>23282</th>\n",
       "      <td>bryn - mawr</td>\n",
       "      <td>Auto Theft</td>\n",
       "      <td>1.0</td>\n",
       "    </tr>\n",
       "    <tr>\n",
       "      <th>23283</th>\n",
       "      <td>bryn - mawr</td>\n",
       "      <td>Burglary</td>\n",
       "      <td>3.0</td>\n",
       "    </tr>\n",
       "    <tr>\n",
       "      <th>23285</th>\n",
       "      <td>bryn - mawr</td>\n",
       "      <td>Larceny</td>\n",
       "      <td>1.0</td>\n",
       "    </tr>\n",
       "    <tr>\n",
       "      <th>23305</th>\n",
       "      <td>cedar - isles - dean</td>\n",
       "      <td>Arson</td>\n",
       "      <td>0.0</td>\n",
       "    </tr>\n",
       "    <tr>\n",
       "      <th>23306</th>\n",
       "      <td>cedar - isles - dean</td>\n",
       "      <td>Auto Theft</td>\n",
       "      <td>3.0</td>\n",
       "    </tr>\n",
       "    <tr>\n",
       "      <th>23307</th>\n",
       "      <td>cedar - isles - dean</td>\n",
       "      <td>Burglary</td>\n",
       "      <td>5.0</td>\n",
       "    </tr>\n",
       "    <tr>\n",
       "      <th>23309</th>\n",
       "      <td>cedar - isles - dean</td>\n",
       "      <td>Larceny</td>\n",
       "      <td>12.0</td>\n",
       "    </tr>\n",
       "    <tr>\n",
       "      <th>23397</th>\n",
       "      <td>east bde maka ska</td>\n",
       "      <td>Larceny</td>\n",
       "      <td>3.0</td>\n",
       "    </tr>\n",
       "    <tr>\n",
       "      <th>23395</th>\n",
       "      <td>east bde maka ska</td>\n",
       "      <td>Burglary</td>\n",
       "      <td>5.0</td>\n",
       "    </tr>\n",
       "    <tr>\n",
       "      <th>23393</th>\n",
       "      <td>east bde maka ska</td>\n",
       "      <td>Arson</td>\n",
       "      <td>0.0</td>\n",
       "    </tr>\n",
       "    <tr>\n",
       "      <th>23394</th>\n",
       "      <td>east bde maka ska</td>\n",
       "      <td>Auto Theft</td>\n",
       "      <td>1.0</td>\n",
       "    </tr>\n",
       "    <tr>\n",
       "      <th>23409</th>\n",
       "      <td>east isles</td>\n",
       "      <td>Arson</td>\n",
       "      <td>0.0</td>\n",
       "    </tr>\n",
       "    <tr>\n",
       "      <th>23410</th>\n",
       "      <td>east isles</td>\n",
       "      <td>Auto Theft</td>\n",
       "      <td>1.0</td>\n",
       "    </tr>\n",
       "    <tr>\n",
       "      <th>23411</th>\n",
       "      <td>east isles</td>\n",
       "      <td>Burglary</td>\n",
       "      <td>9.0</td>\n",
       "    </tr>\n",
       "    <tr>\n",
       "      <th>23413</th>\n",
       "      <td>east isles</td>\n",
       "      <td>Larceny</td>\n",
       "      <td>9.0</td>\n",
       "    </tr>\n",
       "    <tr>\n",
       "      <th>23549</th>\n",
       "      <td>kenwood</td>\n",
       "      <td>Larceny</td>\n",
       "      <td>4.0</td>\n",
       "    </tr>\n",
       "    <tr>\n",
       "      <th>23547</th>\n",
       "      <td>kenwood</td>\n",
       "      <td>Burglary</td>\n",
       "      <td>1.0</td>\n",
       "    </tr>\n",
       "    <tr>\n",
       "      <th>23546</th>\n",
       "      <td>kenwood</td>\n",
       "      <td>Auto Theft</td>\n",
       "      <td>0.0</td>\n",
       "    </tr>\n",
       "    <tr>\n",
       "      <th>23545</th>\n",
       "      <td>kenwood</td>\n",
       "      <td>Arson</td>\n",
       "      <td>0.0</td>\n",
       "    </tr>\n",
       "    <tr>\n",
       "      <th>23601</th>\n",
       "      <td>lowry hill</td>\n",
       "      <td>Arson</td>\n",
       "      <td>0.0</td>\n",
       "    </tr>\n",
       "    <tr>\n",
       "      <th>23602</th>\n",
       "      <td>lowry hill</td>\n",
       "      <td>Auto Theft</td>\n",
       "      <td>0.0</td>\n",
       "    </tr>\n",
       "    <tr>\n",
       "      <th>23603</th>\n",
       "      <td>lowry hill</td>\n",
       "      <td>Burglary</td>\n",
       "      <td>2.0</td>\n",
       "    </tr>\n",
       "    <tr>\n",
       "      <th>23605</th>\n",
       "      <td>lowry hill</td>\n",
       "      <td>Larceny</td>\n",
       "      <td>9.0</td>\n",
       "    </tr>\n",
       "    <tr>\n",
       "      <th>23611</th>\n",
       "      <td>lowry hill east</td>\n",
       "      <td>Burglary</td>\n",
       "      <td>30.0</td>\n",
       "    </tr>\n",
       "    <tr>\n",
       "      <th>23613</th>\n",
       "      <td>lowry hill east</td>\n",
       "      <td>Larceny</td>\n",
       "      <td>25.0</td>\n",
       "    </tr>\n",
       "    <tr>\n",
       "      <th>23609</th>\n",
       "      <td>lowry hill east</td>\n",
       "      <td>Arson</td>\n",
       "      <td>0.0</td>\n",
       "    </tr>\n",
       "    <tr>\n",
       "      <th>23610</th>\n",
       "      <td>lowry hill east</td>\n",
       "      <td>Auto Theft</td>\n",
       "      <td>6.0</td>\n",
       "    </tr>\n",
       "    <tr>\n",
       "      <th>23289</th>\n",
       "      <td>south uptown</td>\n",
       "      <td>Arson</td>\n",
       "      <td>0.0</td>\n",
       "    </tr>\n",
       "    <tr>\n",
       "      <th>23290</th>\n",
       "      <td>south uptown</td>\n",
       "      <td>Auto Theft</td>\n",
       "      <td>4.0</td>\n",
       "    </tr>\n",
       "    <tr>\n",
       "      <th>23291</th>\n",
       "      <td>south uptown</td>\n",
       "      <td>Burglary</td>\n",
       "      <td>10.0</td>\n",
       "    </tr>\n",
       "    <tr>\n",
       "      <th>23293</th>\n",
       "      <td>south uptown</td>\n",
       "      <td>Larceny</td>\n",
       "      <td>8.0</td>\n",
       "    </tr>\n",
       "    <tr>\n",
       "      <th>23891</th>\n",
       "      <td>west maka ska</td>\n",
       "      <td>Burglary</td>\n",
       "      <td>8.0</td>\n",
       "    </tr>\n",
       "    <tr>\n",
       "      <th>23889</th>\n",
       "      <td>west maka ska</td>\n",
       "      <td>Arson</td>\n",
       "      <td>0.0</td>\n",
       "    </tr>\n",
       "    <tr>\n",
       "      <th>23890</th>\n",
       "      <td>west maka ska</td>\n",
       "      <td>Auto Theft</td>\n",
       "      <td>1.0</td>\n",
       "    </tr>\n",
       "    <tr>\n",
       "      <th>23893</th>\n",
       "      <td>west maka ska</td>\n",
       "      <td>Larceny</td>\n",
       "      <td>10.0</td>\n",
       "    </tr>\n",
       "  </tbody>\n",
       "</table>\n",
       "</div>"
      ],
      "text/plain": [
       "               neighborhood ucrDescription  number\n",
       "23281           bryn - mawr          Arson     0.0\n",
       "23282           bryn - mawr     Auto Theft     1.0\n",
       "23283           bryn - mawr       Burglary     3.0\n",
       "23285           bryn - mawr        Larceny     1.0\n",
       "23305  cedar - isles - dean          Arson     0.0\n",
       "23306  cedar - isles - dean     Auto Theft     3.0\n",
       "23307  cedar - isles - dean       Burglary     5.0\n",
       "23309  cedar - isles - dean        Larceny    12.0\n",
       "23397     east bde maka ska        Larceny     3.0\n",
       "23395     east bde maka ska       Burglary     5.0\n",
       "23393     east bde maka ska          Arson     0.0\n",
       "23394     east bde maka ska     Auto Theft     1.0\n",
       "23409            east isles          Arson     0.0\n",
       "23410            east isles     Auto Theft     1.0\n",
       "23411            east isles       Burglary     9.0\n",
       "23413            east isles        Larceny     9.0\n",
       "23549               kenwood        Larceny     4.0\n",
       "23547               kenwood       Burglary     1.0\n",
       "23546               kenwood     Auto Theft     0.0\n",
       "23545               kenwood          Arson     0.0\n",
       "23601            lowry hill          Arson     0.0\n",
       "23602            lowry hill     Auto Theft     0.0\n",
       "23603            lowry hill       Burglary     2.0\n",
       "23605            lowry hill        Larceny     9.0\n",
       "23611       lowry hill east       Burglary    30.0\n",
       "23613       lowry hill east        Larceny    25.0\n",
       "23609       lowry hill east          Arson     0.0\n",
       "23610       lowry hill east     Auto Theft     6.0\n",
       "23289          south uptown          Arson     0.0\n",
       "23290          south uptown     Auto Theft     4.0\n",
       "23291          south uptown       Burglary    10.0\n",
       "23293          south uptown        Larceny     8.0\n",
       "23891         west maka ska       Burglary     8.0\n",
       "23889         west maka ska          Arson     0.0\n",
       "23890         west maka ska     Auto Theft     1.0\n",
       "23893         west maka ska        Larceny    10.0"
      ]
     },
     "execution_count": 24,
     "metadata": {},
     "output_type": "execute_result"
    }
   ],
   "source": [
    "bp_CALHOUN_ISLES"
   ]
  },
  {
   "cell_type": "code",
   "execution_count": 27,
   "id": "b3da318e",
   "metadata": {},
   "outputs": [],
   "source": [
    "def get_community_totals(a_df):\n",
    "    \n",
    "    \"\"\" Returns Series \"\"\"\n",
    "    \n",
    "    return (\n",
    "                 a_df\n",
    "                    .sort_values(by=\"neighborhood\")\n",
    "                    .groupby(\"neighborhood\")\n",
    "                    [\"number\"]\n",
    "                    .sum()\n",
    "                    \n",
    "           )\n",
    "    \n",
    "  \n",
    "    \n",
    "    \n",
    "    "
   ]
  },
  {
   "cell_type": "code",
   "execution_count": 28,
   "id": "6b70cf41",
   "metadata": {},
   "outputs": [
    {
     "data": {
      "text/plain": [
       "<AxesSubplot:ylabel='neighborhood'>"
      ]
     },
     "execution_count": 28,
     "metadata": {},
     "output_type": "execute_result"
    },
    {
     "data": {
      "image/png": "[encoded data removed]",
      "text/plain": [
       "<Figure size 432x288 with 1 Axes>"
      ]
     },
     "metadata": {
      "needs_background": "light"
     },
     "output_type": "display_data"
    }
   ],
   "source": [
    "get_community_totals(bp_CALHOUN_ISLES).plot(kind=\"barh\")"
   ]
  },
  {
   "cell_type": "code",
   "execution_count": null,
   "id": "bfef9ae0",
   "metadata": {},
   "outputs": [],
   "source": []
  },
  {
   "cell_type": "code",
   "execution_count": null,
   "id": "d76757e2",
   "metadata": {},
   "outputs": [],
   "source": []
  },
  {
   "cell_type": "code",
   "execution_count": null,
   "id": "71898c6d",
   "metadata": {},
   "outputs": [],
   "source": []
  },
  {
   "cell_type": "code",
   "execution_count": null,
   "id": "1b225855",
   "metadata": {},
   "outputs": [],
   "source": []
  },
  {
   "cell_type": "code",
   "execution_count": null,
   "id": "69cc1338",
   "metadata": {},
   "outputs": [],
   "source": []
  },
  {
   "cell_type": "code",
   "execution_count": null,
   "id": "2cf12e50",
   "metadata": {},
   "outputs": [],
   "source": []
  },
  {
   "cell_type": "code",
   "execution_count": null,
   "id": "ffe7cffd",
   "metadata": {},
   "outputs": [],
   "source": []
  },
  {
   "cell_type": "code",
   "execution_count": null,
   "id": "59498b9a",
   "metadata": {},
   "outputs": [],
   "source": []
  },
  {
   "cell_type": "code",
   "execution_count": null,
   "id": "e9f6ba2b",
   "metadata": {},
   "outputs": [],
   "source": []
  },
  {
   "cell_type": "code",
   "execution_count": null,
   "id": "b3a4844f",
   "metadata": {},
   "outputs": [],
   "source": []
  },
  {
   "cell_type": "code",
   "execution_count": null,
   "id": "0cbd1857",
   "metadata": {},
   "outputs": [],
   "source": [
    "ap_CALHOUN_ISLES = after_property.loc[  (after_property[\"neighborhood\"].isin(CALHOUN_ISLES))  ]\n",
    "\n",
    "ap_CALHOUN_ISLES\n",
    "\n",
    "# bv_CALHOUN_ISLES\n",
    "# av_CALHOUN_ISLES"
   ]
  },
  {
   "cell_type": "code",
   "execution_count": null,
   "id": "9f65eac6",
   "metadata": {},
   "outputs": [],
   "source": [
    "bp_CAMDEN\n",
    "ap_CAMDEN\n",
    "bv_CAMDEN\n",
    "av_CAMDEN"
   ]
  },
  {
   "cell_type": "code",
   "execution_count": null,
   "id": "f72a167f",
   "metadata": {},
   "outputs": [],
   "source": [
    "bp_CENTRAL\n",
    "ap_CENTRAL\n",
    "bv_CENTRAL\n",
    "av_CENTRAL"
   ]
  },
  {
   "cell_type": "code",
   "execution_count": null,
   "id": "a26c201e",
   "metadata": {},
   "outputs": [],
   "source": [
    "bp_LONGFELLOW\n",
    "ap_LONGFELLOW\n",
    "bv_LONGFELLOW\n",
    "av_LONGFELLOW"
   ]
  },
  {
   "cell_type": "code",
   "execution_count": null,
   "id": "553ffebe",
   "metadata": {},
   "outputs": [],
   "source": [
    "bp_NEAR_NORTH\n",
    "ap_NEAR_NORTH\n",
    "bv_NEAR_NORTH\n",
    "av_NEAR_NORTH"
   ]
  },
  {
   "cell_type": "code",
   "execution_count": null,
   "id": "6aa66a8b",
   "metadata": {},
   "outputs": [],
   "source": [
    "bp_NOKOMIS\n",
    "ap_NOKOMIS\n",
    "bv_NOKOMIS\n",
    "av_NOKOMIS"
   ]
  },
  {
   "cell_type": "code",
   "execution_count": null,
   "id": "b2fb1d4c",
   "metadata": {},
   "outputs": [],
   "source": [
    "bp_NORTHEAST\n",
    "ap_NORTHEAST\n",
    "bv_NORTHEAST\n",
    "av_NORTHEAST"
   ]
  },
  {
   "cell_type": "code",
   "execution_count": null,
   "id": "b5399f87",
   "metadata": {},
   "outputs": [],
   "source": [
    "bp_PHILLIPS\n",
    "ap_PHILLIPS\n",
    "bv_PHILLIPS\n",
    "av_PHILLIPS"
   ]
  },
  {
   "cell_type": "code",
   "execution_count": null,
   "id": "09bab306",
   "metadata": {},
   "outputs": [],
   "source": [
    "bp_POWDERHORN\n",
    "ap_POWDERHORN\n",
    "bv_POWDERHORN\n",
    "av_POWDERHORN"
   ]
  },
  {
   "cell_type": "code",
   "execution_count": null,
   "id": "2cc80955",
   "metadata": {},
   "outputs": [],
   "source": [
    "bp_SOUTHWEST\n",
    "ap_SOUTHWEST\n",
    "bv_SOUTHWEST\n",
    "av_SOUTHWEST"
   ]
  },
  {
   "cell_type": "code",
   "execution_count": null,
   "id": "7cde0ada",
   "metadata": {},
   "outputs": [],
   "source": [
    "bp_UNIVERSITY\n",
    "ap_UNIVERSITY\n",
    "bv_UNIVERSITY\n",
    "av_UNIVERSITY"
   ]
  },
  {
   "cell_type": "code",
   "execution_count": null,
   "id": "2977edc2",
   "metadata": {},
   "outputs": [],
   "source": [
    "def run_agg(a_df):\n",
    "    \"\"\" Return Series \"\"\"\n",
    "    return a_df.groupby([\"neighborhood\", \"ucrDescription\"])[\"number\"].sum()      "
   ]
  },
  {
   "cell_type": "code",
   "execution_count": null,
   "id": "4e7d98a9",
   "metadata": {},
   "outputs": [],
   "source": [
    "run_agg(before_property)"
   ]
  },
  {
   "cell_type": "code",
   "execution_count": null,
   "id": "32b90b1c",
   "metadata": {},
   "outputs": [],
   "source": []
  },
  {
   "cell_type": "code",
   "execution_count": null,
   "id": "39d7c0a1",
   "metadata": {},
   "outputs": [],
   "source": []
  },
  {
   "cell_type": "code",
   "execution_count": null,
   "id": "264fca60",
   "metadata": {},
   "outputs": [],
   "source": []
  },
  {
   "cell_type": "code",
   "execution_count": null,
   "id": "e842fa6f",
   "metadata": {},
   "outputs": [],
   "source": [
    "before_grp = before.groupby([\"neighborhood\", \"ucrDescription\"])\n",
    "after_grp = after.groupby([\"neighborhood\", \"ucrDescription\"])"
   ]
  },
  {
   "cell_type": "code",
   "execution_count": null,
   "id": "aec1d8f6",
   "metadata": {},
   "outputs": [],
   "source": [
    "before_agg = before_grp[\"number\"].sum()\n",
    "after_agg = after_grp[\"number\"].sum()"
   ]
  },
  {
   "cell_type": "code",
   "execution_count": null,
   "id": "16aedbfc",
   "metadata": {},
   "outputs": [],
   "source": []
  },
  {
   "cell_type": "code",
   "execution_count": null,
   "id": "7c0ecf4d",
   "metadata": {},
   "outputs": [],
   "source": []
  },
  {
   "cell_type": "code",
   "execution_count": null,
   "id": "a42a2a7f",
   "metadata": {},
   "outputs": [],
   "source": []
  },
  {
   "cell_type": "code",
   "execution_count": null,
   "id": "93c189a7",
   "metadata": {},
   "outputs": [],
   "source": []
  },
  {
   "cell_type": "code",
   "execution_count": null,
   "id": "846b3235",
   "metadata": {},
   "outputs": [],
   "source": []
  },
  {
   "cell_type": "code",
   "execution_count": null,
   "id": "74014906",
   "metadata": {},
   "outputs": [],
   "source": []
  },
  {
   "cell_type": "code",
   "execution_count": null,
   "id": "e46d429a",
   "metadata": {},
   "outputs": [],
   "source": [
    "before_agg[:24].unstack().plot.bar()"
   ]
  },
  {
   "cell_type": "code",
   "execution_count": null,
   "id": "81e3bbab",
   "metadata": {},
   "outputs": [],
   "source": [
    "after_agg[:24].unstack().plot.bar()"
   ]
  },
  {
   "cell_type": "code",
   "execution_count": null,
   "id": "3125a99e",
   "metadata": {},
   "outputs": [],
   "source": []
  },
  {
   "cell_type": "code",
   "execution_count": null,
   "id": "aff22bc7",
   "metadata": {},
   "outputs": [],
   "source": []
  },
  {
   "cell_type": "code",
   "execution_count": null,
   "id": "8987fb2b",
   "metadata": {},
   "outputs": [],
   "source": [
    "before_property.sort_values(by=[\"neighborhood\", \"ucrDescription\"])\n",
    "after_property.sort_values(by=[\"neighborhood\", \"ucrDescription\"])\n",
    "\n",
    "before_violent.sort_values(by=[\"neighborhood\", \"ucrDescription\"])\n",
    "after_violent.sort_values(by=[\"neighborhood\", \"ucrDescription\"])"
   ]
  },
  {
   "cell_type": "code",
   "execution_count": null,
   "id": "ad3b01f4",
   "metadata": {},
   "outputs": [],
   "source": [
    "before_property_grp = before.groupby([\"neighborhood\", \"ucrDescription\"])\n",
    "after_property_grp = after.groupby([\"neighborhood\", \"ucrDescription\"])\n",
    "\n",
    "before_violent_grp = before.groupby([\"neighborhood\", \"ucrDescription\"])\n",
    "after_violent_grp = after.groupby([\"neighborhood\", \"ucrDescription\"])"
   ]
  },
  {
   "cell_type": "code",
   "execution_count": null,
   "id": "71406c99",
   "metadata": {},
   "outputs": [],
   "source": [
    "before_property_agg = before_grp[\"number\"].sum()\n",
    "after_property_agg = after_grp[\"number\"].sum()\n",
    "\n",
    "before_violent_agg = before_grp[\"number\"].sum()\n",
    "after_violent_agg = after_grp[\"number\"].sum()"
   ]
  },
  {
   "cell_type": "code",
   "execution_count": null,
   "id": "99601152",
   "metadata": {},
   "outputs": [],
   "source": [
    "after_violent_agg.head(10)"
   ]
  },
  {
   "cell_type": "code",
   "execution_count": null,
   "id": "e7168672",
   "metadata": {},
   "outputs": [],
   "source": [
    "before_violent_agg.head(10)"
   ]
  },
  {
   "cell_type": "code",
   "execution_count": null,
   "id": "fcd5b228",
   "metadata": {},
   "outputs": [],
   "source": [
    "after_violent_agg[:24].unstack().plot.bar()"
   ]
  },
  {
   "cell_type": "code",
   "execution_count": null,
   "id": "947385bf",
   "metadata": {},
   "outputs": [],
   "source": [
    "before_violent_agg[:24].unstack().plot.bar()"
   ]
  },
  {
   "cell_type": "code",
   "execution_count": null,
   "id": "5affb589",
   "metadata": {},
   "outputs": [],
   "source": [
    "MPLS_CITIES = CALHOUN_ISLES + CAMDEN + CENTRAL + LONGFELLOW + NEAR_NORTH + NOKOMIS + NORTHEAST + \\\n",
    "              PHILLIPS + POWDERHORN + SOUTHWEST + UNIVERSITY\n",
    "df_cities = df.neighborhood.unique()"
   ]
  },
  {
   "cell_type": "code",
   "execution_count": null,
   "id": "4ac2d8b6",
   "metadata": {},
   "outputs": [],
   "source": [
    "for c in sorted(MPLS_CITIES):\n",
    "    if c in df_cities:\n",
    "        pass\n",
    "    else:\n",
    "        print(c)"
   ]
  },
  {
   "cell_type": "code",
   "execution_count": null,
   "id": "9395a840",
   "metadata": {},
   "outputs": [],
   "source": [
    "sorted(MPLS_CITIES) == sorted(df_cities)"
   ]
  },
  {
   "cell_type": "code",
   "execution_count": null,
   "id": "7183e1b8",
   "metadata": {},
   "outputs": [],
   "source": [
    "len(MPLS_CITIES)"
   ]
  },
  {
   "cell_type": "code",
   "execution_count": null,
   "id": "b665a226",
   "metadata": {},
   "outputs": [],
   "source": [
    "len(df_cities)"
   ]
  },
  {
   "cell_type": "code",
   "execution_count": null,
   "id": "1d8a229f",
   "metadata": {},
   "outputs": [],
   "source": [
    "print(sorted(MPLS_CITIES))"
   ]
  },
  {
   "cell_type": "code",
   "execution_count": null,
   "id": "4cacca78",
   "metadata": {},
   "outputs": [],
   "source": [
    "print(sorted(df_cities))"
   ]
  },
  {
   "cell_type": "code",
   "execution_count": null,
   "id": "92438007",
   "metadata": {},
   "outputs": [],
   "source": [
    "oddballs = [x for x in (MPLS_CITIES + df_cities.tolist()) if x not in MPLS_CITIES or x not in df_cities]\n",
    "print(oddballs)"
   ]
  },
  {
   "cell_type": "code",
   "execution_count": null,
   "id": "46d3294d",
   "metadata": {},
   "outputs": [],
   "source": [
    "master_city_list = sorted(MPLS_CITIES)"
   ]
  },
  {
   "cell_type": "code",
   "execution_count": null,
   "id": "92f80f0d",
   "metadata": {},
   "outputs": [],
   "source": [
    "master_city_list == sorted(df_cities)"
   ]
  },
  {
   "cell_type": "code",
   "execution_count": null,
   "id": "126db662",
   "metadata": {},
   "outputs": [],
   "source": [
    "master_city_dict = {}"
   ]
  },
  {
   "cell_type": "code",
   "execution_count": null,
   "id": "86577ea3",
   "metadata": {},
   "outputs": [],
   "source": [
    "master_city_dict[\"CALHOUN_ISLES\"] = CALHOUN_ISLES\n",
    "master_city_dict[\"CAMDEN\"] = CAMDEN\n",
    "master_city_dict[\"CENTRAL\"] = CENTRAL\n",
    "master_city_dict[\"LONGFELLOW\"] = LONGFELLOW\n",
    "master_city_dict[\"NEAR_NORTH\"] = NEAR_NORTH\n",
    "master_city_dict[\"NOKOMIS\"] = NOKOMIS\n",
    "master_city_dict[\"NORTHEAST\"] = NORTHEAST\n",
    "master_city_dict[\"PHILLIPS\"] = PHILLIPS\n",
    "master_city_dict[\"POWDERHORN\"] = POWDERHORN\n",
    "master_city_dict[\"SOUTHWEST\"] = SOUTHWEST\n",
    "master_city_dict[\"UNIVERSITY\"] = UNIVERSITY"
   ]
  },
  {
   "cell_type": "code",
   "execution_count": null,
   "id": "89f91b80",
   "metadata": {},
   "outputs": [],
   "source": [
    "print(master_city_dict)"
   ]
  },
  {
   "cell_type": "code",
   "execution_count": null,
   "id": "5d78aa79",
   "metadata": {},
   "outputs": [],
   "source": [
    "before_property_agg"
   ]
  },
  {
   "cell_type": "code",
   "execution_count": null,
   "id": "78a42dea",
   "metadata": {},
   "outputs": [],
   "source": [
    "after_property_agg"
   ]
  },
  {
   "cell_type": "code",
   "execution_count": null,
   "id": "cdae3180",
   "metadata": {},
   "outputs": [],
   "source": [
    "before_violent_agg "
   ]
  },
  {
   "cell_type": "code",
   "execution_count": null,
   "id": "71c23759",
   "metadata": {},
   "outputs": [],
   "source": [
    "after_violent_agg "
   ]
  }
 ],
 "metadata": {
  "kernelspec": {
   "display_name": "Python 3 (ipykernel)",
   "language": "python",
   "name": "python3"
  },
  "language_info": {
   "codemirror_mode": {
    "name": "ipython",
    "version": 3
   },
   "file_extension": ".py",
   "mimetype": "text/x-python",
   "name": "python",
   "nbconvert_exporter": "python",
   "pygments_lexer": "ipython3",
   "version": "3.8.13"
  }
 },
 "nbformat": 4,
 "nbformat_minor": 5
}
