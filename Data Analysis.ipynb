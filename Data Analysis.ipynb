{
 "cells": [
  {
   "cell_type": "code",
   "execution_count": null,
   "id": "46451507",
   "metadata": {},
   "outputs": [],
   "source": [
    "#Import Dependencies\n",
    "import matplotlib.pyplot as plt\n",
    "import pandas as pd\n",
    "import numpy as np\n",
    "import scipy.stats as st\n",
    "from matplotlib.pyplot import figure\n",
    "from sklearn import datasets\n",
    "from scipy.stats import linregress\n",
    "import datetime"
   ]
  },
  {
   "cell_type": "code",
   "execution_count": null,
   "id": "7302b7a0",
   "metadata": {},
   "outputs": [],
   "source": [
    "#Load Dataset\n",
    "file = \"Resources/crime_data.csv\"\n",
    "\n",
    "crime_data = pd.read_csv(file)\n",
    "\n",
    "crime_df = pd.DataFrame(crime_data)\n",
    "#crime_df.head(10)"
   ]
  },
  {
   "cell_type": "code",
   "execution_count": null,
   "id": "74b66369",
   "metadata": {},
   "outputs": [],
   "source": [
    "del crime_df[\"neighborhoodCrimeStatisticsID\"]\n",
    "#crime_df"
   ]
  },
  {
   "cell_type": "code",
   "execution_count": null,
   "id": "45ae1429",
   "metadata": {},
   "outputs": [],
   "source": [
    "#Start of Ryan's Code\n",
    "#Data Clean up\n",
    "crime_df = crime_df.rename(columns={\n",
    "    \"neighborhood\" : \"Neighborhood\",\n",
    "    \"ucrDescription\" : \"Crime\",\n",
    "    \"number\" : \"Number of Cases\",\n",
    "    \"reportMonth\" : \"Month\",\n",
    "    \"reportYear\" : \"Year\"\n",
    "})\n",
    "#crime_df\n",
    "\n",
    "crime_df[\"Date\"] = crime_df[\"Month\"].astype(str) +\"/\"+ crime_df[\"Year\"].astype(str)\n",
    "#crime_df[\"Neighborhood\"].unique()"
   ]
  },
  {
   "cell_type": "code",
   "execution_count": null,
   "id": "d38a0ed0",
   "metadata": {},
   "outputs": [],
   "source": [
    "#Cleaning Up Neighborhoods\n",
    "crime_df[\"Neighborhood\"] = crime_df[\"Neighborhood\"].replace({\n",
    "    '** NOT ASSIGNED **' : \"Unknown\",\n",
    "    'Z_** NOT ASSIGNED **' : \"Unknown\",\n",
    "    'ARMATAGE' : 'Armatage',\n",
    "    'AUDUBON PARK' : 'Audubon Park',\n",
    "    'BANCROFT' : 'Bancroft',\n",
    "    'BELTRAMI' : 'Beltrami',\n",
    "    'BOTTINEAU' : 'Bottineau',\n",
    "    'BRYANT' : 'Bryant',\n",
    "    'BRYN - MAWR' : 'Bryn - Mawr',\n",
    "    'CAMDEN INDUSTRIAL' :'Camden Industrial',\n",
    "    'CARAG' : \"Carag\",\n",
    "    'CEDAR - ISLES - DEAN' : 'Cedar - Isles - Dean',\n",
    "    'CEDAR RIVERSIDE' : 'Cedar Riverside',\n",
    "    'CENTRAL' : 'Central',\n",
    "    'CLEVELAND' : 'Cleveland',\n",
    "    'COLUMBIA PARK' : 'Columbia Park',\n",
    "    'COMO' : 'Como',\n",
    "    'COOPER' : 'Cooper',\n",
    "    'CORCORAN' : 'Corcoran',\n",
    "    'DIAMOND LAKE' : 'Diamond Lake',\n",
    "    'DOWNTOWN EAST' : 'Downtown East',\n",
    "    'DOWNTOWN WEST' : 'Downtown West',\n",
    "    'EAST HARRIET' : 'East Harriet',\n",
    "    'EAST ISLES' : 'East Isles',\n",
    "    'EAST PHILLIPS' : 'East Phillips',\n",
    "    'ECCO' : \"Ecco\",\n",
    "    'ELLIOT PARK' : 'Elliot Park',\n",
    "    'ERICSSON' : 'Ericsson',\n",
    "    'FIELD' : 'Field',\n",
    "    'FOLWELL' : 'Folwell',\n",
    "    'FULTON' : 'Fulton',\n",
    "    'HALE' : 'Hale',\n",
    "    'HARRISON' : 'Harrison',\n",
    "    'HAWTHORNE' : 'Hawthorne',\n",
    "    'HIAWATHA' : 'Hiawatha',\n",
    "    'HOLLAND' : 'Holland',\n",
    "    'HOWE' : 'Howe',\n",
    "    'HUMBOLDT INDUSTRIAL AREA' : 'Humboldt Industrial Area',\n",
    "    'JORDAN' : 'Jordan',\n",
    "    'KEEWAYDIN' : 'Keewaydin',\n",
    "    'KENNY' : 'Kenny', \n",
    "    'KENWOOD' : 'Kenwood', \n",
    "    'KING FIELD' : 'King Field', \n",
    "    'LIND - BOHANON' : 'Lind - Bohanon',\n",
    "    'LINDEN HILLS' : 'Linden Hills', \n",
    "    'LOGAN PARK' : 'Logan Park', \n",
    "    'LONGFELLOW' : 'Longfellow', \n",
    "    'LORING PARK' : 'Loring Park',\n",
    "    'LOWRY HILL' : 'Lowry Hill', \n",
    "    'LOWRY HILL EAST' : 'Lowry Hill East', \n",
    "    'LYNDALE' : 'Lyndale', \n",
    "    'LYNNHURST' : 'Lynnhurst',\n",
    "    'MARCY HOLMES' : 'Marcy Holmes', \n",
    "    'MARSHALL TERRACE' : 'Marshall Terrace', \n",
    "    'MCKINLEY' : 'McKinley',\n",
    "    'MID - CITY INDUSTRIAL' : 'Mid - City Industrial', \n",
    "    'MIDTOWN PHILLIPS' : 'Midtown Phillips', \n",
    "    'MINNEHAHA' : 'Minnehaha',\n",
    "    'MORRIS PARK' : 'Morris Park', \n",
    "    'NEAR - NORTH' : 'Near - North', \n",
    "    'NICOLLET ISLAND - EAST BANK' : 'Nicollet Island - East Bank',\n",
    "    'NORTH LOOP' : 'North Loop', \n",
    "    'NORTHEAST PARK' : 'Northeast Park', \n",
    "    'NORTHROP' : 'Northrop', \n",
    "    'PAGE' : 'Page',\n",
    "    'PHILLIPS WEST' : 'Phillips West', \n",
    "    'POWDERHORN PARK' : 'Powderhorn Park',\n",
    "    'PROSPECT PARK - EAST RIVER ROAD' : 'Prospect Park - East River Road', \n",
    "    'REGINA' : 'Regina', \n",
    "    'SEWARD' : 'Seward', \n",
    "    'SHERIDAN' : 'Sheridan',\n",
    "    'SHINGLE CREEK' : 'Shingle Creek', \n",
    "    'ST. ANTHONY EAST' : 'St. Anthony East', \n",
    "    'ST. ANTHONY WEST' : 'St. Anthony West',\n",
    "    'STANDISH' : 'Standish', \n",
    "    'STEVENS SQUARE - LORING HEIGHTS' : \"Steven's Square - Loring Heights\", \n",
    "    'SUMNER - GLENWOOD' : 'Sumner - Glenwood',\n",
    "    'TANGLETOWN' : 'Tangletown', \n",
    "    'UNIVERSITY OF MINNESOTA' : 'University of Minnesota', \n",
    "    'VENTURA VILLAGE' : 'Ventura Village',\n",
    "    'VICTORY' : 'Victory', \n",
    "    'WAITE PARK' : 'Waite Park', \n",
    "    'WEBBER - CAMDEN' : 'Webber - Camden', \n",
    "    'WENONAH' : 'Wenonah',\n",
    "    'WEST CALHOUN' : 'West Calhoun', \n",
    "    'WHITTIER' : 'Whittier', \n",
    "    'WILLARD - HAY' : 'Willard - Hay', \n",
    "    'WINDOM' : 'Windom',\n",
    "    'WINDOM PARK' : 'Windom Park',\n",
    "    \"CARAG\" : \"South Uptown\",\n",
    "    'ECCO' : \"East Bde Maka Ska\",\n",
    "    \"West Calhoun\" : \"West Maka Ska\"\n",
    "})\n",
    "#crime_df[\"Neighborhood\"].unique()"
   ]
  },
  {
   "cell_type": "code",
   "execution_count": null,
   "id": "78c4ccb8",
   "metadata": {},
   "outputs": [],
   "source": [
    "#More Clean up\n",
    "#Removing the no-named Neighborhoods\n",
    "crime_df = crime_df[crime_df[\"Neighborhood\"] != \"Unknown\"]\n",
    "#crime_df\n",
    "\n",
    "#Removing data outside our timeline\n",
    "crime_df = crime_df[crime_df[\"Year\"] > 2017]\n",
    "\n",
    "#Fill NaN\n",
    "crime_df[\"Number of Cases\"] = crime_df[\"Number of Cases\"].fillna(0)\n",
    "#crime_df.head(10)"
   ]
  },
  {
   "cell_type": "code",
   "execution_count": null,
   "id": "6503bd75",
   "metadata": {},
   "outputs": [],
   "source": [
    "#End of Ryan's Code\n",
    "#Final Cleaned DataFrame\n",
    "crime_df = crime_df[[\"Neighborhood\",\"Crime\",\"Number of Cases\",\"Date\"]]\n",
    "crime_df1 = crime_df[[\"Neighborhood\",\"Crime\",\"Number of Cases\",\"Date\"]]\n",
    "crime_df.set_index(keys=\"Date\",inplace=True)\n",
    "crime_df1.set_index(keys=\"Neighborhood\",inplace=True)"
   ]
  },
  {
   "cell_type": "code",
   "execution_count": null,
   "id": "62971d4f",
   "metadata": {},
   "outputs": [],
   "source": [
    "#Start of Ilia's Code\n",
    "crime_df1[\"Date\"]=pd.to_datetime(crime_df1[\"Date\"], format=\"%m/%Y\")\n",
    "crime_df1.head(10)"
   ]
  },
  {
   "cell_type": "code",
   "execution_count": null,
   "id": "469b0735",
   "metadata": {},
   "outputs": [],
   "source": [
    "df_plt=crime_df1.groupby(\"Date\").sum()\n",
    "df_plt.reset_index(inplace=True)\n",
    "df_plt.head()"
   ]
  },
  {
   "cell_type": "code",
   "execution_count": null,
   "id": "e8836d8f",
   "metadata": {},
   "outputs": [],
   "source": [
    "crimes_before = crime_df1[(crime_df1[\"Date\"] >= \"2018-06-01\") & (crime_df1[\"Date\"] < \"2020-06-01\")]\n",
    "\n",
    "crimes_before"
   ]
  },
  {
   "cell_type": "code",
   "execution_count": null,
   "id": "708eb60d",
   "metadata": {},
   "outputs": [],
   "source": [
    "crimes_after=crime_df1[(crime_df1['Date']> \"2020-05-01\")]\n",
    "\n",
    "crimes_after"
   ]
  },
  {
   "cell_type": "code",
   "execution_count": null,
   "id": "8bc956ef",
   "metadata": {},
   "outputs": [],
   "source": [
    "before_df_plt=crimes_before.groupby(\"Date\").sum()\n",
    "before_df_plt.reset_index(inplace=True)\n",
    "before_df_plt"
   ]
  },
  {
   "cell_type": "code",
   "execution_count": null,
   "id": "0c8697fb",
   "metadata": {},
   "outputs": [],
   "source": [
    "After_df_plt=crimes_after.groupby(\"Date\").sum()\n",
    "After_df_plt.reset_index(inplace=True)\n",
    "After_df_plt"
   ]
  },
  {
   "cell_type": "code",
   "execution_count": null,
   "id": "7a957cd6",
   "metadata": {},
   "outputs": [],
   "source": [
    "# Total Crimes before George Floyd killing for 06/2018-06/2020 periods\n",
    "before_df_plt.plot(kind='line', x='Date', y='Number of Cases')\n",
    "\n",
    "plt.title('Total Crimes before George Floyd killing - 06/2018-06/2020',fontsize =29)\n",
    "\n",
    "plt.xlabel('Date',fontsize =13)\n",
    "plt.ylabel('Total Crimes',fontsize =14)\n",
    "plt.rcParams[\"figure.figsize\"] = (20,8)\n",
    "\n",
    "plt.tight_layout()"
   ]
  },
  {
   "cell_type": "code",
   "execution_count": null,
   "id": "d153e753",
   "metadata": {},
   "outputs": [],
   "source": [
    "# Total Crimes after George Floyd killing for 06/2020-06/2022 periods\n",
    "After_df_plt.plot(kind='line', x='Date', y='Number of Cases')\n",
    "\n",
    "plt.title('Total Crimes after George Floyd killing - 06/2020-06/2022',fontsize =29)\n",
    "\n",
    "plt.xlabel('Date',fontsize =13)\n",
    "plt.ylabel('Total Crimes',fontsize =14)\n",
    "plt.rcParams[\"figure.figsize\"] = (20,8)\n",
    "plt.tight_layout()"
   ]
  },
  {
   "cell_type": "code",
   "execution_count": null,
   "id": "266e22a5",
   "metadata": {},
   "outputs": [],
   "source": [
    "# Total Crimes combined for 06/2018-06/2022 periods\n",
    "df_plt.plot(kind='line', x='Date', y='Number of Cases')\n",
    "\n",
    "plt.title('Total Crimes Combined before and after George Floyd killing - 06/2018-06/2022',fontsize =29)\n",
    "\n",
    "plt.xlabel('Date',fontsize =13)\n",
    "plt.ylabel('Total Crimes',fontsize =14)\n",
    "\n",
    "# ax = df_plt.plot()\n",
    "# df_plt.axvline(\"2020-06-01\", color=\"green\", linestyle=\"dashed\")\n",
    "\n",
    "plt.rcParams[\"figure.figsize\"] = (19,8)\n",
    "plt.tight_layout()"
   ]
  },
  {
   "cell_type": "code",
   "execution_count": null,
   "id": "83a1a8e5",
   "metadata": {},
   "outputs": [],
   "source": [
    "my_list_bf = before_df_plt[\"Number of Cases\"].tolist()\n",
    "my_list_af = After_df_plt[\"Number of Cases\"].tolist()"
   ]
  },
  {
   "cell_type": "code",
   "execution_count": null,
   "id": "aa39a485",
   "metadata": {},
   "outputs": [],
   "source": [
    "#End of Ilia's Code\n",
    "st.ttest_ind(my_list_af, my_list_bf, equal_var=False)"
   ]
  },
  {
   "cell_type": "code",
   "execution_count": null,
   "id": "2822ec46",
   "metadata": {},
   "outputs": [],
   "source": [
    "#Start of Ryan's Code\n",
    "#Crime Before Vs After\n",
    "crime_df.head(20)\n",
    "\n",
    "gf_df = crime_df.loc[\"4/2020\":\"6/2020\",:]\n",
    "gf_df.to_csv(\"Resources/george_floyd.csv\")\n",
    "before_df = crime_df.loc[\"5/2018\":\"5/2020\",:]\n",
    "before_df.to_csv(\"Resources/before_floyd.csv\")\n",
    "after_df = crime_df.loc[\"6/2020\":,:]\n",
    "after_df.to_csv(\"Resources/after_floyd.csv\")"
   ]
  },
  {
   "cell_type": "code",
   "execution_count": null,
   "id": "a0668458",
   "metadata": {},
   "outputs": [],
   "source": [
    "#Before Violent DataFrame\n",
    "before_violent_df = before_df[before_df[\"Crime\"]!=\"Arson\"]\n",
    "before_violent_df = before_violent_df[before_violent_df[\"Crime\"]!=\"Auto Theft\"]\n",
    "before_violent_df = before_violent_df[before_violent_df[\"Crime\"]!=\"Burglary\"]\n",
    "before_violent_df = before_violent_df[before_violent_df[\"Crime\"]!=\"Larceny\"]\n",
    "#before_violent_df\n",
    "\n",
    "before_violent_cases = before_violent_df.groupby(\"Crime\")[[\"Crime\",\"Number of Cases\"]].sum()\n",
    "before_violent_cases_list = before_violent_cases[\"Number of Cases\"].values.tolist()\n",
    "#before_violent_cases\n",
    "\n",
    "#After Violent DataFrame\n",
    "after_violent_df = after_df[after_df[\"Crime\"]!=\"Arson\"]\n",
    "after_violent_df = after_violent_df[after_violent_df[\"Crime\"]!=\"Auto Theft\"]\n",
    "after_violent_df = after_violent_df[after_violent_df[\"Crime\"]!=\"Burglary\"]\n",
    "after_violent_df = after_violent_df[after_violent_df[\"Crime\"]!=\"Larceny\"]\n",
    "#after_violent_df\n",
    "\n",
    "after_violent_cases = after_violent_df.groupby(\"Crime\")[[\"Crime\",\"Number of Cases\"]].sum()\n",
    "after_violent_cases_list = after_violent_cases[\"Number of Cases\"].values.tolist()\n",
    "#after_violent_cases\n",
    "\n",
    "#Set Tick Names\n",
    "violent_ticks = before_violent_df[\"Crime\"].unique().tolist()\n",
    "\n",
    "x_axis = np.arange(0,4,1)"
   ]
  },
  {
   "cell_type": "code",
   "execution_count": null,
   "id": "2df8bf0e",
   "metadata": {},
   "outputs": [],
   "source": [
    "#Before Violent Visualization\n",
    "before_violent_bar = plt.bar(x_axis,before_violent_cases_list,align=\"center\")\n",
    "\n",
    "tick_locations = [value for value in x_axis]\n",
    "plt.xticks(tick_locations, violent_ticks)\n",
    "\n",
    "plt.xlim(-0.75, len(x_axis)-0.25)\n",
    "plt.ylim(0, 6000)\n",
    "\n",
    "plt.title(\"Number of Crimes before George Floyd (5/18-5/20)\")\n",
    "plt.xlabel(\"Type of Crime\")\n",
    "plt.ylabel(\"Number of Cases\")\n",
    "plt.savefig(\"Images/before_violent_crimes.jpeg\")\n",
    "plt.show()"
   ]
  },
  {
   "cell_type": "code",
   "execution_count": null,
   "id": "c844935c",
   "metadata": {},
   "outputs": [],
   "source": [
    "#After Violent Visualization\n",
    "after_violent_bar = plt.bar(x_axis,after_violent_cases_list,align=\"center\",color=\"red\")\n",
    "\n",
    "tick_locations = [value for value in x_axis]\n",
    "plt.xticks(tick_locations, violent_ticks)\n",
    "\n",
    "plt.xlim(-0.75, len(x_axis)-0.25)\n",
    "plt.ylim(0, 6000)\n",
    "\n",
    "plt.title(\"Number of Crimes after George Floyd (6/20-6/22)\")\n",
    "plt.xlabel(\"Type of Crime\")\n",
    "plt.ylabel(\"Number of Cases\")\n",
    "plt.savefig(\"Images/after_violent_crimes.jpeg\")\n",
    "plt.show()"
   ]
  },
  {
   "cell_type": "code",
   "execution_count": null,
   "id": "b539d618",
   "metadata": {},
   "outputs": [],
   "source": [
    "#Combined Violent Visualization\n",
    "combined_violent_df = pd.DataFrame(before_violent_cases)\n",
    "combined_violent_df[\"After George Floyd\"] = after_violent_cases\n",
    "combined_violent_df.rename(columns=({\"Number of Cases\" : \"Before George Floyd\"}),inplace=True)\n",
    "combined_violent_df.plot.bar(ylabel=\"Number of Cases\")\n",
    "plt.savefig(\"Images/combined_violent_crimes.jpeg\")\n",
    "plt.show()"
   ]
  },
  {
   "cell_type": "code",
   "execution_count": null,
   "id": "b1df5bd7",
   "metadata": {},
   "outputs": [],
   "source": [
    "#Before Property DataFrame\n",
    "before_property_df = before_df[before_df[\"Crime\"]!=\"Aggravated Assault\"]\n",
    "before_property_df = before_property_df[before_property_df[\"Crime\"]!=\"Homicide\"]\n",
    "before_property_df = before_property_df[before_property_df[\"Crime\"]!=\"Rape\"]\n",
    "before_property_df = before_property_df[before_property_df[\"Crime\"]!=\"Robbery\"]\n",
    "#before_property_df\n",
    "\n",
    "before_property_cases = before_property_df.groupby(\"Crime\")[[\"Crime\",\"Number of Cases\"]].sum()\n",
    "before_property_cases_list = before_property_cases[\"Number of Cases\"].values.tolist()\n",
    "#before_property_cases\n",
    "\n",
    "#After Property DataFrame\n",
    "after_property_df = after_df[after_df[\"Crime\"]!=\"Aggravated Assault\"]\n",
    "after_property_df = after_property_df[after_property_df[\"Crime\"]!=\"Homicide\"]\n",
    "after_property_df = after_property_df[after_property_df[\"Crime\"]!=\"Rape\"]\n",
    "after_property_df = after_property_df[after_property_df[\"Crime\"]!=\"Robbery\"]\n",
    "#after_property_df\n",
    "\n",
    "after_property_cases = after_property_df.groupby(\"Crime\")[[\"Crime\",\"Number of Cases\"]].sum()\n",
    "after_property_cases_list = after_property_cases[\"Number of Cases\"].values.tolist()\n",
    "#after_property_cases\n",
    "\n",
    "#Set Tick Names\n",
    "property_ticks = before_property_df[\"Crime\"].unique().tolist()"
   ]
  },
  {
   "cell_type": "code",
   "execution_count": null,
   "id": "11592377",
   "metadata": {},
   "outputs": [],
   "source": [
    "#Before Property Visualization\n",
    "before_property_bar = plt.bar(x_axis,before_property_cases_list,align=\"center\")\n",
    "\n",
    "tick_locations = [value for value in x_axis]\n",
    "plt.xticks(tick_locations, property_ticks)\n",
    "\n",
    "plt.xlim(-0.75, len(x_axis)-0.25)\n",
    "plt.ylim(0, 30000)\n",
    "\n",
    "plt.title(\"Number of Crimes before George Floyd (5/18-5/20)\")\n",
    "plt.xlabel(\"Type of Crime\")\n",
    "plt.ylabel(\"Number of Cases\")\n",
    "plt.savefig(\"Images/before_property_crimes.jpeg\")\n",
    "plt.show()"
   ]
  },
  {
   "cell_type": "code",
   "execution_count": null,
   "id": "ee8f6f3f",
   "metadata": {},
   "outputs": [],
   "source": [
    "#After Property Visualization\n",
    "after_property_bar = plt.bar(x_axis,after_property_cases_list,align=\"center\",color=\"red\")\n",
    "\n",
    "tick_locations = [value for value in x_axis]\n",
    "plt.xticks(tick_locations, violent_ticks)\n",
    "\n",
    "plt.xlim(-0.75, len(x_axis)-0.25)\n",
    "plt.ylim(0, 30000)\n",
    "\n",
    "plt.title(\"Number of Crimes after George Floyd (6/20-6/22)\")\n",
    "plt.xlabel(\"Type of Crime\")\n",
    "plt.ylabel(\"Number of Cases\")\n",
    "plt.savefig(\"Images/after_property_crimes.jpeg\")\n",
    "plt.show()"
   ]
  },
  {
   "cell_type": "code",
   "execution_count": null,
   "id": "32768000",
   "metadata": {},
   "outputs": [],
   "source": [
    "#End of Ryan's Code\n",
    "#Combined Violent Visualization\n",
    "combined_property_df = pd.DataFrame(before_property_cases)\n",
    "combined_property_df[\"After George Floyd\"] = after_property_cases\n",
    "combined_property_df.rename(columns=({\"Number of Cases\" : \"Before George Floyd\"}),inplace=True)\n",
    "combined_property_df.plot.bar(ylabel=\"Number of Cases\")\n",
    "plt.savefig(\"Images/combined_property_crimes.jpeg\")\n",
    "plt.show()"
   ]
  },
  {
   "cell_type": "code",
   "execution_count": null,
   "id": "b9fbf52c",
   "metadata": {},
   "outputs": [],
   "source": [
    "#Start of Loukya's\n",
    "#Crime data before George Floyd incident\n",
    "crimedatab4_df = crime_df.loc[\"6/2018\":\"5/2020\", :]\n",
    "crimedatab4_df"
   ]
  },
  {
   "cell_type": "code",
   "execution_count": null,
   "id": "bafb3ce5",
   "metadata": {},
   "outputs": [],
   "source": [
    "#Crime data after George Floyd incident\n",
    "crimedata_after_df = crime_df.loc[\"6/2020\":, :]\n",
    "crimedata_after_df"
   ]
  },
  {
   "cell_type": "code",
   "execution_count": null,
   "id": "c2948fdf",
   "metadata": {},
   "outputs": [],
   "source": [
    "# Create a piechart with crime data before George floyd incident\n",
    "data1 = crimedatab4_df.groupby([\"Crime\"]).sum()\n",
    "crime_labels = data1.index\n",
    "x_axis = data1[\"Number of Cases\"]\n",
    "plt.pie(x_axis, labels= crime_labels, autopct = \"%1.1f%%\", radius=1.0, textprops ={\"fontsize\":15})\n",
    "plt.title(\"Overall crime Incidents occurred before George Floyd killing from 06/2018-05/2020\", fontsize=15, loc=\"center\")\n",
    "plt.figure(figsize=(4,6))\n",
    "plt.tight_layout()\n",
    "plt.show()"
   ]
  },
  {
   "cell_type": "code",
   "execution_count": null,
   "id": "ca8d10c5",
   "metadata": {},
   "outputs": [],
   "source": [
    "#End of Loukya's Code\n",
    "# Create a piechart with crime data after George floyd incident\n",
    "data2 = crimedata_after_df.groupby([\"Crime\"]).sum()\n",
    "crime_labels = data2.index\n",
    "x_axis = data2[\"Number of Cases\"]\n",
    "plt.pie(x_axis, labels= crime_labels, autopct = \"%1.1f%%\", radius=1.0, textprops ={\"fontsize\":15})\n",
    "plt.title(\"Overall crime Incidents occurred after George Floyd killing from 06/2020-06/2022\", loc=\"center\", fontsize=15)\n",
    "plt.figure(figsize=(6,6))\n",
    "plt.tight_layout()\n",
    "plt.show()"
   ]
  },
  {
   "cell_type": "code",
   "execution_count": null,
   "id": "498c5911",
   "metadata": {},
   "outputs": [],
   "source": [
    "#Start of William's Code\n",
    "pd.options.display.max_rows = 1000\n",
    "\n",
    "df = pd.read_csv(\"Resources/mpls_crime_2017-2022.csv\", encoding=\"utf-8\")"
   ]
  },
  {
   "cell_type": "code",
   "execution_count": null,
   "id": "3a7dc757",
   "metadata": {},
   "outputs": [],
   "source": [
    "def cleanup_df(a_df):\n",
    "     \n",
    "    a_df[\"number\"] = a_df[\"number\"].fillna(0)\n",
    "    \n",
    "    a_df[\"neighborhood\"] = a_df[\"neighborhood\"].str.lower()    \n",
    "           \n",
    "    a_df[\"neighborhood\"] = a_df[\"neighborhood\"].replace({\"carag\":\"south uptown\", \"ecco\":\"east bde maka ska\", \"west calhoun\":\"west maka ska\"})\n",
    "    \n",
    "    a_df[\"neighborhood\"] = a_df[\"neighborhood\"].replace({\"stevens square - loring heights\":\"steven's square - loring heights\"})\n",
    "    \n",
    "    a_df = a_df.loc[(a_df[\"neighborhood\"] != \"z_** not assigned **\") & (a_df[\"neighborhood\"] != \"** not assigned **\")]\n",
    "    \n",
    "    a_df = a_df.drop(\"neighborhoodCrimeStatisticsID\", axis=1)\n",
    "            \n",
    "    return a_df"
   ]
  },
  {
   "cell_type": "code",
   "execution_count": null,
   "id": "6bdb61a2",
   "metadata": {},
   "outputs": [],
   "source": [
    "# Breakpoint\n",
    "\n",
    "clean_df = cleanup_df(df)\n",
    "\n",
    "df = clean_df.copy()"
   ]
  },
  {
   "cell_type": "code",
   "execution_count": null,
   "id": "e7cb3ddd",
   "metadata": {},
   "outputs": [],
   "source": [
    "# Mpls Neighborhood \"Communities\"\n",
    "\n",
    "CALHOUN_ISLES = [\"bryn - mawr\", \"cedar - isles - dean\", \"east bde maka ska\", \"east isles\", \"kenwood\", \"lowry hill\", \\\n",
    "                 \"lowry hill east\", \"south uptown\", \"west maka ska\"]\n",
    "CAMDEN =        [\"camden industrial\", \"cleveland\", \"folwell\", \"humboldt industrial area\", \"lind - bohanon\", \"mckinley\", \\\n",
    "                 \"shingle creek\", \"victory\", \"webber - camden\"]\n",
    "CENTRAL =       [\"downtown east\", \"downtown west\", \"elliot park\", \"loring park\", \"north loop\", \"steven's square - loring heights\"]\n",
    "LONGFELLOW =    [\"cooper\", \"hiawatha\", \"howe\", \"longfellow\", \"seward\"]\n",
    "NEAR_NORTH =    [\"harrison\", \"hawthorne\", \"jordan\", \"near - north\", \"sumner - glenwood\", \"willard - hay\"]\n",
    "NOKOMIS =       [\"diamond lake\", \"ericsson\", \"field\", \"hale\", \"keewaydin\", \"minnehaha\", \"morris park\", \\\n",
    "                 \"northrop\", \"page\", \"regina\", \"wenonah\"]\n",
    "NORTHEAST =     [\"audubon park\", \"beltrami\", \"bottineau\", \"columbia park\", \"holland\", \"logan park\", \"marshall terrace\", \\\n",
    "                 \"northeast park\", \"sheridan\", \"st. anthony east\", \"st. anthony west\", \"waite park\", \"windom park\"]\n",
    "PHILLIPS =      [\"east phillips\", \"midtown phillips\", \"phillips west\", \"ventura village\"]\n",
    "POWDERHORN =    [\"bancroft\", \"bryant\", \"central\", \"corcoran\", \"lyndale\", \"powderhorn park\", \"standish\", \"whittier\"]\n",
    "SOUTHWEST =     [\"armatage\", \"east harriet\", \"fulton\", \"kenny\", \"king field\", \"linden hills\", \"lynnhurst\", \"tangletown\", \\\n",
    "                 \"windom\"]\n",
    "UNIVERSITY =    [\"cedar riverside\", \"como\", \"marcy holmes\", \"mid - city industrial\", \"nicollet island - east bank\", \\\n",
    "                 \"prospect park - east river road\", \"university of minnesota\"]"
   ]
  },
  {
   "cell_type": "code",
   "execution_count": null,
   "id": "f5c5768b",
   "metadata": {},
   "outputs": [],
   "source": [
    "# Make list of communities names, each a list of neighborhoods\n",
    "\n",
    "COMMUNITIES =   [\"CALHOUN_ISLES\", \"CAMDEN\", \"CENTRAL\", \"LONGFELLOW\", \"NEAR_NORTH\", \"NOKOMIS\", \"NORTHEAST\", \\\n",
    "                 \"PHILLIPS\", \"POWDERHORN\", \"SOUTHWEST\", \"UNIVERSITY\"]"
   ]
  },
  {
   "cell_type": "code",
   "execution_count": null,
   "id": "632f2d41",
   "metadata": {},
   "outputs": [],
   "source": [
    "# As per FBI ucr reporting standards\n",
    "\n",
    "VIOLENT_CRIMES =  [\"Aggravated Assault\", \"Homicide\", \"Rape\", \"Robbery\"]\n",
    "PROPERTY_CRIMES = [\"Arson\", \"Auto Theft\", \"Burglary\", \"Larceny\"]"
   ]
  },
  {
   "cell_type": "code",
   "execution_count": null,
   "id": "84f11e87",
   "metadata": {},
   "outputs": [],
   "source": [
    "# All crime \n",
    "\n",
    "before_all = df[ (df[\"reportMonth\"]==5) & (df[\"reportYear\"]==2020) ]\n",
    "before_all = before_all.sort_values(by=[\"neighborhood\", \"ucrDescription\"])\n",
    "\n",
    "before_all = before_all.drop([\"reportMonth\", \"reportYear\"], axis=1)\n",
    "\n",
    "# before_all\n",
    "\n",
    "\n",
    "after_all = df[ (df[\"reportMonth\"]==6) & (df[\"reportYear\"]==2020) ]\n",
    "after_all = after_all.sort_values(by=[\"neighborhood\", \"ucrDescription\"])\n",
    "\n",
    "after_all = after_all.drop([\"reportMonth\", \"reportYear\"], axis=1)\n",
    "\n",
    "# after_all"
   ]
  },
  {
   "cell_type": "code",
   "execution_count": null,
   "id": "b0cbcd97",
   "metadata": {},
   "outputs": [],
   "source": [
    "# Narrow down to just months and type of crime I'm interested in\n",
    "\n",
    "before_violent = df[ (df[\"reportMonth\"]==5) & (df[\"reportYear\"]==2020) & (df[\"ucrDescription\"].isin(VIOLENT_CRIMES)) ]\n",
    "before_violent = before_violent.sort_values(by=[\"neighborhood\", \"ucrDescription\"])\n",
    "\n",
    "before_violent = before_violent.drop([\"reportMonth\", \"reportYear\"], axis=1)\n",
    "\n",
    "# before_violent[\"number\"].describe()"
   ]
  },
  {
   "cell_type": "code",
   "execution_count": null,
   "id": "7795beb6",
   "metadata": {},
   "outputs": [],
   "source": [
    "after_violent = df[ (df[\"reportMonth\"]==6) & (df[\"reportYear\"]==2020) & (df[\"ucrDescription\"].isin(VIOLENT_CRIMES)) ]\n",
    "after_violent = after_violent.sort_values(by=[\"neighborhood\", \"ucrDescription\"])\n",
    "\n",
    "after_violent = after_violent.drop([\"reportMonth\", \"reportYear\"], axis=1)\n",
    "\n",
    "# after_violent[\"number\"].describe()"
   ]
  },
  {
   "cell_type": "code",
   "execution_count": null,
   "id": "bca8d4a4",
   "metadata": {},
   "outputs": [],
   "source": [
    "before_property = df[ (df[\"reportMonth\"]==5) & (df[\"reportYear\"]==2020) & (df[\"ucrDescription\"].isin(PROPERTY_CRIMES)) ]\n",
    "before_property = before_property.sort_values(by=[\"neighborhood\", \"ucrDescription\"])\n",
    "\n",
    "before_property = before_property.drop([\"reportMonth\", \"reportYear\"], axis=1)\n",
    "\n",
    "# before_property[\"number\"].describe()"
   ]
  },
  {
   "cell_type": "code",
   "execution_count": null,
   "id": "c45f4e9d",
   "metadata": {},
   "outputs": [],
   "source": [
    "after_property = df[ (df[\"reportMonth\"]==6) & (df[\"reportYear\"]==2020) & (df[\"ucrDescription\"].isin(PROPERTY_CRIMES)) ]\n",
    "after_property = after_property.sort_values(by=[\"neighborhood\", \"ucrDescription\"])\n",
    "\n",
    "after_property = after_property.drop([\"reportMonth\", \"reportYear\"], axis=1)\n",
    "\n",
    "# after_property[\"number\"].describe()"
   ]
  },
  {
   "cell_type": "code",
   "execution_count": null,
   "id": "cdf1fc56",
   "metadata": {},
   "outputs": [],
   "source": [
    "CALH_before_all = int(before_all.loc[ (before_all[\"neighborhood\"].isin(CALHOUN_ISLES)), : ].groupby(\"neighborhood\").sum().sum())\n",
    "\n",
    "CAMD_before_all = int(before_all.loc[ (before_all[\"neighborhood\"].isin(CAMDEN)), : ].groupby(\"neighborhood\").sum().sum())\n",
    "\n",
    "CENT_before_all = int(before_all.loc[ (before_all[\"neighborhood\"].isin(CENTRAL)), : ].groupby(\"neighborhood\").sum().sum())\n",
    "\n",
    "LONG_before_all = int(before_all.loc[ (before_all[\"neighborhood\"].isin(LONGFELLOW)), : ].groupby(\"neighborhood\").sum().sum())\n",
    "\n",
    "NEAR_before_all = int(before_all.loc[ (before_all[\"neighborhood\"].isin(NEAR_NORTH)), : ].groupby(\"neighborhood\").sum().sum())\n",
    "\n",
    "NOKO_before_all = int(before_all.loc[ (before_all[\"neighborhood\"].isin(NOKOMIS)), : ].groupby(\"neighborhood\").sum().sum())\n",
    "\n",
    "NORT_before_all = int(before_all.loc[ (before_all[\"neighborhood\"].isin(NORTHEAST)), : ].groupby(\"neighborhood\").sum().sum())\n",
    "\n",
    "PHIL_before_all = int(before_all.loc[ (before_all[\"neighborhood\"].isin(PHILLIPS)), : ].groupby(\"neighborhood\").sum().sum())\n",
    "\n",
    "POWD_before_all = int(before_all.loc[ (before_all[\"neighborhood\"].isin(POWDERHORN)), : ].groupby(\"neighborhood\").sum().sum())\n",
    "\n",
    "SOUT_before_all = int(before_all.loc[ (before_all[\"neighborhood\"].isin(SOUTHWEST)), : ].groupby(\"neighborhood\").sum().sum())\n",
    "\n",
    "UNIV_before_all = int(before_all.loc[ (before_all[\"neighborhood\"].isin(UNIVERSITY)), : ].groupby(\"neighborhood\").sum().sum())\n"
   ]
  },
  {
   "cell_type": "code",
   "execution_count": null,
   "id": "0e3e2e68",
   "metadata": {},
   "outputs": [],
   "source": [
    "CALH_after_all = int(after_all.loc[ (after_all[\"neighborhood\"].isin(CALHOUN_ISLES)), : ].groupby(\"neighborhood\").sum().sum())\n",
    "\n",
    "CAMD_after_all = int(after_all.loc[ (after_all[\"neighborhood\"].isin(CAMDEN)), : ].groupby(\"neighborhood\").sum().sum())\n",
    "\n",
    "CENT_after_all = int(after_all.loc[ (after_all[\"neighborhood\"].isin(CENTRAL)), : ].groupby(\"neighborhood\").sum().sum())\n",
    "\n",
    "LONG_after_all = int(after_all.loc[ (after_all[\"neighborhood\"].isin(LONGFELLOW)), : ].groupby(\"neighborhood\").sum().sum())\n",
    "\n",
    "NEAR_after_all = int(after_all.loc[ (after_all[\"neighborhood\"].isin(NEAR_NORTH)), : ].groupby(\"neighborhood\").sum().sum())\n",
    "\n",
    "NOKO_after_all = int(after_all.loc[ (after_all[\"neighborhood\"].isin(NOKOMIS)), : ].groupby(\"neighborhood\").sum().sum())\n",
    "\n",
    "NORT_after_all = int(after_all.loc[ (after_all[\"neighborhood\"].isin(NORTHEAST)), : ].groupby(\"neighborhood\").sum().sum())\n",
    "\n",
    "PHIL_after_all = int(after_all.loc[ (after_all[\"neighborhood\"].isin(PHILLIPS)), : ].groupby(\"neighborhood\").sum().sum())\n",
    "\n",
    "POWD_after_all = int(after_all.loc[ (after_all[\"neighborhood\"].isin(POWDERHORN)), : ].groupby(\"neighborhood\").sum().sum())\n",
    "\n",
    "SOUT_after_all = int(after_all.loc[ (after_all[\"neighborhood\"].isin(SOUTHWEST)), : ].groupby(\"neighborhood\").sum().sum())\n",
    "\n",
    "UNIV_after_all = int(after_all.loc[ (after_all[\"neighborhood\"].isin(UNIVERSITY)), : ].groupby(\"neighborhood\").sum().sum())\n"
   ]
  },
  {
   "cell_type": "code",
   "execution_count": null,
   "id": "bc3b76d8",
   "metadata": {},
   "outputs": [],
   "source": [
    "CALH_bp = int(before_property.loc[ (before_property[\"neighborhood\"].isin(CALHOUN_ISLES)), : ].groupby(\"neighborhood\").sum().sum())\n",
    "\n",
    "CAMD_bp = int(before_property.loc[ (before_property[\"neighborhood\"].isin(CAMDEN)), : ].groupby(\"neighborhood\").sum().sum())\n",
    "\n",
    "CENT_bp = int(before_property.loc[ (before_property[\"neighborhood\"].isin(CENTRAL)), : ].groupby(\"neighborhood\").sum().sum())\n",
    "\n",
    "LONG_bp = int(before_property.loc[ (before_property[\"neighborhood\"].isin(LONGFELLOW)), : ].groupby(\"neighborhood\").sum().sum())\n",
    "\n",
    "NEAR_bp = int(before_property.loc[ (before_property[\"neighborhood\"].isin(NEAR_NORTH)), : ].groupby(\"neighborhood\").sum().sum())\n",
    "\n",
    "NOKO_bp = int(before_property.loc[ (before_property[\"neighborhood\"].isin(NOKOMIS)), : ].groupby(\"neighborhood\").sum().sum())\n",
    "\n",
    "NORT_bp = int(before_property.loc[ (before_property[\"neighborhood\"].isin(NORTHEAST)), : ].groupby(\"neighborhood\").sum().sum())\n",
    "\n",
    "PHIL_bp = int(before_property.loc[ (before_property[\"neighborhood\"].isin(PHILLIPS)), : ].groupby(\"neighborhood\").sum().sum())\n",
    "\n",
    "POWD_bp = int(before_property.loc[ (before_property[\"neighborhood\"].isin(POWDERHORN)), : ].groupby(\"neighborhood\").sum().sum())\n",
    "\n",
    "SOUT_bp = int(before_property.loc[ (before_property[\"neighborhood\"].isin(SOUTHWEST)), : ].groupby(\"neighborhood\").sum().sum())\n",
    "\n",
    "UNIV_bp = int(before_property.loc[ (before_property[\"neighborhood\"].isin(UNIVERSITY)), : ].groupby(\"neighborhood\").sum().sum())\n"
   ]
  },
  {
   "cell_type": "code",
   "execution_count": null,
   "id": "13f43ca7",
   "metadata": {},
   "outputs": [],
   "source": [
    "CALH_ap = int(after_property.loc[ (after_property[\"neighborhood\"].isin(CALHOUN_ISLES)), : ].groupby(\"neighborhood\").sum().sum())\n",
    "\n",
    "CAMD_ap = int(after_property.loc[ (after_property[\"neighborhood\"].isin(CAMDEN)), : ].groupby(\"neighborhood\").sum().sum())\n",
    "\n",
    "CENT_ap = int(after_property.loc[ (after_property[\"neighborhood\"].isin(CENTRAL)), : ].groupby(\"neighborhood\").sum().sum())\n",
    "\n",
    "LONG_ap = int(after_property.loc[ (after_property[\"neighborhood\"].isin(LONGFELLOW)), : ].groupby(\"neighborhood\").sum().sum())\n",
    "\n",
    "NEAR_ap = int(after_property.loc[ (after_property[\"neighborhood\"].isin(NEAR_NORTH)), : ].groupby(\"neighborhood\").sum().sum())\n",
    "\n",
    "NOKO_ap = int(after_property.loc[ (after_property[\"neighborhood\"].isin(NOKOMIS)), : ].groupby(\"neighborhood\").sum().sum())\n",
    "\n",
    "NORT_ap = int(after_property.loc[ (after_property[\"neighborhood\"].isin(NORTHEAST)), : ].groupby(\"neighborhood\").sum().sum())\n",
    "\n",
    "PHIL_ap = int(after_property.loc[ (after_property[\"neighborhood\"].isin(PHILLIPS)), : ].groupby(\"neighborhood\").sum().sum())\n",
    "\n",
    "POWD_ap = int(after_property.loc[ (after_property[\"neighborhood\"].isin(POWDERHORN)), : ].groupby(\"neighborhood\").sum().sum())\n",
    "\n",
    "SOUT_ap = int(after_property.loc[ (after_property[\"neighborhood\"].isin(SOUTHWEST)), : ].groupby(\"neighborhood\").sum().sum())\n",
    "\n",
    "UNIV_ap = int(after_property.loc[ (after_property[\"neighborhood\"].isin(UNIVERSITY)), : ].groupby(\"neighborhood\").sum().sum())\n"
   ]
  },
  {
   "cell_type": "code",
   "execution_count": null,
   "id": "5530dc33",
   "metadata": {},
   "outputs": [],
   "source": [
    "CALH_bv = int(before_violent.loc[ (before_violent[\"neighborhood\"].isin(CALHOUN_ISLES)), : ].groupby(\"neighborhood\").sum().sum())\n",
    "\n",
    "CAMD_bv = int(before_violent.loc[ (before_violent[\"neighborhood\"].isin(CAMDEN)), : ].groupby(\"neighborhood\").sum().sum())\n",
    "\n",
    "CENT_bv = int(before_violent.loc[ (before_violent[\"neighborhood\"].isin(CENTRAL)), : ].groupby(\"neighborhood\").sum().sum())\n",
    "\n",
    "LONG_bv = int(before_violent.loc[ (before_violent[\"neighborhood\"].isin(LONGFELLOW)), : ].groupby(\"neighborhood\").sum().sum())\n",
    "\n",
    "NEAR_bv = int(before_violent.loc[ (before_violent[\"neighborhood\"].isin(NEAR_NORTH)), : ].groupby(\"neighborhood\").sum().sum())\n",
    "\n",
    "NOKO_bv = int(before_violent.loc[ (before_violent[\"neighborhood\"].isin(NOKOMIS)), : ].groupby(\"neighborhood\").sum().sum())\n",
    "\n",
    "NORT_bv = int(before_violent.loc[ (before_violent[\"neighborhood\"].isin(NORTHEAST)), : ].groupby(\"neighborhood\").sum().sum())\n",
    "\n",
    "PHIL_bv = int(before_violent.loc[ (before_violent[\"neighborhood\"].isin(PHILLIPS)), : ].groupby(\"neighborhood\").sum().sum())\n",
    "\n",
    "POWD_bv = int(before_violent.loc[ (before_violent[\"neighborhood\"].isin(POWDERHORN)), : ].groupby(\"neighborhood\").sum().sum())\n",
    "\n",
    "SOUT_bv = int(before_violent.loc[ (before_violent[\"neighborhood\"].isin(SOUTHWEST)), : ].groupby(\"neighborhood\").sum().sum())\n",
    "\n",
    "UNIV_bv = int(before_violent.loc[ (before_violent[\"neighborhood\"].isin(UNIVERSITY)), : ].groupby(\"neighborhood\").sum().sum())"
   ]
  },
  {
   "cell_type": "code",
   "execution_count": null,
   "id": "eced2baf",
   "metadata": {},
   "outputs": [],
   "source": [
    "CALH_av = int(after_violent.loc[ (after_violent[\"neighborhood\"].isin(CALHOUN_ISLES)), : ].groupby(\"neighborhood\").sum().sum())\n",
    "\n",
    "CAMD_av = int(after_violent.loc[ (after_violent[\"neighborhood\"].isin(CAMDEN)), : ].groupby(\"neighborhood\").sum().sum())\n",
    "\n",
    "CENT_av = int(after_violent.loc[ (after_violent[\"neighborhood\"].isin(CENTRAL)), : ].groupby(\"neighborhood\").sum().sum())\n",
    "\n",
    "LONG_av = int(after_violent.loc[ (after_violent[\"neighborhood\"].isin(LONGFELLOW)), : ].groupby(\"neighborhood\").sum().sum())\n",
    "\n",
    "NEAR_av = int(after_violent.loc[ (after_violent[\"neighborhood\"].isin(NEAR_NORTH)), : ].groupby(\"neighborhood\").sum().sum())\n",
    "\n",
    "NOKO_av = int(after_violent.loc[ (after_violent[\"neighborhood\"].isin(NOKOMIS)), : ].groupby(\"neighborhood\").sum().sum())\n",
    "\n",
    "NORT_av = int(after_violent.loc[ (after_violent[\"neighborhood\"].isin(NORTHEAST)), : ].groupby(\"neighborhood\").sum().sum())\n",
    "\n",
    "PHIL_av = int(after_violent.loc[ (after_violent[\"neighborhood\"].isin(PHILLIPS)), : ].groupby(\"neighborhood\").sum().sum())\n",
    "\n",
    "POWD_av = int(after_violent.loc[ (after_violent[\"neighborhood\"].isin(POWDERHORN)), : ].groupby(\"neighborhood\").sum().sum())\n",
    "\n",
    "SOUT_av = int(after_violent.loc[ (after_violent[\"neighborhood\"].isin(SOUTHWEST)), : ].groupby(\"neighborhood\").sum().sum())\n",
    "\n",
    "UNIV_av = int(after_violent.loc[ (after_violent[\"neighborhood\"].isin(UNIVERSITY)), : ].groupby(\"neighborhood\").sum().sum())\n"
   ]
  },
  {
   "cell_type": "code",
   "execution_count": null,
   "id": "07f506e8",
   "metadata": {},
   "outputs": [],
   "source": [
    "bp = [CALH_bp, CAMD_bp, CENT_bp, LONG_bp, NEAR_bp, NOKO_bp, NORT_bp, PHIL_bp, POWD_bp, SOUT_bp, UNIV_bp]\n",
    "ap = [CALH_ap, CAMD_ap, CENT_ap, LONG_ap, NEAR_ap, NOKO_ap, NORT_ap, PHIL_ap, POWD_ap, SOUT_ap, UNIV_ap]\n",
    "\n",
    "bv = [CALH_bv, CAMD_bv, CENT_bv, LONG_bv, NEAR_bv, NOKO_bv, NORT_bv, PHIL_bv, POWD_bv, SOUT_bv, UNIV_bv]\n",
    "av = [CALH_av, CAMD_av, CENT_av, LONG_av, NEAR_av, NOKO_av, NORT_av, PHIL_av, POWD_av, SOUT_av, UNIV_av]"
   ]
  },
  {
   "cell_type": "code",
   "execution_count": null,
   "id": "f8df54d3",
   "metadata": {},
   "outputs": [],
   "source": [
    "b_all = [CALH_before_all, CAMD_before_all, CENT_before_all, LONG_before_all, \\\n",
    "         NEAR_before_all, NOKO_before_all, NORT_before_all, PHIL_before_all, \\\n",
    "         POWD_before_all, SOUT_before_all, UNIV_before_all]"
   ]
  },
  {
   "cell_type": "code",
   "execution_count": null,
   "id": "738b1c0d",
   "metadata": {},
   "outputs": [],
   "source": [
    "a_all = [CALH_after_all, CAMD_after_all, CENT_after_all, LONG_after_all, NEAR_after_all, \\\n",
    "         NOKO_after_all, NORT_after_all, PHIL_after_all, POWD_after_all, SOUT_after_all, UNIV_after_all]"
   ]
  },
  {
   "cell_type": "code",
   "execution_count": null,
   "id": "85c1f282",
   "metadata": {},
   "outputs": [],
   "source": [
    "plot_df_prop = pd.DataFrame(index=COMMUNITIES, data={\"Property_Before\":bp, \"Property_After\":ap, \\\n",
    "                                                     \"%_Change\": 0, \"Difference\":0})\n",
    "\n",
    "plot_df_viol = pd.DataFrame(index=COMMUNITIES, data={\"Violent_Before\":bv, \"Violent_After\":av, \\\n",
    "                                                     \"%_Change\": 0, \"Difference\":0})\n",
    "   \n",
    "plot_df_prop[\"%_Change\"] = (plot_df_prop[\"Property_After\"] - plot_df_prop[\"Property_Before\"]) / plot_df_prop[\"Property_Before\"] * 100\n",
    "plot_df_viol[\"%_Change\"] = (plot_df_viol[\"Violent_After\"] - plot_df_viol[\"Violent_Before\"]) / plot_df_viol[\"Violent_Before\"] * 100\n",
    "\n",
    "plot_df_prop[\"Difference\"] = plot_df_prop[\"Property_After\"] - plot_df_prop[\"Property_Before\"]\n",
    "plot_df_viol[\"Difference\"] = plot_df_viol[\"Violent_After\"] - plot_df_viol[\"Violent_Before\"]"
   ]
  },
  {
   "cell_type": "code",
   "execution_count": null,
   "id": "f864e714",
   "metadata": {},
   "outputs": [],
   "source": [
    "# % Change in Property Crime 1 Month Before and After GF  \n",
    "\n",
    "plot_df_prop[\"positive\"] = plot_df_prop[\"%_Change\"] >= 0\n",
    "\n",
    "x = COMMUNITIES\n",
    "y = plot_df_prop[\"%_Change\"]\n",
    "z = plot_df_prop[\"positive\"]\n",
    "\n",
    "plt.barh(x, y, color=z.map({True: 'red', False: 'yellow'}))\n",
    " \n",
    "for index, value in enumerate(y):\n",
    "    the_num = f\"+{str(int(value))}%\" if int(value)>= 0 else f\"{str(int(value))}%\"\n",
    "    plt.text(round(value,2), index, the_num)\n",
    "\n",
    "# Invert y-axis\n",
    "\n",
    "ax = plt.gca()\n",
    "ax.invert_yaxis()\n",
    "\n",
    "ax.set_xlim(-40, 119)\n",
    "\n",
    "plt.title(f\"Property Crime % Change in Minneapolis\\n(1 Month After George Floyd Killing)\")\n",
    "plt.grid()\n",
    "plt.tight_layout()\n",
    "\n",
    "plt.savefig(\"Images/PercentChangeProperty.png\")"
   ]
  },
  {
   "cell_type": "code",
   "execution_count": null,
   "id": "1db33314",
   "metadata": {},
   "outputs": [],
   "source": [
    "# % Change in Violent Crime 1 Month Before and After GF  \n",
    "\n",
    "plot_df_viol[\"positive\"] = plot_df_viol[\"%_Change\"] >= 0\n",
    "\n",
    "x = COMMUNITIES\n",
    "y = plot_df_viol[\"%_Change\"]\n",
    "z = plot_df_viol[\"positive\"]\n",
    "\n",
    "\n",
    "plt.barh(x, y, color=z.map({True: 'red', False: 'yellow'}))\n",
    " \n",
    "for index, value in enumerate(y):\n",
    "    the_num = f\"+{str(int(value))}%\" if int(value)>= 0 else f\"{str(int(value))}%\"\n",
    "    plt.text(round(value,2), index, the_num)\n",
    "\n",
    "# Invert y-axis\n",
    "\n",
    "ax = plt.gca()\n",
    "ax.invert_yaxis()\n",
    "\n",
    "ax.set_xlim(-40, 119)\n",
    "\n",
    "plt.title(f\"Violent Crime % Change in Minneapolis\\n(1 Month After George Floyd Killing)\")\n",
    "plt.grid()\n",
    "\n",
    "plt.tight_layout()\n",
    "\n",
    "plt.savefig(\"Images/PercentChangeViolent.png\")"
   ]
  },
  {
   "cell_type": "code",
   "execution_count": null,
   "id": "077ab2ba",
   "metadata": {},
   "outputs": [],
   "source": [
    "plot_df_all = pd.DataFrame(index=COMMUNITIES, data={\"All_Before\":b_all, \"All_After\":a_all, \\\n",
    "                                                    \"%_Change\": 0, \"Difference\":0})\n",
    "   \n",
    "plot_df_all[\"%_Change\"] = ((plot_df_all[\"All_After\"] - plot_df_all[\"All_Before\"]) / plot_df_all[\"All_Before\"]) * 100\n",
    "plot_df_all[\"Difference\"] = plot_df_all[\"All_After\"] - plot_df_all[\"All_Before\"]\n",
    "\n",
    "plot_df_all"
   ]
  },
  {
   "cell_type": "code",
   "execution_count": null,
   "id": "e11bdb3b",
   "metadata": {},
   "outputs": [],
   "source": [
    "# % Change in Violent Crime 1 Month Before and After GF  \n",
    "\n",
    "plot_df_all[\"positive\"] = plot_df_all[\"%_Change\"] >= 0\n",
    "\n",
    "x = COMMUNITIES\n",
    "y = plot_df_all[\"%_Change\"]\n",
    "z = plot_df_all[\"positive\"]\n",
    "\n",
    "plt.barh(x, y, color=z.map({True: 'red', False: 'yellow'}))\n",
    " \n",
    "for index, value in enumerate(y):\n",
    "    the_num = f\"+{str(int(value))}%\" if int(value)>= 0 else f\"{str(int(value))}%\"\n",
    "    plt.text(round(value,2), index, the_num)\n",
    "\n",
    "# Invert y-axis\n",
    "\n",
    "ax = plt.gca()\n",
    "ax.invert_yaxis()\n",
    "\n",
    "ax.set_xlim(-40, 119)\n",
    "\n",
    "plt.title(f\"All Crime % Change in Minneapolis\\n(1 Month After George Floyd Killing)\")\n",
    "plt.grid()\n",
    "\n",
    "plt.tight_layout()\n",
    "\n",
    "plt.savefig(\"Images/PercentChangeAll.png\")"
   ]
  },
  {
   "cell_type": "code",
   "execution_count": null,
   "id": "640d7f00",
   "metadata": {},
   "outputs": [],
   "source": [
    "plot_df_prop[[\"Property_Before\", \"Property_After\", \"Difference\"]].plot.bar(color=[\"blue\",\"green\",\"black\"], figsize=(12,8))\n",
    "plt.ylim(-70, 290)\n",
    "plt.xticks(rotation=45)\n",
    "plt.grid()\n",
    "plt.title(\"Number of Property Crimes and Difference 1 Month Before and After George Floyd Killing\")\n",
    "plt.tight_layout()\n",
    "\n",
    "plt.savefig(\"Images/Property_Before_After.png\")"
   ]
  },
  {
   "cell_type": "code",
   "execution_count": null,
   "id": "dcb5a6f8",
   "metadata": {},
   "outputs": [],
   "source": [
    "plot_df_viol[[\"Violent_Before\", \"Violent_After\", \"Difference\"]].plot.bar(color=[\"blue\",\"green\",\"black\"], figsize=(12,8))\n",
    "plt.ylim(-10, 120)\n",
    "plt.xticks(rotation=45)\n",
    "plt.grid()\n",
    "plt.title(\"Number of Violent Crimes and Difference 1 Month Before and After George Floyd Killing\")\n",
    "plt.tight_layout()\n",
    "\n",
    "plt.savefig(\"Images/Violent_Before_After.png\")"
   ]
  },
  {
   "cell_type": "code",
   "execution_count": null,
   "id": "010a3ecb",
   "metadata": {},
   "outputs": [],
   "source": [
    "plot_df_all[[\"All_Before\", \"All_After\", \"Difference\"]].plot.bar(color=[\"blue\", \"green\", \"black\"], figsize=(12,8))\n",
    "\n",
    "plt.ylim(-70, 350)\n",
    "plt.xticks(rotation=45)\n",
    "plt.grid()\n",
    "plt.title(\"All Crimes and Difference 1 Month Before and After George Floyd Killing\")\n",
    "plt.tight_layout()\n",
    "\n",
    "plt.savefig(\"Images/All_Before_After.png\")"
   ]
  },
  {
   "cell_type": "code",
   "execution_count": null,
   "id": "2ed71366",
   "metadata": {},
   "outputs": [],
   "source": [
    "# T-test for property crime before and after GF\n",
    "\n",
    "st.ttest_ind(bp, ap, equal_var=False) "
   ]
  },
  {
   "cell_type": "code",
   "execution_count": null,
   "id": "e779826c",
   "metadata": {},
   "outputs": [],
   "source": [
    "# T-test for violent crime before and after GF\n",
    "\n",
    "st.ttest_ind(bv, av, equal_var=False) "
   ]
  },
  {
   "cell_type": "code",
   "execution_count": null,
   "id": "6c91e7f0",
   "metadata": {},
   "outputs": [],
   "source": [
    "#End of William's Code\n",
    "# T-test for all crime before and after GF\n",
    "\n",
    "st.ttest_ind(b_all, a_all, equal_var=False) "
   ]
  }
 ],
 "metadata": {
  "kernelspec": {
   "display_name": "Python 3 (ipykernel)",
   "language": "python",
   "name": "python3"
  },
  "language_info": {
   "codemirror_mode": {
    "name": "ipython",
    "version": 3
   },
   "file_extension": ".py",
   "mimetype": "text/x-python",
   "name": "python",
   "nbconvert_exporter": "python",
   "pygments_lexer": "ipython3",
   "version": "3.8.13"
  }
 },
 "nbformat": 4,
 "nbformat_minor": 5
}
