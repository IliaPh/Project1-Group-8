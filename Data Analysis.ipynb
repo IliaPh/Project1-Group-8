{
 "cells": [
  {
   "cell_type": "code",
   "execution_count": null,
   "id": "8a2e36c4",
   "metadata": {},
   "outputs": [],
   "source": [
    "#Import Dependencies\n",
    "import pandas as pd\n",
    "import numpy as np\n",
    "import matplotlib.pyplot as plt\n",
    "import scipy.stats as stats"
   ]
  },
  {
   "cell_type": "code",
   "execution_count": null,
   "id": "e2c000f8",
   "metadata": {},
   "outputs": [],
   "source": [
    "#Load Dataset\n",
    "\n",
    "#File 1\n",
    "file1 = \"Resources/before_floyd.csv\"\n",
    "\n",
    "before_data = pd.read_csv(file1)\n",
    "\n",
    "before_df = pd.DataFrame(before_data)\n",
    "#before_df.head(10)\n",
    "\n",
    "#File 2\n",
    "file2 = \"Resources/george_floyd.csv\"\n",
    "\n",
    "george_data = pd.read_csv(file2)\n",
    "\n",
    "george_df = pd.DataFrame(george_data)\n",
    "#george_df.head(10)\n",
    "\n",
    "#File 3\n",
    "file3 = \"Resources/after_floyd.csv\"\n",
    "\n",
    "after_data = pd.read_csv(file3)\n",
    "\n",
    "after_df = pd.DataFrame(after_data)\n",
    "#after_df.head(10)"
   ]
  },
  {
   "cell_type": "code",
   "execution_count": null,
   "id": "8eb90e40",
   "metadata": {},
   "outputs": [],
   "source": [
    "#Before Violent DataFrame\n",
    "before_violent_df = before_df[before_df[\"Crime\"]!=\"Arson\"]\n",
    "before_violent_df = before_violent_df[before_violent_df[\"Crime\"]!=\"Auto Theft\"]\n",
    "before_violent_df = before_violent_df[before_violent_df[\"Crime\"]!=\"Burglary\"]\n",
    "before_violent_df = before_violent_df[before_violent_df[\"Crime\"]!=\"Larceny\"]\n",
    "#before_violent_df\n",
    "\n",
    "before_violent_cases = before_violent_df.groupby(\"Crime\")[[\"Crime\",\"Number of Cases\"]].sum()\n",
    "before_violent_cases_list = before_violent_cases[\"Number of Cases\"].values.tolist()\n",
    "#before_violent_cases\n",
    "\n",
    "#After Violent DataFrame\n",
    "after_violent_df = after_df[after_df[\"Crime\"]!=\"Arson\"]\n",
    "after_violent_df = after_violent_df[after_violent_df[\"Crime\"]!=\"Auto Theft\"]\n",
    "after_violent_df = after_violent_df[after_violent_df[\"Crime\"]!=\"Burglary\"]\n",
    "after_violent_df = after_violent_df[after_violent_df[\"Crime\"]!=\"Larceny\"]\n",
    "#after_violent_df\n",
    "\n",
    "after_violent_cases = after_violent_df.groupby(\"Crime\")[[\"Crime\",\"Number of Cases\"]].sum()\n",
    "after_violent_cases_list = after_violent_cases[\"Number of Cases\"].values.tolist()\n",
    "#after_violent_cases\n",
    "\n",
    "#Set Tick Names\n",
    "violent_ticks = before_violent_df[\"Crime\"].unique().tolist()\n",
    "\n",
    "x_axis = np.arange(0,4,1)"
   ]
  },
  {
   "cell_type": "code",
   "execution_count": null,
   "id": "ec782cbc",
   "metadata": {},
   "outputs": [],
   "source": [
    "#Before Violent Visualization\n",
    "before_violent_bar = plt.bar(x_axis,before_violent_cases_list,align=\"center\")\n",
    "\n",
    "tick_locations = [value for value in x_axis]\n",
    "plt.xticks(tick_locations, violent_ticks)\n",
    "\n",
    "plt.xlim(-0.75, len(x_axis)-0.25)\n",
    "plt.ylim(0, 6000)\n",
    "\n",
    "plt.title(\"Number of Crimes before George Floyd (5/18-5/20)\")\n",
    "plt.xlabel(\"Type of Crime\")\n",
    "plt.ylabel(\"Number of Cases\")\n",
    "plt.savefig(\"Images/before_violent_crimes.jpeg\")\n",
    "plt.show()"
   ]
  },
  {
   "cell_type": "code",
   "execution_count": null,
   "id": "581b89b3",
   "metadata": {},
   "outputs": [],
   "source": [
    "#After Violent Visualization\n",
    "after_violent_bar = plt.bar(x_axis,after_violent_cases_list,align=\"center\",color=\"red\")\n",
    "\n",
    "tick_locations = [value for value in x_axis]\n",
    "plt.xticks(tick_locations, violent_ticks)\n",
    "\n",
    "plt.xlim(-0.75, len(x_axis)-0.25)\n",
    "plt.ylim(0, 6000)\n",
    "\n",
    "plt.title(\"Number of Crimes after George Floyd (6/20-6/22)\")\n",
    "plt.xlabel(\"Type of Crime\")\n",
    "plt.ylabel(\"Number of Cases\")\n",
    "plt.savefig(\"Images/after_violent_crimes.jpeg\")\n",
    "plt.show()"
   ]
  },
  {
   "cell_type": "code",
   "execution_count": null,
   "id": "5f129974",
   "metadata": {},
   "outputs": [],
   "source": [
    "#Combined Violent Visualization\n",
    "combined_violent_df = pd.DataFrame(before_violent_cases)\n",
    "combined_violent_df[\"After George Floyd\"] = after_violent_cases\n",
    "combined_violent_df.rename(columns=({\"Number of Cases\" : \"Before George Floyd\"}),inplace=True)\n",
    "combined_violent_df.plot.bar(ylabel=\"Number of Cases\")\n",
    "plt.savefig(\"Images/combined_violent_crimes.jpeg\")\n",
    "plt.show()"
   ]
  },
  {
   "cell_type": "code",
   "execution_count": null,
   "id": "2aeb59c8",
   "metadata": {},
   "outputs": [],
   "source": [
    "#Before Property DataFrame\n",
    "before_property_df = before_df[before_df[\"Crime\"]!=\"Aggravated Assault\"]\n",
    "before_property_df = before_property_df[before_property_df[\"Crime\"]!=\"Homicide\"]\n",
    "before_property_df = before_property_df[before_property_df[\"Crime\"]!=\"Rape\"]\n",
    "before_property_df = before_property_df[before_property_df[\"Crime\"]!=\"Robbery\"]\n",
    "#before_property_df\n",
    "\n",
    "before_property_cases = before_property_df.groupby(\"Crime\")[[\"Crime\",\"Number of Cases\"]].sum()\n",
    "before_property_cases_list = before_property_cases[\"Number of Cases\"].values.tolist()\n",
    "#before_property_cases\n",
    "\n",
    "#After Property DataFrame\n",
    "after_property_df = after_df[after_df[\"Crime\"]!=\"Aggravated Assault\"]\n",
    "after_property_df = after_property_df[after_property_df[\"Crime\"]!=\"Homicide\"]\n",
    "after_property_df = after_property_df[after_property_df[\"Crime\"]!=\"Rape\"]\n",
    "after_property_df = after_property_df[after_property_df[\"Crime\"]!=\"Robbery\"]\n",
    "#after_property_df\n",
    "\n",
    "after_property_cases = after_property_df.groupby(\"Crime\")[[\"Crime\",\"Number of Cases\"]].sum()\n",
    "after_property_cases_list = after_property_cases[\"Number of Cases\"].values.tolist()\n",
    "#after_property_cases\n",
    "\n",
    "#Set Tick Names\n",
    "property_ticks = before_property_df[\"Crime\"].unique().tolist()"
   ]
  },
  {
   "cell_type": "code",
   "execution_count": null,
   "id": "6995f542",
   "metadata": {},
   "outputs": [],
   "source": [
    "#Before Property Visualization\n",
    "before_property_bar = plt.bar(x_axis,before_property_cases_list,align=\"center\")\n",
    "\n",
    "tick_locations = [value for value in x_axis]\n",
    "plt.xticks(tick_locations, property_ticks)\n",
    "\n",
    "plt.xlim(-0.75, len(x_axis)-0.25)\n",
    "plt.ylim(0, 30000)\n",
    "\n",
    "plt.title(\"Number of Crimes before George Floyd (5/18-5/20)\")\n",
    "plt.xlabel(\"Type of Crime\")\n",
    "plt.ylabel(\"Number of Cases\")\n",
    "plt.savefig(\"Images/before_property_crimes.jpeg\")\n",
    "plt.show()"
   ]
  },
  {
   "cell_type": "code",
   "execution_count": null,
   "id": "d1d37ee1",
   "metadata": {},
   "outputs": [],
   "source": [
    "#After Property Visualization\n",
    "after_property_bar = plt.bar(x_axis,after_property_cases_list,align=\"center\",color=\"red\")\n",
    "\n",
    "tick_locations = [value for value in x_axis]\n",
    "plt.xticks(tick_locations, violent_ticks)\n",
    "\n",
    "plt.xlim(-0.75, len(x_axis)-0.25)\n",
    "plt.ylim(0, 30000)\n",
    "\n",
    "plt.title(\"Number of Crimes after George Floyd (6/20-6/22)\")\n",
    "plt.xlabel(\"Type of Crime\")\n",
    "plt.ylabel(\"Number of Cases\")\n",
    "plt.savefig(\"Images/after_property_crimes.jpeg\")\n",
    "plt.show()"
   ]
  },
  {
   "cell_type": "code",
   "execution_count": null,
   "id": "8f4d6940",
   "metadata": {},
   "outputs": [],
   "source": [
    "#Combined Violent Visualization\n",
    "combined_property_df = pd.DataFrame(before_property_cases)\n",
    "combined_property_df[\"After George Floyd\"] = after_property_cases\n",
    "combined_property_df.rename(columns=({\"Number of Cases\" : \"Before George Floyd\"}),inplace=True)\n",
    "combined_property_df.plot.bar(ylabel=\"Number of Cases\")\n",
    "plt.savefig(\"Images/combined_property_crimes.jpeg\")\n",
    "plt.show()"
   ]
  }
 ],
 "metadata": {
  "kernelspec": {
   "display_name": "Python 3 (ipykernel)",
   "language": "python",
   "name": "python3"
  },
  "language_info": {
   "codemirror_mode": {
    "name": "ipython",
    "version": 3
   },
   "file_extension": ".py",
   "mimetype": "text/x-python",
   "name": "python",
   "nbconvert_exporter": "python",
   "pygments_lexer": "ipython3",
   "version": "3.8.13"
  }
 },
 "nbformat": 4,
 "nbformat_minor": 5
}
