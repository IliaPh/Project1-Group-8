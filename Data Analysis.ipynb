{
 "cells": [
  {
   "cell_type": "code",
   "execution_count": null,
   "id": "46451507",
   "metadata": {},
   "outputs": [],
   "source": [
    "#Import Dependencies\n",
    "import pandas as pd\n",
    "import matplotlib.pyplot as plt\n",
    "import numpy as np"
   ]
  },
  {
   "cell_type": "code",
   "execution_count": null,
   "id": "7302b7a0",
   "metadata": {},
   "outputs": [],
   "source": [
    "#Load Dataset\n",
    "file = \"Resources/crime_data.csv\"\n",
    "\n",
    "crime_data = pd.read_csv(file)\n",
    "\n",
    "crime_df = pd.DataFrame(crime_data)\n",
    "crime_df.head(10)"
   ]
  },
  {
   "cell_type": "code",
   "execution_count": null,
   "id": "74b66369",
   "metadata": {},
   "outputs": [],
   "source": [
    "del crime_df[\"neighborhoodCrimeStatisticsID\"]\n",
    "crime_df"
   ]
  },
  {
   "cell_type": "code",
   "execution_count": null,
   "id": "45ae1429",
   "metadata": {},
   "outputs": [],
   "source": [
    "#Data Clean up\n",
    "crime_df = crime_df.rename(columns={\n",
    "    \"neighborhood\" : \"Neighborhood\",\n",
    "    \"ucrDescription\" : \"Crime\",\n",
    "    \"number\" : \"Number of Cases\",\n",
    "    \"reportMonth\" : \"Month\",\n",
    "    \"reportYear\" : \"Year\"\n",
    "})\n",
    "#crime_df\n",
    "\n",
    "crime_df[\"Date\"] = crime_df[\"Month\"].astype(str) +\"/\"+ crime_df[\"Year\"].astype(str)\n",
    "crime_df[\"Neighborhood\"].unique()"
   ]
  },
  {
   "cell_type": "code",
   "execution_count": null,
   "id": "d38a0ed0",
   "metadata": {},
   "outputs": [],
   "source": [
    "#Cleaning Up Neighborhoods\n",
    "crime_df[\"Neighborhood\"] = crime_df[\"Neighborhood\"].replace({\n",
    "    '** NOT ASSIGNED **' : \"Unknown\",\n",
    "    'Z_** NOT ASSIGNED **' : \"Unknown\",\n",
    "    'ARMATAGE' : 'Armatage',\n",
    "    'AUDUBON PARK' : 'Audubon Park',\n",
    "    'BANCROFT' : 'Bancroft',\n",
    "    'BELTRAMI' : 'Beltrami',\n",
    "    'BOTTINEAU' : 'Bottineau',\n",
    "    'BRYANT' : 'Bryant',\n",
    "    'BRYN - MAWR' : 'Bryn - Mawr',\n",
    "    'CAMDEN INDUSTRIAL' :'Camden Industrial',\n",
    "    'CARAG' : \"Carag\",\n",
    "    'CEDAR - ISLES - DEAN' : 'Cedar - Isles - Dean',\n",
    "    'CEDAR RIVERSIDE' : 'Cedar Riverside',\n",
    "    'CENTRAL' : 'Central',\n",
    "    'CLEVELAND' : 'Cleveland',\n",
    "    'COLUMBIA PARK' : 'Columbia Park',\n",
    "    'COMO' : 'Como',\n",
    "    'COOPER' : 'Cooper',\n",
    "    'CORCORAN' : 'Corcoran',\n",
    "    'DIAMOND LAKE' : 'Diamond Lake',\n",
    "    'DOWNTOWN EAST' : 'Downtown East',\n",
    "    'DOWNTOWN WEST' : 'Downtown West',\n",
    "    'EAST HARRIET' : 'East Harriet',\n",
    "    'EAST ISLES' : 'East Isles',\n",
    "    'EAST PHILLIPS' : 'East Phillips',\n",
    "    'ECCO' : \"Ecco\",\n",
    "    'ELLIOT PARK' : 'Elliot Park',\n",
    "    'ERICSSON' : 'Ericsson',\n",
    "    'FIELD' : 'Field',\n",
    "    'FOLWELL' : 'Folwell',\n",
    "    'FULTON' : 'Fulton',\n",
    "    'HALE' : 'Hale',\n",
    "    'HARRISON' : 'Harrison',\n",
    "    'HAWTHORNE' : 'Hawthorne',\n",
    "    'HIAWATHA' : 'Hiawatha',\n",
    "    'HOLLAND' : 'Holland',\n",
    "    'HOWE' : 'Howe',\n",
    "    'HUMBOLDT INDUSTRIAL AREA' : 'Humboldt Industrial Area',\n",
    "    'JORDAN' : 'Jordan',\n",
    "    'KEEWAYDIN' : 'Keewaydin',\n",
    "    'KENNY' : 'Kenny', \n",
    "    'KENWOOD' : 'Kenwood', \n",
    "    'KING FIELD' : 'King Field', \n",
    "    'LIND - BOHANON' : 'Lind - Bohanon',\n",
    "    'LINDEN HILLS' : 'Linden Hills', \n",
    "    'LOGAN PARK' : 'Logan Park', \n",
    "    'LONGFELLOW' : 'Longfellow', \n",
    "    'LORING PARK' : 'Loring Park',\n",
    "    'LOWRY HILL' : 'Lowry Hill', \n",
    "    'LOWRY HILL EAST' : 'Lowry Hill East', \n",
    "    'LYNDALE' : 'Lyndale', \n",
    "    'LYNNHURST' : 'Lynnhurst',\n",
    "    'MARCY HOLMES' : 'Marcy Holmes', \n",
    "    'MARSHALL TERRACE' : 'Marshall Terrace', \n",
    "    'MCKINLEY' : 'McKinley',\n",
    "    'MID - CITY INDUSTRIAL' : 'Mid - City Industrial', \n",
    "    'MIDTOWN PHILLIPS' : 'Midtown Phillips', \n",
    "    'MINNEHAHA' : 'Minnehaha',\n",
    "    'MORRIS PARK' : 'Morris Park', \n",
    "    'NEAR - NORTH' : 'Near - North', \n",
    "    'NICOLLET ISLAND - EAST BANK' : 'Nicollet Island - East Bank',\n",
    "    'NORTH LOOP' : 'North Loop', \n",
    "    'NORTHEAST PARK' : 'Northeast Park', \n",
    "    'NORTHROP' : 'Northrop', \n",
    "    'PAGE' : 'Page',\n",
    "    'PHILLIPS WEST' : 'Phillips West', \n",
    "    'POWDERHORN PARK' : 'Powderhorn Park',\n",
    "    'PROSPECT PARK - EAST RIVER ROAD' : 'Prospect Park - East River Road', \n",
    "    'REGINA' : 'Regina', \n",
    "    'SEWARD' : 'Seward', \n",
    "    'SHERIDAN' : 'Sheridan',\n",
    "    'SHINGLE CREEK' : 'Shingle Creek', \n",
    "    'ST. ANTHONY EAST' : 'St. Anthony East', \n",
    "    'ST. ANTHONY WEST' : 'St. Anthony West',\n",
    "    'STANDISH' : 'Standish', \n",
    "    'STEVENS SQUARE - LORING HEIGHTS' : \"Steven's Square - Loring Heights\", \n",
    "    'SUMNER - GLENWOOD' : 'Sumner - Glenwood',\n",
    "    'TANGLETOWN' : 'Tangletown', \n",
    "    'UNIVERSITY OF MINNESOTA' : 'University of Minnesota', \n",
    "    'VENTURA VILLAGE' : 'Ventura Village',\n",
    "    'VICTORY' : 'Victory', \n",
    "    'WAITE PARK' : 'Waite Park', \n",
    "    'WEBBER - CAMDEN' : 'Webber - Camden', \n",
    "    'WENONAH' : 'Wenonah',\n",
    "    'WEST CALHOUN' : 'West Calhoun', \n",
    "    'WHITTIER' : 'Whittier', \n",
    "    'WILLARD - HAY' : 'Willard - Hay', \n",
    "    'WINDOM' : 'Windom',\n",
    "    'WINDOM PARK' : 'Windom Park'\n",
    "})\n",
    "crime_df[\"Neighborhood\"].unique()"
   ]
  },
  {
   "cell_type": "code",
   "execution_count": null,
   "id": "78c4ccb8",
   "metadata": {},
   "outputs": [],
   "source": [
    "#More Clean up\n",
    "#Removing the no-named Neighborhoods\n",
    "crime_df = crime_df[crime_df[\"Neighborhood\"] != \"Unknown\"]\n",
    "#crime_df\n",
    "\n",
    "#Removing data outside our timeline\n",
    "crime_df = crime_df[crime_df[\"Year\"] > 2017]\n",
    "\n",
    "#Fill NaN\n",
    "crime_df[\"Number of Cases\"] = crime_df[\"Number of Cases\"].fillna(0)\n",
    "crime_df.head(10)"
   ]
  },
  {
   "cell_type": "code",
   "execution_count": null,
   "id": "6503bd75",
   "metadata": {},
   "outputs": [],
   "source": [
    "#Final Cleaned DataFrame\n",
    "crime_df = crime_df[[\"Neighborhood\",\"Crime\",\"Number of Cases\",\"Date\"]]\n",
    "crime_df.set_index(keys=\"Date\",inplace=True)\n",
    "crime_df.head(20)"
   ]
  },
  {
   "cell_type": "code",
   "execution_count": null,
   "id": "68d3b8fa",
   "metadata": {},
   "outputs": [],
   "source": [
    "#Crime data before George Floyd incident\n",
    "crimedatab4_df = crime_df.loc[\"6/2018\":\"5/2020\", :]\n",
    "crimedatab4_df"
   ]
  },
  {
   "cell_type": "code",
   "execution_count": null,
   "id": "69aad52d",
   "metadata": {},
   "outputs": [],
   "source": [
    "#Crime data after George Floyd incident\n",
    "crimedata_after_df = crime_df.loc[\"6/2020\":, :]\n",
    "crimedata_after_df\n"
   ]
  },
  {
   "cell_type": "code",
   "execution_count": null,
   "id": "e40af1d5",
   "metadata": {},
   "outputs": [],
   "source": [
    "# Create a piechart with crime data before George floyd incident\n",
    "data1 = crimedatab4_df.groupby([\"Crime\"]).sum()\n",
    "crime_labels = data1.index\n",
    "x_axis = data1[\"Number of Cases\"]\n",
    "plt.pie(x_axis, labels= crime_labels, autopct = \"%1.1f%%\", radius=1.0, textprops ={\"fontsize\":15})\n",
    "plt.title(\"Overall crime Incidents occurred before George Floyd killing from 06/2018-05/2020\", fontsize=15, loc=\"center\")\n",
    "plt.figure(figsize=(4,6))\n",
    "plt.tight_layout()\n",
    "plt.show()"
   ]
  },
  {
   "cell_type": "code",
   "execution_count": null,
   "id": "ff44376c",
   "metadata": {},
   "outputs": [],
   "source": [
    "# Create a piechart with crime data after George floyd incident\n",
    "data2 = crimedata_after_df.groupby([\"Crime\"]).sum()\n",
    "crime_labels = data2.index\n",
    "x_axis = data2[\"Number of Cases\"]\n",
    "plt.pie(x_axis, labels= crime_labels, autopct = \"%1.1f%%\", radius=1.0, textprops ={\"fontsize\":15})\n",
    "plt.title(\"Overall crime Incidents occurred after George Floyd killing from 06/2020-06/2022\", loc=\"center\", fontsize=15)\n",
    "plt.figure(figsize=(6,6))\n",
    "plt.tight_layout()\n",
    "plt.show()"
   ]
  },
  {
   "cell_type": "code",
   "execution_count": null,
   "id": "b3cb958c",
   "metadata": {},
   "outputs": [],
   "source": [
    "before =  data1[\"Number of Cases\"]\n",
    "after = data2[\"Number of Cases\"]\n",
    "# create a figure with two subplots\n",
    "fig, (ax1, ax2) = plt.subplots(1,2)\n",
    "\n",
    "# plot each pie chart in a separate subplot\n",
    "\n",
    "ax1.pie(before,labels= crime_labels, autopct = \"%1.1f%%\", radius=5, textprops ={\"fontsize\":8})\n",
    "\n",
    "ax2.pie(after,labels= crime_labels, autopct = \"%1.1f%%\", radius=5, textprops ={\"fontsize\":8})\n",
    "ax1.set_title('Overall crime Incidents occurred before George Floyd killing from 06/2018-05/2020')\n",
    "ax2.set_title('Overall crime Incidents occurred after George Floyd killing from 06/2020-06/2022')\n",
    "plt.subplots_adjust(wspace=19)\n",
    "\n",
    "\n",
    "\n",
    "plt.show()"
   ]
  },
  {
   "cell_type": "code",
   "execution_count": null,
   "id": "978d9630",
   "metadata": {},
   "outputs": [],
   "source": []
  }
 ],
 "metadata": {
  "kernelspec": {
   "display_name": "PythonData38",
   "language": "python",
   "name": "pythondata38"
  },
  "language_info": {
   "codemirror_mode": {
    "name": "ipython",
    "version": 3
   },
   "file_extension": ".py",
   "mimetype": "text/x-python",
   "name": "python",
   "nbconvert_exporter": "python",
   "pygments_lexer": "ipython3",
   "version": "3.9.12"
  }
 },
 "nbformat": 4,
 "nbformat_minor": 5
}
