{
 "cells": [
  {
   "cell_type": "code",
   "execution_count": null,
   "id": "46451507",
   "metadata": {},
   "outputs": [],
   "source": [
    "#Import Dependencies\n",
    "import pandas as pd"
   ]
  },
  {
   "cell_type": "code",
   "execution_count": null,
   "id": "7302b7a0",
   "metadata": {},
   "outputs": [],
   "source": [
    "#Load Dataset\n",
    "file = \"Resources/crime_data.csv\"\n",
    "\n",
    "crime_data = pd.read_csv(file)\n",
    "\n",
    "crime_df = pd.DataFrame(crime_data)\n",
    "#crime_df.head(10)"
   ]
  },
  {
   "cell_type": "code",
   "execution_count": null,
   "id": "0872c21d",
   "metadata": {},
   "outputs": [],
   "source": [
    "#Data Clean up\n",
    "crime_df = crime_df.rename(columns={\n",
    "    \"neighborhood\" : \"Neighborhood\",\n",
    "    \"ucrDescription\" : \"Crime\",\n",
    "    \"number\" : \"Number of Cases\",\n",
    "    \"reportMonth\" : \"Month\",\n",
    "    \"reportYear\" : \"Year\"\n",
    "})\n",
    "#crime_df\n",
    "\n",
    "del crime_df[\"neighborhoodCrimeStatisticsID\"]\n",
    "#crime_df\n",
    "\n",
    "crime_df[\"Date\"] = crime_df[\"Month\"].astype(str) +\"/\"+ crime_df[\"Year\"].astype(str)\n",
    "#crime_df"
   ]
  },
  {
   "cell_type": "code",
   "execution_count": null,
   "id": "d38a0ed0",
   "metadata": {},
   "outputs": [],
   "source": [
    "#Cleaning Up Neighborhoods\n",
    "crime_df[\"Neighborhood\"] = crime_df[\"Neighborhood\"].replace({\n",
    "    '** NOT ASSIGNED **' : \"Unknown\",\n",
    "    'Z_** NOT ASSIGNED **' : \"Unknown\",\n",
    "    'ARMATAGE' : 'Armatage',\n",
    "    'AUDUBON PARK' : 'Audubon Park',\n",
    "    'BANCROFT' : 'Bancroft',\n",
    "    'BELTRAMI' : 'Beltrami',\n",
    "    'BOTTINEAU' : 'Bottineau',\n",
    "    'BRYANT' : 'Bryant',\n",
    "    'BRYN - MAWR' : 'Bryn - Mawr',\n",
    "    'CAMDEN INDUSTRIAL' :'Camden Industrial',\n",
    "    'CARAG' : \"Carag\",\n",
    "    'CEDAR - ISLES - DEAN' : 'Cedar - Isles - Dean',\n",
    "    'CEDAR RIVERSIDE' : 'Cedar Riverside',\n",
    "    'CENTRAL' : 'Central',\n",
    "    'CLEVELAND' : 'Cleveland',\n",
    "    'COLUMBIA PARK' : 'Columbia Park',\n",
    "    'COMO' : 'Como',\n",
    "    'COOPER' : 'Cooper',\n",
    "    'CORCORAN' : 'Corcoran',\n",
    "    'DIAMOND LAKE' : 'Diamond Lake',\n",
    "    'DOWNTOWN EAST' : 'Downtown East',\n",
    "    'DOWNTOWN WEST' : 'Downtown West',\n",
    "    'EAST HARRIET' : 'East Harriet',\n",
    "    'EAST ISLES' : 'East Isles',\n",
    "    'EAST PHILLIPS' : 'East Phillips',\n",
    "    'ECCO' : \"Ecco\",\n",
    "    'ELLIOT PARK' : 'Elliot Park',\n",
    "    'ERICSSON' : 'Ericsson',\n",
    "    'FIELD' : 'Field',\n",
    "    'FOLWELL' : 'Folwell',\n",
    "    'FULTON' : 'Fulton',\n",
    "    'HALE' : 'Hale',\n",
    "    'HARRISON' : 'Harrison',\n",
    "    'HAWTHORNE' : 'Hawthorne',\n",
    "    'HIAWATHA' : 'Hiawatha',\n",
    "    'HOLLAND' : 'Holland',\n",
    "    'HOWE' : 'Howe',\n",
    "    'HUMBOLDT INDUSTRIAL AREA' : 'Humboldt Industrial Area',\n",
    "    'JORDAN' : 'Jordan',\n",
    "    'KEEWAYDIN' : 'Keewaydin',\n",
    "    'KENNY' : 'Kenny', \n",
    "    'KENWOOD' : 'Kenwood', \n",
    "    'KING FIELD' : 'King Field', \n",
    "    'LIND - BOHANON' : 'Lind - Bohanon',\n",
    "    'LINDEN HILLS' : 'Linden Hills', \n",
    "    'LOGAN PARK' : 'Logan Park', \n",
    "    'LONGFELLOW' : 'Longfellow', \n",
    "    'LORING PARK' : 'Loring Park',\n",
    "    'LOWRY HILL' : 'Lowry Hill', \n",
    "    'LOWRY HILL EAST' : 'Lowry Hill East', \n",
    "    'LYNDALE' : 'Lyndale', \n",
    "    'LYNNHURST' : 'Lynnhurst',\n",
    "    'MARCY HOLMES' : 'Marcy Holmes', \n",
    "    'MARSHALL TERRACE' : 'Marshall Terrace', \n",
    "    'MCKINLEY' : 'McKinley',\n",
    "    'MID - CITY INDUSTRIAL' : 'Mid - City Industrial', \n",
    "    'MIDTOWN PHILLIPS' : 'Midtown Phillips', \n",
    "    'MINNEHAHA' : 'Minnehaha',\n",
    "    'MORRIS PARK' : 'Morris Park', \n",
    "    'NEAR - NORTH' : 'Near - North', \n",
    "    'NICOLLET ISLAND - EAST BANK' : 'Nicollet Island - East Bank',\n",
    "    'NORTH LOOP' : 'North Loop', \n",
    "    'NORTHEAST PARK' : 'Northeast Park', \n",
    "    'NORTHROP' : 'Northrop', \n",
    "    'PAGE' : 'Page',\n",
    "    'PHILLIPS WEST' : 'Phillips West', \n",
    "    'POWDERHORN PARK' : 'Powderhorn Park',\n",
    "    'PROSPECT PARK - EAST RIVER ROAD' : 'Prospect Park - East River Road', \n",
    "    'REGINA' : 'Regina', \n",
    "    'SEWARD' : 'Seward', \n",
    "    'SHERIDAN' : 'Sheridan',\n",
    "    'SHINGLE CREEK' : 'Shingle Creek', \n",
    "    'ST. ANTHONY EAST' : 'St. Anthony East', \n",
    "    'ST. ANTHONY WEST' : 'St. Anthony West',\n",
    "    'STANDISH' : 'Standish', \n",
    "    'STEVENS SQUARE - LORING HEIGHTS' : \"Steven's Square - Loring Heights\", \n",
    "    'SUMNER - GLENWOOD' : 'Sumner - Glenwood',\n",
    "    'TANGLETOWN' : 'Tangletown', \n",
    "    'UNIVERSITY OF MINNESOTA' : 'University of Minnesota', \n",
    "    'VENTURA VILLAGE' : 'Ventura Village',\n",
    "    'VICTORY' : 'Victory', \n",
    "    'WAITE PARK' : 'Waite Park', \n",
    "    'WEBBER - CAMDEN' : 'Webber - Camden', \n",
    "    'WENONAH' : 'Wenonah',\n",
    "    'WEST CALHOUN' : 'West Calhoun', \n",
    "    'WHITTIER' : 'Whittier', \n",
    "    'WILLARD - HAY' : 'Willard - Hay', \n",
    "    'WINDOM' : 'Windom',\n",
    "    'WINDOM PARK' : 'Windom Park'\n",
    "})\n",
    "#crime_df[\"Neighborhood\"].unique()"
   ]
  },
  {
   "cell_type": "code",
   "execution_count": null,
   "id": "78c4ccb8",
   "metadata": {},
   "outputs": [],
   "source": [
    "#Removing the no-named Neighborhoods\n",
    "crime_df = crime_df[crime_df[\"Neighborhood\"] != \"Unknown\"]\n",
    "#crime_df"
   ]
  },
  {
   "cell_type": "code",
   "execution_count": null,
   "id": "bb2f19ac",
   "metadata": {},
   "outputs": [],
   "source": [
    "#Removing data outside our timeline\n",
    "crime_df = crime_df[crime_df[\"Year\"] > 2017]"
   ]
  },
  {
   "cell_type": "code",
   "execution_count": null,
   "id": "f6aa4617",
   "metadata": {},
   "outputs": [],
   "source": [
    "#Final Cleaned DataFrame\n",
    "#crime_df = crime_df[[\"Neighborhood\",\"Crime\",\"Number of Cases\",\"Date\"]]\n",
    "crime_df.set_index(keys=\"Neighborhood\",inplace=True)\n",
    "crime_df"
   ]
  },
  {
   "cell_type": "code",
   "execution_count": null,
   "id": "effd836a",
   "metadata": {},
   "outputs": [],
   "source": [
    "date_data = crime_df.groupby([\"Year\",\"Month\",\"Crime\"])[[\"Number of Cases\"]].count()\n",
    "date_data"
   ]
  },
  {
   "cell_type": "code",
   "execution_count": null,
   "id": "953dcb5b",
   "metadata": {},
   "outputs": [],
   "source": []
  }
 ],
 "metadata": {
  "kernelspec": {
   "display_name": "Python 3 (ipykernel)",
   "language": "python",
   "name": "python3"
  },
  "language_info": {
   "codemirror_mode": {
    "name": "ipython",
    "version": 3
   },
   "file_extension": ".py",
   "mimetype": "text/x-python",
   "name": "python",
   "nbconvert_exporter": "python",
   "pygments_lexer": "ipython3",
   "version": "3.8.13"
  }
 },
 "nbformat": 4,
 "nbformat_minor": 5
}
