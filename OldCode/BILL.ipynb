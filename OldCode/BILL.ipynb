{
 "cells": [
  {
   "cell_type": "code",
   "execution_count": null,
   "id": "3612a6ff",
   "metadata": {},
   "outputs": [],
   "source": [
    " # Dependencies and Setup\n",
    "import matplotlib.pyplot as plt\n",
    "import pandas as pd\n",
    "import numpy as np"
   ]
  },
  {
   "cell_type": "code",
   "execution_count": null,
   "id": "0578e5ce",
   "metadata": {},
   "outputs": [],
   "source": [
    "df = pd.read_csv(\"mpls_crime_2017-2022.csv\")\n",
    "df.head()"
   ]
  },
  {
   "cell_type": "code",
   "execution_count": null,
   "id": "93968b12",
   "metadata": {},
   "outputs": [],
   "source": [
    "new_df = df[df[\"reportYear\"] >= 2019]\n",
    "new_df = new_df.reset_index(drop=True)\n",
    "new_df"
   ]
  },
  {
   "cell_type": "code",
   "execution_count": null,
   "id": "c84ee19a",
   "metadata": {},
   "outputs": [],
   "source": [
    "pd.options.display.max_rows = 1000\n",
    "new_df[\"neighborhood\"].value_counts()"
   ]
  },
  {
   "cell_type": "code",
   "execution_count": null,
   "id": "10d6559a",
   "metadata": {},
   "outputs": [],
   "source": [
    "clean_df = new_df[new_df[\"neighborhood\"] != \"Z_** NOT ASSIGNED **\"]\n",
    "clean_df[\"neighborhood\"].value_counts()"
   ]
  },
  {
   "cell_type": "code",
   "execution_count": null,
   "id": "db436cce",
   "metadata": {},
   "outputs": [],
   "source": [
    "hood = clean_df[\"neighborhood\"]"
   ]
  },
  {
   "cell_type": "code",
   "execution_count": null,
   "id": "4cf69722",
   "metadata": {},
   "outputs": [],
   "source": [
    "hood = hood.replace(to_replace={\"CARAG\":\"South Uptown\"})"
   ]
  },
  {
   "cell_type": "code",
   "execution_count": null,
   "id": "e39ec6e0",
   "metadata": {},
   "outputs": [],
   "source": [
    "hood = hood.replace(to_replace={\"ECCO\":\"East Bde Maka Ska\"})"
   ]
  },
  {
   "cell_type": "code",
   "execution_count": null,
   "id": "66af3be6",
   "metadata": {},
   "outputs": [],
   "source": [
    "hood = hood.replace(to_replace={\"West Calhoun\":\"West Maka Ska\"})"
   ]
  },
  {
   "cell_type": "code",
   "execution_count": null,
   "id": "86bd4d76",
   "metadata": {},
   "outputs": [],
   "source": [
    "hood.value_counts()"
   ]
  },
  {
   "cell_type": "code",
   "execution_count": null,
   "id": "5b2e0fd6",
   "metadata": {},
   "outputs": [],
   "source": [
    "new_df[\"neighborhood\"] = hood"
   ]
  },
  {
   "cell_type": "code",
   "execution_count": null,
   "id": "ecbb3cf9",
   "metadata": {},
   "outputs": [],
   "source": [
    "new_df.reset_index(drop=True)"
   ]
  },
  {
   "cell_type": "code",
   "execution_count": null,
   "id": "790ebf60",
   "metadata": {},
   "outputs": [],
   "source": [
    "new_df[\"neighborhood\"].info()"
   ]
  },
  {
   "cell_type": "code",
   "execution_count": null,
   "id": "642f9f65",
   "metadata": {},
   "outputs": [],
   "source": [
    "new_df.tail(1000)"
   ]
  },
  {
   "cell_type": "code",
   "execution_count": null,
   "id": "b8ddef63",
   "metadata": {},
   "outputs": [],
   "source": [
    "new_df = new_df.dropna(how=\"any\")"
   ]
  },
  {
   "cell_type": "code",
   "execution_count": null,
   "id": "3acb2d8c",
   "metadata": {},
   "outputs": [],
   "source": [
    "new_df.shape"
   ]
  },
  {
   "cell_type": "code",
   "execution_count": null,
   "id": "68e27328",
   "metadata": {},
   "outputs": [],
   "source": [
    "new_df"
   ]
  },
  {
   "cell_type": "code",
   "execution_count": null,
   "id": "05a8db3e",
   "metadata": {},
   "outputs": [],
   "source": []
  }
 ],
 "metadata": {
  "kernelspec": {
   "display_name": "Python 3 (ipykernel)",
   "language": "python",
   "name": "python3"
  },
  "language_info": {
   "codemirror_mode": {
    "name": "ipython",
    "version": 3
   },
   "file_extension": ".py",
   "mimetype": "text/x-python",
   "name": "python",
   "nbconvert_exporter": "python",
   "pygments_lexer": "ipython3",
   "version": "3.8.13"
  }
 },
 "nbformat": 4,
 "nbformat_minor": 5
}
