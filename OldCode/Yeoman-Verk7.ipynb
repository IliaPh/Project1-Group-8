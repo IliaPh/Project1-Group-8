{
 "cells": [
  {
   "cell_type": "code",
   "execution_count": 1,
   "id": "1103a348",
   "metadata": {},
   "outputs": [],
   "source": [
    "import pandas as pd\n",
    "import numpy as np\n",
    "import scipy.stats as st\n",
    "import matplotlib.pyplot as plt"
   ]
  },
  {
   "cell_type": "code",
   "execution_count": 2,
   "id": "8f5d6371",
   "metadata": {},
   "outputs": [],
   "source": [
    "pd.options.display.max_rows = 1000\n",
    "\n",
    "df = pd.read_csv(\"mpls_crime_2017-2022.csv\", encoding=\"utf-8\")"
   ]
  },
  {
   "cell_type": "code",
   "execution_count": 3,
   "id": "00bc0666",
   "metadata": {
    "scrolled": true
   },
   "outputs": [
    {
     "data": {
      "text/html": [
       "<div>\n",
       "<style scoped>\n",
       "    .dataframe tbody tr th:only-of-type {\n",
       "        vertical-align: middle;\n",
       "    }\n",
       "\n",
       "    .dataframe tbody tr th {\n",
       "        vertical-align: top;\n",
       "    }\n",
       "\n",
       "    .dataframe thead th {\n",
       "        text-align: right;\n",
       "    }\n",
       "</style>\n",
       "<table border=\"1\" class=\"dataframe\">\n",
       "  <thead>\n",
       "    <tr style=\"text-align: right;\">\n",
       "      <th></th>\n",
       "      <th>neighborhoodCrimeStatisticsID</th>\n",
       "      <th>neighborhood</th>\n",
       "      <th>ucrDescription</th>\n",
       "      <th>number</th>\n",
       "      <th>reportMonth</th>\n",
       "      <th>reportYear</th>\n",
       "    </tr>\n",
       "  </thead>\n",
       "  <tbody>\n",
       "    <tr>\n",
       "      <th>41816</th>\n",
       "      <td>41817</td>\n",
       "      <td>Jordan</td>\n",
       "      <td>Aggravated Assault</td>\n",
       "      <td>12.0</td>\n",
       "      <td>7</td>\n",
       "      <td>2022</td>\n",
       "    </tr>\n",
       "    <tr>\n",
       "      <th>18635</th>\n",
       "      <td>18636</td>\n",
       "      <td>Lind - Bohanon</td>\n",
       "      <td>Burglary</td>\n",
       "      <td>10.0</td>\n",
       "      <td>10</td>\n",
       "      <td>2019</td>\n",
       "    </tr>\n",
       "    <tr>\n",
       "      <th>36870</th>\n",
       "      <td>36871</td>\n",
       "      <td>Hiawatha</td>\n",
       "      <td>Rape</td>\n",
       "      <td>0.0</td>\n",
       "      <td>12</td>\n",
       "      <td>2021</td>\n",
       "    </tr>\n",
       "    <tr>\n",
       "      <th>23644</th>\n",
       "      <td>23645</td>\n",
       "      <td>Marshall Terrace</td>\n",
       "      <td>Homicide</td>\n",
       "      <td>0.0</td>\n",
       "      <td>5</td>\n",
       "      <td>2020</td>\n",
       "    </tr>\n",
       "    <tr>\n",
       "      <th>13366</th>\n",
       "      <td>13367</td>\n",
       "      <td>Windom Park</td>\n",
       "      <td>Rape</td>\n",
       "      <td>0.0</td>\n",
       "      <td>2</td>\n",
       "      <td>2019</td>\n",
       "    </tr>\n",
       "  </tbody>\n",
       "</table>\n",
       "</div>"
      ],
      "text/plain": [
       "       neighborhoodCrimeStatisticsID      neighborhood      ucrDescription  \\\n",
       "41816                          41817            Jordan  Aggravated Assault   \n",
       "18635                          18636    Lind - Bohanon            Burglary   \n",
       "36870                          36871          Hiawatha                Rape   \n",
       "23644                          23645  Marshall Terrace            Homicide   \n",
       "13366                          13367       Windom Park                Rape   \n",
       "\n",
       "       number  reportMonth  reportYear  \n",
       "41816    12.0            7        2022  \n",
       "18635    10.0           10        2019  \n",
       "36870     0.0           12        2021  \n",
       "23644     0.0            5        2020  \n",
       "13366     0.0            2        2019  "
      ]
     },
     "execution_count": 3,
     "metadata": {},
     "output_type": "execute_result"
    }
   ],
   "source": [
    "df.sample(n=5)"
   ]
  },
  {
   "cell_type": "code",
   "execution_count": 4,
   "id": "80d3b6d8",
   "metadata": {},
   "outputs": [],
   "source": [
    "def clean_df(a_df):\n",
    "    \n",
    "    a_df = a_df.drop(\"neighborhoodCrimeStatisticsID\", axis=1)\n",
    "    a_df = a_df.loc[df[\"neighborhood\"] != \"Z_** NOT ASSIGNED **\"]\n",
    "    a_df = a_df.loc[df[\"neighborhood\"] != \"** NOT ASSIGNED **\"]\n",
    "    a_df[\"neighborhood\"] = a_df[\"neighborhood\"].replace(\"CARAG\", \"South Uptown\")\n",
    "    a_df[\"neighborhood\"] = a_df[\"neighborhood\"].replace(\"ECCO\", \"East Bde Maka Ska\")\n",
    "    a_df[\"neighborhood\"] = a_df[\"neighborhood\"].replace(\"WEST CALHOUN\", \"West Maka Ska\")\n",
    "    a_df[\"neighborhood\"] = a_df.neighborhood.str.lower()\n",
    "    a_df[\"neighborhood\"] = a_df[\"neighborhood\"].replace(\"stevens square - loring heights\", \"steven's square - loring heights\")\n",
    "    a_df[\"neighborhood\"] = a_df[\"neighborhood\"].replace(\"west calhoun\", \"west maka ska\")\n",
    "    \n",
    "    return a_df.copy()\n",
    "    "
   ]
  },
  {
   "cell_type": "code",
   "execution_count": 5,
   "id": "cb28acc3",
   "metadata": {},
   "outputs": [],
   "source": [
    "# Breakpoint\n",
    "\n",
    "df = clean_df(df).sort_values(by=\"neighborhood\")"
   ]
  },
  {
   "cell_type": "code",
   "execution_count": 6,
   "id": "634d2928",
   "metadata": {},
   "outputs": [],
   "source": [
    "# 480 data points for each neighborhood, accounting for name changes!\n",
    "\n",
    "# df.neighborhood.value_counts()\n",
    "\n"
   ]
  },
  {
   "cell_type": "code",
   "execution_count": 7,
   "id": "a267f1f9",
   "metadata": {},
   "outputs": [],
   "source": [
    "# Mpls Neighborhood \"Communities\"\n",
    "\n",
    "CALHOUN_ISLES = [\"bryn - mawr\", \"cedar - isles - dean\", \"east bde maka ska\", \"east isles\", \"kenwood\", \"lowry hill\", \\\n",
    "                 \"lowry hill east\", \"south uptown\", \"west maka ska\"]\n",
    "\n",
    "CAMDEN = [\"camden industrial\", \"cleveland\", \"folwell\", \"humboldt industrial area\", \"lind - bohanon\", \"mckinley\", \\\n",
    "          \"shingle creek\", \"victory\", \"webber - camden\"]\n",
    "\n",
    "CENTRAL = [\"downtown east\", \"downtown west\", \"elliot park\", \"loring park\", \"north loop\", \"steven's square - loring heights\"]\n",
    "\n",
    "LONGFELLOW = [\"cooper\", \"hiawatha\", \"howe\", \"longfellow\", \"seward\"]\n",
    "\n",
    "NEAR_NORTH = [\"harrison\", \"hawthorne\", \"jordan\", \"near - north\", \"sumner - glenwood\", \"willard - hay\"]\n",
    "\n",
    "NOKOMIS = [\"diamond lake\", \"ericsson\", \"field\", \"hale\", \"keewaydin\", \"minnehaha\", \"morris park\", \\\n",
    "           \"northrop\", \"page\", \"regina\", \"wenonah\"]\n",
    "\n",
    "NORTHEAST = [\"audubon park\", \"beltrami\", \"bottineau\", \"columbia park\", \"holland\", \"logan park\", \"marshall terrace\", \\\n",
    "             \"northeast park\", \"sheridan\", \"st. anthony east\", \"st. anthony west\", \"waite park\", \"windom park\"]\n",
    "\n",
    "PHILLIPS = [\"east phillips\", \"midtown phillips\", \"phillips west\", \"ventura village\"]\n",
    "\n",
    "POWDERHORN = [\"bancroft\", \"bryant\", \"central\", \"corcoran\", \"lyndale\", \"powderhorn park\", \"standish\", \"whittier\"]\n",
    " \n",
    "SOUTHWEST = [\"armatage\", \"east harriet\", \"fulton\", \"kenny\", \"king field\", \"linden hills\", \"lynnhurst\", \"tangletown\", \\\n",
    "             \"windom\"]\n",
    "\n",
    "UNIVERSITY = [\"cedar riverside\", \"como\", \"marcy holmes\", \"mid - city industrial\", \"nicollet island - east bank\", \\\n",
    "              \"prospect park - east river road\", \"university of minnesota\"]"
   ]
  },
  {
   "cell_type": "code",
   "execution_count": 8,
   "id": "3f7c865c",
   "metadata": {},
   "outputs": [],
   "source": [
    "# Make list of communities names, each a list of neighborhoods\n",
    "\n",
    "COMMUNITIES = [\"CALHOUN_ISLES\", \"CAMDEN\", \"CENTRAL\", \"LONGFELLOW\", \"NEAR_NORTH\", \"NOKOMIS\", \"NORTHEAST\", \\\n",
    "              \"PHILLIPS\", \"POWDERHORN\", \"SOUTHWEST\", \"UNIVERSITY\"]"
   ]
  },
  {
   "cell_type": "code",
   "execution_count": 9,
   "id": "e0216e6c",
   "metadata": {},
   "outputs": [],
   "source": [
    "# As per FBI ucr reporting standards\n",
    "\n",
    "violent_crimes = [\"Aggravated Assault\", \"Homicide\", \"Rape\", \"Robbery\"]\n",
    "\n",
    "property_crimes = [\"Arson\", \"Auto Theft\", \"Burglary\", \"Larceny\"]"
   ]
  },
  {
   "cell_type": "code",
   "execution_count": 11,
   "id": "1e50e03d",
   "metadata": {},
   "outputs": [],
   "source": [
    "# Narrow down to just months and type of crime I'm interested in\n",
    "\n",
    "before_violent = df[ (df[\"reportMonth\"]==5) & (df[\"reportYear\"]==2020) & (df[\"ucrDescription\"].isin(violent_crimes)) ]\n",
    "before_violent = before_violent.sort_values(by=[\"neighborhood\", \"ucrDescription\"])\n",
    "\n",
    "before_violent = before_violent.drop([\"reportMonth\", \"reportYear\"], axis=1)\n",
    "\n",
    "# before_violent"
   ]
  },
  {
   "cell_type": "code",
   "execution_count": 12,
   "id": "a2f64da9",
   "metadata": {},
   "outputs": [],
   "source": [
    "after_violent = df[ (df[\"reportMonth\"]==6) & (df[\"reportYear\"]==2020) & (df[\"ucrDescription\"].isin(violent_crimes)) ]\n",
    "after_violent = after_violent.sort_values(by=[\"neighborhood\", \"ucrDescription\"])\n",
    "\n",
    "after_violent = after_violent.drop([\"reportMonth\", \"reportYear\"], axis=1)\n",
    "\n",
    "# after_violent"
   ]
  },
  {
   "cell_type": "code",
   "execution_count": 13,
   "id": "15e314d3",
   "metadata": {},
   "outputs": [],
   "source": [
    "before_property = df[ (df[\"reportMonth\"]==5) & (df[\"reportYear\"]==2020) & (df[\"ucrDescription\"].isin(property_crimes)) ]\n",
    "before_property = before_property.sort_values(by=[\"neighborhood\", \"ucrDescription\"])\n",
    "\n",
    "before_property = before_property.drop([\"reportMonth\", \"reportYear\"], axis=1)\n",
    "\n",
    "# before_property"
   ]
  },
  {
   "cell_type": "code",
   "execution_count": 14,
   "id": "bf2b2253",
   "metadata": {},
   "outputs": [],
   "source": [
    "after_property = df[ (df[\"reportMonth\"]==6) & (df[\"reportYear\"]==2020) & (df[\"ucrDescription\"].isin(property_crimes)) ]\n",
    "after_property = after_property.sort_values(by=[\"neighborhood\", \"ucrDescription\"])\n",
    "\n",
    "after_property = after_property.drop([\"reportMonth\", \"reportYear\"], axis=1)\n",
    "\n",
    "# after_property"
   ]
  },
  {
   "cell_type": "code",
   "execution_count": 20,
   "id": "67e8d6e4",
   "metadata": {},
   "outputs": [
    {
     "name": "stdout",
     "output_type": "stream",
     "text": [
      "number    171.0\n",
      "dtype: float64\n"
     ]
    }
   ],
   "source": [
    "CALH_bp = before_property.loc[ (before_property[\"neighborhood\"].isin(CALHOUN_ISLES)), : ].groupby(\"neighborhood\").sum().sum()\n",
    "\n",
    "CAMD_bp = before_property.loc[ (before_property[\"neighborhood\"].isin(CAMDEN)), : ].groupby(\"neighborhood\").sum().sum()\n",
    "\n",
    "CENT_bp = before_property.loc[ (before_property[\"neighborhood\"].isin(CENTRAL)), : ].groupby(\"neighborhood\").sum().sum()\n",
    "\n",
    "LONG_bp = before_property.loc[ (before_property[\"neighborhood\"].isin(LONGFELLOW)), : ].groupby(\"neighborhood\").sum().sum()\n",
    "\n",
    "NEAR_bp = before_property.loc[ (before_property[\"neighborhood\"].isin(NEAR_NORTH)), : ].groupby(\"neighborhood\").sum().sum()\n",
    "\n",
    "NOKO_bp = before_property.loc[ (before_property[\"neighborhood\"].isin(NOKOMIS)), : ].groupby(\"neighborhood\").sum().sum()\n",
    "\n",
    "NORT_bp = before_property.loc[ (before_property[\"neighborhood\"].isin(NORTHEAST)), : ].groupby(\"neighborhood\").sum().sum()\n",
    "\n",
    "PHIL_bp = before_property.loc[ (before_property[\"neighborhood\"].isin(PHILLIPS)), : ].groupby(\"neighborhood\").sum().sum()\n",
    "\n",
    "POWD_bp = before_property.loc[ (before_property[\"neighborhood\"].isin(POWDERHORN)), : ].groupby(\"neighborhood\").sum().sum()\n",
    "\n",
    "SOUT_bp = before_property.loc[ (before_property[\"neighborhood\"].isin(SOUTHWEST)), : ].groupby(\"neighborhood\").sum().sum()\n",
    "\n",
    "UNIV_bp = before_property.loc[ (before_property[\"neighborhood\"].isin(UNIVERSITY)), : ].groupby(\"neighborhood\").sum().sum()\n"
   ]
  },
  {
   "cell_type": "code",
   "execution_count": null,
   "id": "838846c5",
   "metadata": {},
   "outputs": [],
   "source": [
    "CALH_ap = after_property.loc[ (after_property[\"neighborhood\"].isin(CALHOUN_ISLES)), : ].groupby(\"neighborhood\").sum().sum()\n",
    "\n",
    "CAMD_ap = after_property.loc[ (after_property[\"neighborhood\"].isin(CAMDEN)), : ].groupby(\"neighborhood\").sum().sum()\n",
    "\n",
    "CENT_ap = after_property.loc[ (after_property[\"neighborhood\"].isin(CENTRAL)), : ].groupby(\"neighborhood\").sum().sum()\n",
    "\n",
    "LONG_ap = after_property.loc[ (after_property[\"neighborhood\"].isin(LONGFELLOW)), : ].groupby(\"neighborhood\").sum().sum()\n",
    "\n",
    "NEAR_ap = after_property.loc[ (after_property[\"neighborhood\"].isin(NEAR_NORTH)), : ].groupby(\"neighborhood\").sum().sum()\n",
    "\n",
    "NOKO_ap = after_property.loc[ (after_property[\"neighborhood\"].isin(NOKOMIS)), : ].groupby(\"neighborhood\").sum().sum()\n",
    "\n",
    "NORT_ap = after_property.loc[ (after_property[\"neighborhood\"].isin(NORTHEAST)), : ].groupby(\"neighborhood\").sum().sum()\n",
    "\n",
    "PHIL_ap = after_property.loc[ (after_property[\"neighborhood\"].isin(PHILLIPS)), : ].groupby(\"neighborhood\").sum().sum()\n",
    "\n",
    "POWD_ap = after_property.loc[ (after_property[\"neighborhood\"].isin(POWDERHORN)), : ].groupby(\"neighborhood\").sum().sum()\n",
    "\n",
    "SOUT_ap = after_property.loc[ (after_property[\"neighborhood\"].isin(SOUTHWEST)), : ].groupby(\"neighborhood\").sum().sum()\n",
    "\n",
    "UNIV_ap = after_property.loc[ (after_property[\"neighborhood\"].isin(UNIVERSITY)), : ].groupby(\"neighborhood\").sum().sum()\n"
   ]
  },
  {
   "cell_type": "code",
   "execution_count": null,
   "id": "fcc49758",
   "metadata": {},
   "outputs": [],
   "source": [
    "CALH_bv = before_violence.loc[ (before_violence[\"neighborhood\"].isin(CALHOUN_ISLES)), : ].groupby(\"neighborhood\").sum().sum()\n",
    "\n",
    "CAMD_bv = before_violence.loc[ (before_violence[\"neighborhood\"].isin(CAMDEN)), : ].groupby(\"neighborhood\").sum().sum()\n",
    "\n",
    "CENT_bv = before_violence.loc[ (before_violence[\"neighborhood\"].isin(CENTRAL)), : ].groupby(\"neighborhood\").sum().sum()\n",
    "\n",
    "LONG_bv = before_violence.loc[ (before_violence[\"neighborhood\"].isin(LONGFELLOW)), : ].groupby(\"neighborhood\").sum().sum()\n",
    "\n",
    "NEAR_bv = before_violence.loc[ (before_violence[\"neighborhood\"].isin(NEAR_NORTH)), : ].groupby(\"neighborhood\").sum().sum()\n",
    "\n",
    "NOKO_bv = before_violence.loc[ (before_violence[\"neighborhood\"].isin(NOKOMIS)), : ].groupby(\"neighborhood\").sum().sum()\n",
    "\n",
    "NORT_bv = before_violence.loc[ (before_violence[\"neighborhood\"].isin(NORTHEAST)), : ].groupby(\"neighborhood\").sum().sum()\n",
    "\n",
    "PHIL_bv = before_violence.loc[ (before_violence[\"neighborhood\"].isin(PHILLIPS)), : ].groupby(\"neighborhood\").sum().sum()\n",
    "\n",
    "POWD_bv = before_violence.loc[ (before_violence[\"neighborhood\"].isin(POWDERHORN)), : ].groupby(\"neighborhood\").sum().sum()\n",
    "\n",
    "SOUT_bv = before_violence.loc[ (before_violence[\"neighborhood\"].isin(SOUTHWEST)), : ].groupby(\"neighborhood\").sum().sum()\n",
    "\n",
    "UNIV_bv = before_violence.loc[ (before_violence[\"neighborhood\"].isin(UNIVERSITY)), : ].groupby(\"neighborhood\").sum().sum()\n"
   ]
  },
  {
   "cell_type": "code",
   "execution_count": null,
   "id": "a4448424",
   "metadata": {},
   "outputs": [],
   "source": [
    "CALH_av = after_violence.loc[ (after_violence[\"neighborhood\"].isin(CALHOUN_ISLES)), : ].groupby(\"neighborhood\").sum().sum()\n",
    "\n",
    "CAMD_av = after_violence.loc[ (after_violence[\"neighborhood\"].isin(CAMDEN)), : ].groupby(\"neighborhood\").sum().sum()\n",
    "\n",
    "CENT_av = after_violence.loc[ (after_violence[\"neighborhood\"].isin(CENTRAL)), : ].groupby(\"neighborhood\").sum().sum()\n",
    "\n",
    "LONG_av = after_violence.loc[ (after_violence[\"neighborhood\"].isin(LONGFELLOW)), : ].groupby(\"neighborhood\").sum().sum()\n",
    "\n",
    "NEAR_av = after_violence.loc[ (after_violence[\"neighborhood\"].isin(NEAR_NORTH)), : ].groupby(\"neighborhood\").sum().sum()\n",
    "\n",
    "NOKO_av = after_violence.loc[ (after_violence[\"neighborhood\"].isin(NOKOMIS)), : ].groupby(\"neighborhood\").sum().sum()\n",
    "\n",
    "NORT_av = after_violence.loc[ (after_violence[\"neighborhood\"].isin(NORTHEAST)), : ].groupby(\"neighborhood\").sum().sum()\n",
    "\n",
    "PHIL_av = after_violence.loc[ (after_violence[\"neighborhood\"].isin(PHILLIPS)), : ].groupby(\"neighborhood\").sum().sum()\n",
    "\n",
    "POWD_av = after_violence.loc[ (after_violence[\"neighborhood\"].isin(POWDERHORN)), : ].groupby(\"neighborhood\").sum().sum()\n",
    "\n",
    "SOUT_av = after_violence.loc[ (after_violence[\"neighborhood\"].isin(SOUTHWEST)), : ].groupby(\"neighborhood\").sum().sum()\n",
    "\n",
    "UNIV_av = after_violence.loc[ (after_violence[\"neighborhood\"].isin(UNIVERSITY)), : ].groupby(\"neighborhood\").sum().sum()\n"
   ]
  }
 ],
 "metadata": {
  "kernelspec": {
   "display_name": "Python 3 (ipykernel)",
   "language": "python",
   "name": "python3"
  },
  "language_info": {
   "codemirror_mode": {
    "name": "ipython",
    "version": 3
   },
   "file_extension": ".py",
   "mimetype": "text/x-python",
   "name": "python",
   "nbconvert_exporter": "python",
   "pygments_lexer": "ipython3",
   "version": "3.8.13"
  }
 },
 "nbformat": 4,
 "nbformat_minor": 5
}
