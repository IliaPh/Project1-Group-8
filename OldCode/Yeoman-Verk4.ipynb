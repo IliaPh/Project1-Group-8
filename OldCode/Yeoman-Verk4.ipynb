{
 "cells": [
  {
   "cell_type": "code",
   "execution_count": 1,
   "id": "1103a348",
   "metadata": {},
   "outputs": [],
   "source": [
    "import pandas as pd\n",
    "import numpy as np\n",
    "import scipy.stats as st\n",
    "import matplotlib.pyplot as plt"
   ]
  },
  {
   "cell_type": "code",
   "execution_count": 2,
   "id": "8f5d6371",
   "metadata": {},
   "outputs": [],
   "source": [
    "pd.options.display.max_rows = 1000\n",
    "\n",
    "df = pd.read_csv(\"mpls_crime_2017-2022.csv\", encoding=\"utf-8\")"
   ]
  },
  {
   "cell_type": "code",
   "execution_count": null,
   "id": "00bc0666",
   "metadata": {
    "scrolled": true
   },
   "outputs": [],
   "source": [
    "df.sample(n=5)"
   ]
  },
  {
   "cell_type": "code",
   "execution_count": 3,
   "id": "634d2928",
   "metadata": {},
   "outputs": [],
   "source": [
    "df = df.drop(\"neighborhoodCrimeStatisticsID\", axis=1)"
   ]
  },
  {
   "cell_type": "code",
   "execution_count": null,
   "id": "1d4c8823",
   "metadata": {},
   "outputs": [],
   "source": [
    "df.neighborhood.unique()"
   ]
  },
  {
   "cell_type": "code",
   "execution_count": 5,
   "id": "c5a258b4",
   "metadata": {},
   "outputs": [],
   "source": [
    "df = df.loc[df[\"neighborhood\"] != \"Z_** NOT ASSIGNED **\"]\n",
    "df = df.loc[df[\"neighborhood\"] != \"** NOT ASSIGNED **\"]\n",
    "\n",
    "# df.neighborhood.value_counts()"
   ]
  },
  {
   "cell_type": "code",
   "execution_count": 6,
   "id": "cf32b0cd",
   "metadata": {},
   "outputs": [],
   "source": [
    "df[\"neighborhood\"] = df[\"neighborhood\"].replace(\"CARAG\", \"South Uptown\")\n",
    "df[\"neighborhood\"] = df[\"neighborhood\"].replace(\"ECCO\", \"East Bde Maka Ska\")\n",
    "df[\"neighborhood\"] = df[\"neighborhood\"].replace(\"WEST CALHOUN\", \"West Maka Ska\")\n",
    "\n",
    "df[\"neighborhood\"] = df.neighborhood.str.lower()\n",
    "\n",
    "# df.neighborhood.value_counts()"
   ]
  },
  {
   "cell_type": "code",
   "execution_count": 7,
   "id": "f7e93c30",
   "metadata": {},
   "outputs": [
    {
     "data": {
      "text/plain": [
       "array(['armatage', 'audubon park', 'bancroft', 'beltrami', 'bottineau',\n",
       "       'bryant', 'bryn - mawr', 'camden industrial',\n",
       "       'cedar - isles - dean', 'cedar riverside', 'central', 'cleveland',\n",
       "       'columbia park', 'como', 'cooper', 'corcoran', 'diamond lake',\n",
       "       'downtown east', 'downtown west', 'east bde maka ska',\n",
       "       'east harriet', 'east isles', 'east phillips', 'elliot park',\n",
       "       'ericsson', 'field', 'folwell', 'fulton', 'hale', 'harrison',\n",
       "       'hawthorne', 'hiawatha', 'holland', 'howe',\n",
       "       'humboldt industrial area', 'jordan', 'keewaydin', 'kenny',\n",
       "       'kenwood', 'king field', 'lind - bohanon', 'linden hills',\n",
       "       'logan park', 'longfellow', 'loring park', 'lowry hill',\n",
       "       'lowry hill east', 'lyndale', 'lynnhurst', 'marcy holmes',\n",
       "       'marshall terrace', 'mckinley', 'mid - city industrial',\n",
       "       'midtown phillips', 'minnehaha', 'morris park', 'near - north',\n",
       "       'nicollet island - east bank', 'north loop', 'northeast park',\n",
       "       'northrop', 'page', 'phillips west', 'powderhorn park',\n",
       "       'prospect park - east river road', 'regina', 'seward', 'sheridan',\n",
       "       'shingle creek', 'south uptown', 'st. anthony east',\n",
       "       'st. anthony west', 'standish', \"steven's square - loring heights\",\n",
       "       'sumner - glenwood', 'tangletown', 'university of minnesota',\n",
       "       'ventura village', 'victory', 'waite park', 'webber - camden',\n",
       "       'wenonah', 'west maka ska', 'whittier', 'willard - hay', 'windom',\n",
       "       'windom park'], dtype=object)"
      ]
     },
     "execution_count": 7,
     "metadata": {},
     "output_type": "execute_result"
    }
   ],
   "source": [
    "df[\"neighborhood\"] = df[\"neighborhood\"].replace(\"stevens square - loring heights\", \"steven's square - loring heights\")\n",
    "\n",
    "df[\"neighborhood\"] = df[\"neighborhood\"].replace(\"west calhoun\", \"west maka ska\")\n",
    "\n",
    "df.sort_values(by=\"neighborhood\")[\"neighborhood\"].unique()\n",
    "\n",
    "# 480 data points for each neighborhood, accounting for name changes!"
   ]
  },
  {
   "cell_type": "code",
   "execution_count": 8,
   "id": "4e82a81a",
   "metadata": {},
   "outputs": [
    {
     "data": {
      "text/plain": [
       "87"
      ]
     },
     "execution_count": 8,
     "metadata": {},
     "output_type": "execute_result"
    }
   ],
   "source": [
    "df.neighborhood.nunique()"
   ]
  },
  {
   "cell_type": "code",
   "execution_count": 9,
   "id": "3f7c865c",
   "metadata": {},
   "outputs": [],
   "source": [
    "CALHOUN_ISLES = [\"bryn - mawr\", \"cedar - isles - dean\", \"east bde maka ska\", \"east isles\", \"kenwood\", \"lowry hill\", \\\n",
    "                 \"lowry hill east\", \"south uptown\", \"west maka ska\"]\n",
    "\n",
    "CAMDEN = [\"camden industrial\", \"cleveland\", \"folwell\", \"humboldt industrial area\", \"lind - bohanon\", \"mckinley\", \"shingle creek\", \"victory\", \"webber - camden\"]\n",
    "\n",
    "CENTRAL = [\"downtown east\", \"downtown west\", \"elliot park\", \"loring park\", \"north loop\", \"steven's square - loring heights\"]\n",
    "\n",
    "LONGFELLOW = [\"cooper\", \"hiawatha\", \"howe\", \"longfellow\", \"seward\"]\n",
    "\n",
    "NEAR_NORTH = [\"harrison\", \"hawthorne\", \"jordan\", \"near - north\", \"sumner - glenwood\", \"willard - hay\"]\n",
    "\n",
    "NOKOMIS = [\"diamond lake\", \"ericsson\", \"field\", \"hale\", \"keewaydin\", \"minnehaha\", \"morris park\", \\\n",
    "           \"northrop\", \"page\", \"regina\", \"wenonah\"]\n",
    "\n",
    "NORTHEAST = [\"audubon park\", \"beltrami\", \"bottineau\", \"columbia park\", \"holland\", \"logan park\", \"marshall terrace\", \\\n",
    "             \"northeast park\", \"sheridan\", \"st. anthony east\", \"st. anthony west\", \"waite park\", \"windom park\"]\n",
    "\n",
    "PHILLIPS = [\"east phillips\", \"midtown phillips\", \"phillips west\", \"ventura village\"]\n",
    "\n",
    "POWDERHORN = [\"bancroft\", \"bryant\", \"central\", \"corcoran\", \"lyndale\", \"powderhorn park\", \"standish\", \"whittier\"]\n",
    "\n",
    "SOUTHWEST = [\"armatage\", \"east harriet\", \"fulton\", \"kenny\", \"king field\", \"linden hills\", \"lynnhurst\", \"tangletown\", \"windom\"]\n",
    "\n",
    "UNIVERSITY = [\"cedar riverside\", \"como\", \"marcy holmes\", \"mid - city industrial\", \"nicollet island - east bank\", \"prospect park - east river road\", \"university of minnesota\"]\n",
    "\n",
    "COMMUNITIES = [CALHOUN_ISLES, CAMDEN, CENTRAL, LONGFELLOW, NEAR_NORTH, NOKOMIS, NORTHEAST, \\\n",
    "              PHILLIPS, POWDERHORN, SOUTHWEST, UNIVERSITY]"
   ]
  },
  {
   "cell_type": "code",
   "execution_count": 10,
   "id": "1a64ec18",
   "metadata": {},
   "outputs": [
    {
     "data": {
      "text/plain": [
       "array(['Aggravated Assault', 'Arson', 'Auto Theft', 'Burglary',\n",
       "       'Homicide', 'Larceny', 'Rape', 'Robbery'], dtype=object)"
      ]
     },
     "execution_count": 10,
     "metadata": {},
     "output_type": "execute_result"
    }
   ],
   "source": [
    "df.ucrDescription.unique()"
   ]
  },
  {
   "cell_type": "code",
   "execution_count": 11,
   "id": "e0216e6c",
   "metadata": {},
   "outputs": [],
   "source": [
    "violent_crimes = [\"Aggravated Assault\", \"Homicide\", \"Rape\", \"Robbery\"]\n",
    "\n",
    "property_crimes = [\"Arson\", \"Auto Theft\", \"Burglary\", \"Larceny\"]\n",
    "\n",
    "# As per FBI ucr reporting standards"
   ]
  },
  {
   "cell_type": "code",
   "execution_count": 12,
   "id": "bf2b2253",
   "metadata": {},
   "outputs": [],
   "source": [
    "# Narrow down to just months and type of crime I'm interested in\n",
    "\n",
    "before_violent = df[ (df[\"reportMonth\"]==5) & (df[\"reportYear\"]==2020) & (df[\"ucrDescription\"].isin(violent_crimes)) ]\n",
    "after_violent = df[ (df[\"reportMonth\"]==6) & (df[\"reportYear\"]==2020) & (df[\"ucrDescription\"].isin(violent_crimes)) ]\n",
    "\n",
    "before_violent = before_violent.sort_values(by=[\"neighborhood\", \"ucrDescription\"])\n",
    "after_violent = after_violent.sort_values(by=[\"neighborhood\", \"ucrDescription\"])\n",
    "\n",
    "before_property = df[ (df[\"reportMonth\"]==5) & (df[\"reportYear\"]==2020) & (df[\"ucrDescription\"].isin(property_crimes)) ]\n",
    "after_property = df[ (df[\"reportMonth\"]==6) & (df[\"reportYear\"]==2020) & (df[\"ucrDescription\"].isin(property_crimes)) ]\n",
    "\n",
    "before_property = before_property.sort_values(by=[\"neighborhood\", \"ucrDescription\"])\n",
    "after_property = after_property.sort_values(by=[\"neighborhood\", \"ucrDescription\"])"
   ]
  },
  {
   "cell_type": "code",
   "execution_count": 13,
   "id": "33bc9ea4",
   "metadata": {},
   "outputs": [],
   "source": [
    "before_property = before_property.drop([\"reportMonth\", \"reportYear\"], axis=1)"
   ]
  },
  {
   "cell_type": "code",
   "execution_count": 14,
   "id": "1183b267",
   "metadata": {},
   "outputs": [],
   "source": [
    "after_property = after_property.drop([\"reportMonth\", \"reportYear\"], axis=1)"
   ]
  },
  {
   "cell_type": "code",
   "execution_count": 15,
   "id": "00092b04",
   "metadata": {},
   "outputs": [],
   "source": [
    "before_violent = before_violent.drop([\"reportMonth\", \"reportYear\"], axis=1)"
   ]
  },
  {
   "cell_type": "code",
   "execution_count": 16,
   "id": "6e4d3323",
   "metadata": {},
   "outputs": [],
   "source": [
    "after_violent = after_violent.drop([\"reportMonth\", \"reportYear\"], axis=1)"
   ]
  },
  {
   "cell_type": "code",
   "execution_count": null,
   "id": "151524a7",
   "metadata": {},
   "outputs": [],
   "source": [
    "# Now have the 4 principal dfs I will use for all further work:\n",
    "\n",
    "# 1. before_property\n",
    "# 2. after_property\n",
    "\n",
    "# 3. before_violent\n",
    "# 4. after_violent\n",
    "\n",
    "# I will split these into df by Mpls COMMUNITY, then run aggs and return series for plotting!\n",
    "\n",
    "# CALHOUN_ISLES, CAMDEN, CENTRAL, LONGFELLOW, NEAR_NORTH, NOKOMIS, NORTHEAST, \\\n",
    "#               PHILLIPS, POWDERHORN, SOUTHWEST, UNIVERSITY\n",
    "\n",
    "# Naming scheme:\n",
    "    \n",
    "# CALH = CALHOUN_ISLES\n",
    "# CAMD = CAMDEN\n",
    "# etc."
   ]
  },
  {
   "cell_type": "code",
   "execution_count": 37,
   "id": "2d451bd1",
   "metadata": {},
   "outputs": [
    {
     "data": {
      "text/plain": [
       "<AxesSubplot:ylabel='neighborhood'>"
      ]
     },
     "execution_count": 37,
     "metadata": {},
     "output_type": "execute_result"
    },
    {
     "data": {
      "image/png": "[encoded data removed]",
      "text/plain": [
       "<Figure size 432x288 with 1 Axes>"
      ]
     },
     "metadata": {
      "needs_background": "light"
     },
     "output_type": "display_data"
    }
   ],
   "source": [
    "bp_CALHOUN_ISLES = before_property.loc[  (before_property[\"neighborhood\"].isin(CALHOUN_ISLES))  ]\n",
    "\n",
    "bp_CALHOUN_ISLES = bp_CALHOUN_ISLES.sort_values(by=\"neighborhood\")\n",
    "\n",
    "final_bp_CALHOUN_ISLES = bp_CALHOUN_ISLES.groupby(\"neighborhood\")[\"number\"].sum()\n",
    "final_bp_CALHOUN_ISLES = final_bp_CALHOUN_ISLES.sort_values()\n",
    "\n",
    "total_beforepropertycrime_CALHOUN_ISLES = final_bp_CALHOUN_ISLES.sum()\n",
    "\n",
    "final_bp_CALHOUN_ISLES.plot(kind=\"barh\")"
   ]
  },
  {
   "cell_type": "code",
   "execution_count": 45,
   "id": "b3da318e",
   "metadata": {},
   "outputs": [],
   "source": []
  },
  {
   "cell_type": "code",
   "execution_count": 26,
   "id": "0cbd1857",
   "metadata": {},
   "outputs": [
    {
     "data": {
      "text/html": [
       "<div>\n",
       "<style scoped>\n",
       "    .dataframe tbody tr th:only-of-type {\n",
       "        vertical-align: middle;\n",
       "    }\n",
       "\n",
       "    .dataframe tbody tr th {\n",
       "        vertical-align: top;\n",
       "    }\n",
       "\n",
       "    .dataframe thead th {\n",
       "        text-align: right;\n",
       "    }\n",
       "</style>\n",
       "<table border=\"1\" class=\"dataframe\">\n",
       "  <thead>\n",
       "    <tr style=\"text-align: right;\">\n",
       "      <th></th>\n",
       "      <th>neighborhood</th>\n",
       "      <th>ucrDescription</th>\n",
       "      <th>number</th>\n",
       "    </tr>\n",
       "  </thead>\n",
       "  <tbody>\n",
       "    <tr>\n",
       "      <th>23281</th>\n",
       "      <td>bryn - mawr</td>\n",
       "      <td>Arson</td>\n",
       "      <td>0.0</td>\n",
       "    </tr>\n",
       "    <tr>\n",
       "      <th>23282</th>\n",
       "      <td>bryn - mawr</td>\n",
       "      <td>Auto Theft</td>\n",
       "      <td>1.0</td>\n",
       "    </tr>\n",
       "    <tr>\n",
       "      <th>23283</th>\n",
       "      <td>bryn - mawr</td>\n",
       "      <td>Burglary</td>\n",
       "      <td>3.0</td>\n",
       "    </tr>\n",
       "    <tr>\n",
       "      <th>23285</th>\n",
       "      <td>bryn - mawr</td>\n",
       "      <td>Larceny</td>\n",
       "      <td>1.0</td>\n",
       "    </tr>\n",
       "    <tr>\n",
       "      <th>23305</th>\n",
       "      <td>cedar - isles - dean</td>\n",
       "      <td>Arson</td>\n",
       "      <td>0.0</td>\n",
       "    </tr>\n",
       "    <tr>\n",
       "      <th>23306</th>\n",
       "      <td>cedar - isles - dean</td>\n",
       "      <td>Auto Theft</td>\n",
       "      <td>3.0</td>\n",
       "    </tr>\n",
       "    <tr>\n",
       "      <th>23307</th>\n",
       "      <td>cedar - isles - dean</td>\n",
       "      <td>Burglary</td>\n",
       "      <td>5.0</td>\n",
       "    </tr>\n",
       "    <tr>\n",
       "      <th>23309</th>\n",
       "      <td>cedar - isles - dean</td>\n",
       "      <td>Larceny</td>\n",
       "      <td>12.0</td>\n",
       "    </tr>\n",
       "    <tr>\n",
       "      <th>23393</th>\n",
       "      <td>east bde maka ska</td>\n",
       "      <td>Arson</td>\n",
       "      <td>0.0</td>\n",
       "    </tr>\n",
       "    <tr>\n",
       "      <th>23394</th>\n",
       "      <td>east bde maka ska</td>\n",
       "      <td>Auto Theft</td>\n",
       "      <td>1.0</td>\n",
       "    </tr>\n",
       "    <tr>\n",
       "      <th>23395</th>\n",
       "      <td>east bde maka ska</td>\n",
       "      <td>Burglary</td>\n",
       "      <td>5.0</td>\n",
       "    </tr>\n",
       "    <tr>\n",
       "      <th>23397</th>\n",
       "      <td>east bde maka ska</td>\n",
       "      <td>Larceny</td>\n",
       "      <td>3.0</td>\n",
       "    </tr>\n",
       "    <tr>\n",
       "      <th>23409</th>\n",
       "      <td>east isles</td>\n",
       "      <td>Arson</td>\n",
       "      <td>0.0</td>\n",
       "    </tr>\n",
       "    <tr>\n",
       "      <th>23410</th>\n",
       "      <td>east isles</td>\n",
       "      <td>Auto Theft</td>\n",
       "      <td>1.0</td>\n",
       "    </tr>\n",
       "    <tr>\n",
       "      <th>23411</th>\n",
       "      <td>east isles</td>\n",
       "      <td>Burglary</td>\n",
       "      <td>9.0</td>\n",
       "    </tr>\n",
       "    <tr>\n",
       "      <th>23413</th>\n",
       "      <td>east isles</td>\n",
       "      <td>Larceny</td>\n",
       "      <td>9.0</td>\n",
       "    </tr>\n",
       "    <tr>\n",
       "      <th>23545</th>\n",
       "      <td>kenwood</td>\n",
       "      <td>Arson</td>\n",
       "      <td>0.0</td>\n",
       "    </tr>\n",
       "    <tr>\n",
       "      <th>23546</th>\n",
       "      <td>kenwood</td>\n",
       "      <td>Auto Theft</td>\n",
       "      <td>0.0</td>\n",
       "    </tr>\n",
       "    <tr>\n",
       "      <th>23547</th>\n",
       "      <td>kenwood</td>\n",
       "      <td>Burglary</td>\n",
       "      <td>1.0</td>\n",
       "    </tr>\n",
       "    <tr>\n",
       "      <th>23549</th>\n",
       "      <td>kenwood</td>\n",
       "      <td>Larceny</td>\n",
       "      <td>4.0</td>\n",
       "    </tr>\n",
       "    <tr>\n",
       "      <th>23601</th>\n",
       "      <td>lowry hill</td>\n",
       "      <td>Arson</td>\n",
       "      <td>0.0</td>\n",
       "    </tr>\n",
       "    <tr>\n",
       "      <th>23602</th>\n",
       "      <td>lowry hill</td>\n",
       "      <td>Auto Theft</td>\n",
       "      <td>0.0</td>\n",
       "    </tr>\n",
       "    <tr>\n",
       "      <th>23603</th>\n",
       "      <td>lowry hill</td>\n",
       "      <td>Burglary</td>\n",
       "      <td>2.0</td>\n",
       "    </tr>\n",
       "    <tr>\n",
       "      <th>23605</th>\n",
       "      <td>lowry hill</td>\n",
       "      <td>Larceny</td>\n",
       "      <td>9.0</td>\n",
       "    </tr>\n",
       "    <tr>\n",
       "      <th>23609</th>\n",
       "      <td>lowry hill east</td>\n",
       "      <td>Arson</td>\n",
       "      <td>0.0</td>\n",
       "    </tr>\n",
       "    <tr>\n",
       "      <th>23610</th>\n",
       "      <td>lowry hill east</td>\n",
       "      <td>Auto Theft</td>\n",
       "      <td>6.0</td>\n",
       "    </tr>\n",
       "    <tr>\n",
       "      <th>23611</th>\n",
       "      <td>lowry hill east</td>\n",
       "      <td>Burglary</td>\n",
       "      <td>30.0</td>\n",
       "    </tr>\n",
       "    <tr>\n",
       "      <th>23613</th>\n",
       "      <td>lowry hill east</td>\n",
       "      <td>Larceny</td>\n",
       "      <td>25.0</td>\n",
       "    </tr>\n",
       "    <tr>\n",
       "      <th>23289</th>\n",
       "      <td>south uptown</td>\n",
       "      <td>Arson</td>\n",
       "      <td>0.0</td>\n",
       "    </tr>\n",
       "    <tr>\n",
       "      <th>23290</th>\n",
       "      <td>south uptown</td>\n",
       "      <td>Auto Theft</td>\n",
       "      <td>4.0</td>\n",
       "    </tr>\n",
       "    <tr>\n",
       "      <th>23291</th>\n",
       "      <td>south uptown</td>\n",
       "      <td>Burglary</td>\n",
       "      <td>10.0</td>\n",
       "    </tr>\n",
       "    <tr>\n",
       "      <th>23293</th>\n",
       "      <td>south uptown</td>\n",
       "      <td>Larceny</td>\n",
       "      <td>8.0</td>\n",
       "    </tr>\n",
       "    <tr>\n",
       "      <th>23889</th>\n",
       "      <td>west maka ska</td>\n",
       "      <td>Arson</td>\n",
       "      <td>0.0</td>\n",
       "    </tr>\n",
       "    <tr>\n",
       "      <th>23890</th>\n",
       "      <td>west maka ska</td>\n",
       "      <td>Auto Theft</td>\n",
       "      <td>1.0</td>\n",
       "    </tr>\n",
       "    <tr>\n",
       "      <th>23891</th>\n",
       "      <td>west maka ska</td>\n",
       "      <td>Burglary</td>\n",
       "      <td>8.0</td>\n",
       "    </tr>\n",
       "    <tr>\n",
       "      <th>23893</th>\n",
       "      <td>west maka ska</td>\n",
       "      <td>Larceny</td>\n",
       "      <td>10.0</td>\n",
       "    </tr>\n",
       "  </tbody>\n",
       "</table>\n",
       "</div>"
      ],
      "text/plain": [
       "               neighborhood ucrDescription  number\n",
       "23281           bryn - mawr          Arson     0.0\n",
       "23282           bryn - mawr     Auto Theft     1.0\n",
       "23283           bryn - mawr       Burglary     3.0\n",
       "23285           bryn - mawr        Larceny     1.0\n",
       "23305  cedar - isles - dean          Arson     0.0\n",
       "23306  cedar - isles - dean     Auto Theft     3.0\n",
       "23307  cedar - isles - dean       Burglary     5.0\n",
       "23309  cedar - isles - dean        Larceny    12.0\n",
       "23393     east bde maka ska          Arson     0.0\n",
       "23394     east bde maka ska     Auto Theft     1.0\n",
       "23395     east bde maka ska       Burglary     5.0\n",
       "23397     east bde maka ska        Larceny     3.0\n",
       "23409            east isles          Arson     0.0\n",
       "23410            east isles     Auto Theft     1.0\n",
       "23411            east isles       Burglary     9.0\n",
       "23413            east isles        Larceny     9.0\n",
       "23545               kenwood          Arson     0.0\n",
       "23546               kenwood     Auto Theft     0.0\n",
       "23547               kenwood       Burglary     1.0\n",
       "23549               kenwood        Larceny     4.0\n",
       "23601            lowry hill          Arson     0.0\n",
       "23602            lowry hill     Auto Theft     0.0\n",
       "23603            lowry hill       Burglary     2.0\n",
       "23605            lowry hill        Larceny     9.0\n",
       "23609       lowry hill east          Arson     0.0\n",
       "23610       lowry hill east     Auto Theft     6.0\n",
       "23611       lowry hill east       Burglary    30.0\n",
       "23613       lowry hill east        Larceny    25.0\n",
       "23289          south uptown          Arson     0.0\n",
       "23290          south uptown     Auto Theft     4.0\n",
       "23291          south uptown       Burglary    10.0\n",
       "23293          south uptown        Larceny     8.0\n",
       "23889         west maka ska          Arson     0.0\n",
       "23890         west maka ska     Auto Theft     1.0\n",
       "23891         west maka ska       Burglary     8.0\n",
       "23893         west maka ska        Larceny    10.0"
      ]
     },
     "execution_count": 26,
     "metadata": {},
     "output_type": "execute_result"
    }
   ],
   "source": [
    "ap_CALHOUN_ISLES = after_property.loc[  (after_property[\"neighborhood\"].isin(CALHOUN_ISLES))  ]\n",
    "\n",
    "ap_CALHOUN_ISLES\n",
    "\n",
    "# bv_CALHOUN_ISLES\n",
    "# av_CALHOUN_ISLES"
   ]
  },
  {
   "cell_type": "code",
   "execution_count": null,
   "id": "9f65eac6",
   "metadata": {},
   "outputs": [],
   "source": [
    "bp_CAMDEN\n",
    "ap_CAMDEN\n",
    "bv_CAMDEN\n",
    "av_CAMDEN"
   ]
  },
  {
   "cell_type": "code",
   "execution_count": null,
   "id": "f72a167f",
   "metadata": {},
   "outputs": [],
   "source": [
    "bp_CENTRAL\n",
    "ap_CENTRAL\n",
    "bv_CENTRAL\n",
    "av_CENTRAL"
   ]
  },
  {
   "cell_type": "code",
   "execution_count": null,
   "id": "a26c201e",
   "metadata": {},
   "outputs": [],
   "source": [
    "bp_LONGFELLOW\n",
    "ap_LONGFELLOW\n",
    "bv_LONGFELLOW\n",
    "av_LONGFELLOW"
   ]
  },
  {
   "cell_type": "code",
   "execution_count": null,
   "id": "553ffebe",
   "metadata": {},
   "outputs": [],
   "source": [
    "bp_NEAR_NORTH\n",
    "ap_NEAR_NORTH\n",
    "bv_NEAR_NORTH\n",
    "av_NEAR_NORTH"
   ]
  },
  {
   "cell_type": "code",
   "execution_count": null,
   "id": "6aa66a8b",
   "metadata": {},
   "outputs": [],
   "source": [
    "bp_NOKOMIS\n",
    "ap_NOKOMIS\n",
    "bv_NOKOMIS\n",
    "av_NOKOMIS"
   ]
  },
  {
   "cell_type": "code",
   "execution_count": null,
   "id": "b2fb1d4c",
   "metadata": {},
   "outputs": [],
   "source": [
    "bp_NORTHEAST\n",
    "ap_NORTHEAST\n",
    "bv_NORTHEAST\n",
    "av_NORTHEAST"
   ]
  },
  {
   "cell_type": "code",
   "execution_count": null,
   "id": "b5399f87",
   "metadata": {},
   "outputs": [],
   "source": [
    "bp_PHILLIPS\n",
    "ap_PHILLIPS\n",
    "bv_PHILLIPS\n",
    "av_PHILLIPS"
   ]
  },
  {
   "cell_type": "code",
   "execution_count": null,
   "id": "09bab306",
   "metadata": {},
   "outputs": [],
   "source": [
    "bp_POWDERHORN\n",
    "ap_POWDERHORN\n",
    "bv_POWDERHORN\n",
    "av_POWDERHORN"
   ]
  },
  {
   "cell_type": "code",
   "execution_count": null,
   "id": "2cc80955",
   "metadata": {},
   "outputs": [],
   "source": [
    "bp_SOUTHWEST\n",
    "ap_SOUTHWEST\n",
    "bv_SOUTHWEST\n",
    "av_SOUTHWEST"
   ]
  },
  {
   "cell_type": "code",
   "execution_count": null,
   "id": "7cde0ada",
   "metadata": {},
   "outputs": [],
   "source": [
    "bp_UNIVERSITY\n",
    "ap_UNIVERSITY\n",
    "bv_UNIVERSITY\n",
    "av_UNIVERSITY"
   ]
  },
  {
   "cell_type": "code",
   "execution_count": 21,
   "id": "2977edc2",
   "metadata": {},
   "outputs": [],
   "source": [
    "def run_agg(a_df):\n",
    "    \"\"\" Return Series \"\"\"\n",
    "    return a_df.groupby([\"neighborhood\", \"ucrDescription\"])[\"number\"].sum()      "
   ]
  },
  {
   "cell_type": "code",
   "execution_count": 24,
   "id": "4e7d98a9",
   "metadata": {},
   "outputs": [
    {
     "data": {
      "text/plain": [
       "neighborhood                      ucrDescription\n",
       "armatage                          Arson              0.0\n",
       "                                  Auto Theft         0.0\n",
       "                                  Burglary           6.0\n",
       "                                  Larceny            2.0\n",
       "audubon park                      Arson              0.0\n",
       "                                  Auto Theft         0.0\n",
       "                                  Burglary           0.0\n",
       "                                  Larceny            6.0\n",
       "bancroft                          Arson              0.0\n",
       "                                  Auto Theft         6.0\n",
       "                                  Burglary           2.0\n",
       "                                  Larceny            7.0\n",
       "beltrami                          Arson              0.0\n",
       "                                  Auto Theft         2.0\n",
       "                                  Burglary           0.0\n",
       "                                  Larceny            1.0\n",
       "bottineau                         Arson              0.0\n",
       "                                  Auto Theft         2.0\n",
       "                                  Burglary           2.0\n",
       "                                  Larceny            1.0\n",
       "bryant                            Arson              0.0\n",
       "                                  Auto Theft         1.0\n",
       "                                  Burglary           1.0\n",
       "                                  Larceny            2.0\n",
       "bryn - mawr                       Arson              0.0\n",
       "                                  Auto Theft         1.0\n",
       "                                  Burglary           3.0\n",
       "                                  Larceny            1.0\n",
       "camden industrial                 Arson              0.0\n",
       "                                  Auto Theft         0.0\n",
       "                                  Burglary           1.0\n",
       "                                  Larceny            0.0\n",
       "cedar - isles - dean              Arson              0.0\n",
       "                                  Auto Theft         3.0\n",
       "                                  Burglary           5.0\n",
       "                                  Larceny           12.0\n",
       "cedar riverside                   Arson              1.0\n",
       "                                  Auto Theft         0.0\n",
       "                                  Burglary           9.0\n",
       "                                  Larceny           10.0\n",
       "central                           Arson              0.0\n",
       "                                  Auto Theft         4.0\n",
       "                                  Burglary          17.0\n",
       "                                  Larceny           16.0\n",
       "cleveland                         Arson              0.0\n",
       "                                  Auto Theft         0.0\n",
       "                                  Burglary           1.0\n",
       "                                  Larceny            6.0\n",
       "columbia park                     Arson              0.0\n",
       "                                  Auto Theft         0.0\n",
       "                                  Burglary           1.0\n",
       "                                  Larceny            2.0\n",
       "como                              Arson              0.0\n",
       "                                  Auto Theft         2.0\n",
       "                                  Burglary           2.0\n",
       "                                  Larceny           15.0\n",
       "cooper                            Arson              0.0\n",
       "                                  Auto Theft         4.0\n",
       "                                  Burglary           5.0\n",
       "                                  Larceny           10.0\n",
       "corcoran                          Arson              0.0\n",
       "                                  Auto Theft         2.0\n",
       "                                  Burglary           8.0\n",
       "                                  Larceny            9.0\n",
       "diamond lake                      Arson              0.0\n",
       "                                  Auto Theft         3.0\n",
       "                                  Burglary           5.0\n",
       "                                  Larceny            5.0\n",
       "downtown east                     Arson              0.0\n",
       "                                  Auto Theft         0.0\n",
       "                                  Burglary           7.0\n",
       "                                  Larceny           15.0\n",
       "downtown west                     Arson              0.0\n",
       "                                  Auto Theft         1.0\n",
       "                                  Burglary          10.0\n",
       "                                  Larceny           20.0\n",
       "east bde maka ska                 Arson              0.0\n",
       "                                  Auto Theft         1.0\n",
       "                                  Burglary           5.0\n",
       "                                  Larceny            3.0\n",
       "east harriet                      Arson              0.0\n",
       "                                  Auto Theft         1.0\n",
       "                                  Burglary           2.0\n",
       "                                  Larceny           10.0\n",
       "east isles                        Arson              0.0\n",
       "                                  Auto Theft         1.0\n",
       "                                  Burglary           9.0\n",
       "                                  Larceny            9.0\n",
       "east phillips                     Arson              0.0\n",
       "                                  Auto Theft         8.0\n",
       "                                  Burglary          16.0\n",
       "                                  Larceny           19.0\n",
       "elliot park                       Arson              0.0\n",
       "                                  Auto Theft         3.0\n",
       "                                  Burglary           4.0\n",
       "                                  Larceny           17.0\n",
       "ericsson                          Arson              0.0\n",
       "                                  Auto Theft         2.0\n",
       "                                  Burglary           3.0\n",
       "                                  Larceny            5.0\n",
       "field                             Arson              0.0\n",
       "                                  Auto Theft         1.0\n",
       "                                  Burglary           1.0\n",
       "                                  Larceny            4.0\n",
       "folwell                           Arson              0.0\n",
       "                                  Auto Theft         0.0\n",
       "                                  Burglary           3.0\n",
       "                                  Larceny            1.0\n",
       "fulton                            Arson              0.0\n",
       "                                  Auto Theft         0.0\n",
       "                                  Burglary           2.0\n",
       "                                  Larceny            2.0\n",
       "hale                              Arson              0.0\n",
       "                                  Auto Theft         1.0\n",
       "                                  Burglary           1.0\n",
       "                                  Larceny            5.0\n",
       "harrison                          Arson              0.0\n",
       "                                  Auto Theft         2.0\n",
       "                                  Burglary           2.0\n",
       "                                  Larceny            1.0\n",
       "hawthorne                         Arson              0.0\n",
       "                                  Auto Theft         8.0\n",
       "                                  Burglary           9.0\n",
       "                                  Larceny           18.0\n",
       "hiawatha                          Arson              0.0\n",
       "                                  Auto Theft         3.0\n",
       "                                  Burglary           4.0\n",
       "                                  Larceny           18.0\n",
       "holland                           Arson              0.0\n",
       "                                  Auto Theft         2.0\n",
       "                                  Burglary           2.0\n",
       "                                  Larceny            6.0\n",
       "howe                              Arson              0.0\n",
       "                                  Auto Theft         2.0\n",
       "                                  Burglary           4.0\n",
       "                                  Larceny           19.0\n",
       "humboldt industrial area          Arson              0.0\n",
       "                                  Auto Theft         0.0\n",
       "                                  Burglary           0.0\n",
       "                                  Larceny            0.0\n",
       "jordan                            Arson              1.0\n",
       "                                  Auto Theft         5.0\n",
       "                                  Burglary           4.0\n",
       "                                  Larceny           10.0\n",
       "keewaydin                         Arson              0.0\n",
       "                                  Auto Theft         0.0\n",
       "                                  Burglary           2.0\n",
       "                                  Larceny            2.0\n",
       "kenny                             Arson              0.0\n",
       "                                  Auto Theft         0.0\n",
       "                                  Burglary           0.0\n",
       "                                  Larceny            1.0\n",
       "kenwood                           Arson              0.0\n",
       "                                  Auto Theft         0.0\n",
       "                                  Burglary           1.0\n",
       "                                  Larceny            4.0\n",
       "king field                        Arson              0.0\n",
       "                                  Auto Theft         3.0\n",
       "                                  Burglary           6.0\n",
       "                                  Larceny           11.0\n",
       "lind - bohanon                    Arson              0.0\n",
       "                                  Auto Theft         7.0\n",
       "                                  Burglary           3.0\n",
       "                                  Larceny            7.0\n",
       "linden hills                      Arson              0.0\n",
       "                                  Auto Theft         2.0\n",
       "                                  Burglary           5.0\n",
       "                                  Larceny            6.0\n",
       "logan park                        Arson              0.0\n",
       "                                  Auto Theft         1.0\n",
       "                                  Burglary           2.0\n",
       "                                  Larceny            4.0\n",
       "longfellow                        Arson              0.0\n",
       "                                  Auto Theft        12.0\n",
       "                                  Burglary          21.0\n",
       "                                  Larceny           36.0\n",
       "loring park                       Arson              0.0\n",
       "                                  Auto Theft         2.0\n",
       "                                  Burglary          10.0\n",
       "                                  Larceny           25.0\n",
       "lowry hill                        Arson              0.0\n",
       "                                  Auto Theft         0.0\n",
       "                                  Burglary           2.0\n",
       "                                  Larceny            9.0\n",
       "lowry hill east                   Arson              0.0\n",
       "                                  Auto Theft         6.0\n",
       "                                  Burglary          30.0\n",
       "                                  Larceny           25.0\n",
       "lyndale                           Arson              0.0\n",
       "                                  Auto Theft         3.0\n",
       "                                  Burglary          17.0\n",
       "                                  Larceny           17.0\n",
       "lynnhurst                         Arson              0.0\n",
       "                                  Auto Theft         1.0\n",
       "                                  Burglary           2.0\n",
       "                                  Larceny            4.0\n",
       "marcy holmes                      Arson              0.0\n",
       "                                  Auto Theft        17.0\n",
       "                                  Burglary          11.0\n",
       "                                  Larceny           47.0\n",
       "marshall terrace                  Arson              0.0\n",
       "                                  Auto Theft         0.0\n",
       "                                  Burglary           0.0\n",
       "                                  Larceny            2.0\n",
       "mckinley                          Arson              0.0\n",
       "                                  Auto Theft         2.0\n",
       "                                  Burglary           8.0\n",
       "                                  Larceny            4.0\n",
       "mid - city industrial             Arson              0.0\n",
       "                                  Auto Theft         0.0\n",
       "                                  Burglary           1.0\n",
       "                                  Larceny            2.0\n",
       "midtown phillips                  Arson              0.0\n",
       "                                  Auto Theft         6.0\n",
       "                                  Burglary           8.0\n",
       "                                  Larceny           11.0\n",
       "minnehaha                         Arson              0.0\n",
       "                                  Auto Theft         1.0\n",
       "                                  Burglary           1.0\n",
       "                                  Larceny            9.0\n",
       "morris park                       Arson              0.0\n",
       "                                  Auto Theft         1.0\n",
       "                                  Burglary           1.0\n",
       "                                  Larceny            0.0\n",
       "near - north                      Arson              0.0\n",
       "                                  Auto Theft         4.0\n",
       "                                  Burglary           5.0\n",
       "                                  Larceny           18.0\n",
       "nicollet island - east bank       Arson              0.0\n",
       "                                  Auto Theft         1.0\n",
       "                                  Burglary           1.0\n",
       "                                  Larceny            3.0\n",
       "north loop                        Arson              0.0\n",
       "                                  Auto Theft         2.0\n",
       "                                  Burglary          13.0\n",
       "                                  Larceny           21.0\n",
       "northeast park                    Arson              0.0\n",
       "                                  Auto Theft         0.0\n",
       "                                  Burglary           4.0\n",
       "                                  Larceny           17.0\n",
       "northrop                          Arson              0.0\n",
       "                                  Auto Theft         4.0\n",
       "                                  Burglary           6.0\n",
       "                                  Larceny            7.0\n",
       "page                              Arson              0.0\n",
       "                                  Auto Theft         0.0\n",
       "                                  Burglary           0.0\n",
       "                                  Larceny            0.0\n",
       "phillips west                     Arson              0.0\n",
       "                                  Auto Theft         4.0\n",
       "                                  Burglary          12.0\n",
       "                                  Larceny            9.0\n",
       "powderhorn park                   Arson              2.0\n",
       "                                  Auto Theft         7.0\n",
       "                                  Burglary          13.0\n",
       "                                  Larceny           14.0\n",
       "prospect park - east river road   Arson              0.0\n",
       "                                  Auto Theft         6.0\n",
       "                                  Burglary           9.0\n",
       "                                  Larceny           30.0\n",
       "regina                            Arson              0.0\n",
       "                                  Auto Theft         2.0\n",
       "                                  Burglary           2.0\n",
       "                                  Larceny            4.0\n",
       "seward                            Arson              0.0\n",
       "                                  Auto Theft         7.0\n",
       "                                  Burglary          13.0\n",
       "                                  Larceny           18.0\n",
       "sheridan                          Arson              0.0\n",
       "                                  Auto Theft         1.0\n",
       "                                  Burglary           2.0\n",
       "                                  Larceny            5.0\n",
       "shingle creek                     Arson              0.0\n",
       "                                  Auto Theft         1.0\n",
       "                                  Burglary           1.0\n",
       "                                  Larceny            2.0\n",
       "south uptown                      Arson              0.0\n",
       "                                  Auto Theft         4.0\n",
       "                                  Burglary          10.0\n",
       "                                  Larceny            8.0\n",
       "st. anthony east                  Arson              0.0\n",
       "                                  Auto Theft         1.0\n",
       "                                  Burglary           0.0\n",
       "                                  Larceny            4.0\n",
       "st. anthony west                  Arson              1.0\n",
       "                                  Auto Theft         2.0\n",
       "                                  Burglary           2.0\n",
       "                                  Larceny            6.0\n",
       "standish                          Arson              0.0\n",
       "                                  Auto Theft         5.0\n",
       "                                  Burglary           9.0\n",
       "                                  Larceny           10.0\n",
       "steven's square - loring heights  Arson              0.0\n",
       "                                  Auto Theft         2.0\n",
       "                                  Burglary           7.0\n",
       "                                  Larceny           11.0\n",
       "sumner - glenwood                 Arson              0.0\n",
       "                                  Auto Theft         3.0\n",
       "                                  Burglary           0.0\n",
       "                                  Larceny            3.0\n",
       "tangletown                        Arson              0.0\n",
       "                                  Auto Theft         1.0\n",
       "                                  Burglary           4.0\n",
       "                                  Larceny            0.0\n",
       "university of minnesota           Arson              0.0\n",
       "                                  Auto Theft         1.0\n",
       "                                  Burglary           3.0\n",
       "                                  Larceny            4.0\n",
       "ventura village                   Arson              1.0\n",
       "                                  Auto Theft         7.0\n",
       "                                  Burglary           4.0\n",
       "                                  Larceny           21.0\n",
       "victory                           Arson              0.0\n",
       "                                  Auto Theft         2.0\n",
       "                                  Burglary           6.0\n",
       "                                  Larceny            7.0\n",
       "waite park                        Arson              0.0\n",
       "                                  Auto Theft         3.0\n",
       "                                  Burglary           3.0\n",
       "                                  Larceny            9.0\n",
       "webber - camden                   Arson              0.0\n",
       "                                  Auto Theft         5.0\n",
       "                                  Burglary           4.0\n",
       "                                  Larceny            5.0\n",
       "wenonah                           Arson              0.0\n",
       "                                  Auto Theft         4.0\n",
       "                                  Burglary           2.0\n",
       "                                  Larceny            0.0\n",
       "west maka ska                     Arson              0.0\n",
       "                                  Auto Theft         1.0\n",
       "                                  Burglary           8.0\n",
       "                                  Larceny           10.0\n",
       "whittier                          Arson              0.0\n",
       "                                  Auto Theft         8.0\n",
       "                                  Burglary          30.0\n",
       "                                  Larceny           38.0\n",
       "willard - hay                     Arson              0.0\n",
       "                                  Auto Theft         7.0\n",
       "                                  Burglary           4.0\n",
       "                                  Larceny            7.0\n",
       "windom                            Arson              0.0\n",
       "                                  Auto Theft         5.0\n",
       "                                  Burglary           3.0\n",
       "                                  Larceny            8.0\n",
       "windom park                       Arson              0.0\n",
       "                                  Auto Theft         2.0\n",
       "                                  Burglary           6.0\n",
       "                                  Larceny            3.0\n",
       "Name: number, dtype: float64"
      ]
     },
     "execution_count": 24,
     "metadata": {},
     "output_type": "execute_result"
    }
   ],
   "source": [
    "run_agg(before_property)"
   ]
  },
  {
   "cell_type": "code",
   "execution_count": null,
   "id": "32b90b1c",
   "metadata": {},
   "outputs": [],
   "source": []
  },
  {
   "cell_type": "code",
   "execution_count": null,
   "id": "39d7c0a1",
   "metadata": {},
   "outputs": [],
   "source": []
  },
  {
   "cell_type": "code",
   "execution_count": null,
   "id": "264fca60",
   "metadata": {},
   "outputs": [],
   "source": []
  },
  {
   "cell_type": "code",
   "execution_count": null,
   "id": "e842fa6f",
   "metadata": {},
   "outputs": [],
   "source": [
    "before_grp = before.groupby([\"neighborhood\", \"ucrDescription\"])\n",
    "after_grp = after.groupby([\"neighborhood\", \"ucrDescription\"])"
   ]
  },
  {
   "cell_type": "code",
   "execution_count": null,
   "id": "aec1d8f6",
   "metadata": {},
   "outputs": [],
   "source": [
    "before_agg = before_grp[\"number\"].sum()\n",
    "after_agg = after_grp[\"number\"].sum()"
   ]
  },
  {
   "cell_type": "code",
   "execution_count": null,
   "id": "16aedbfc",
   "metadata": {},
   "outputs": [],
   "source": []
  },
  {
   "cell_type": "code",
   "execution_count": null,
   "id": "7c0ecf4d",
   "metadata": {},
   "outputs": [],
   "source": []
  },
  {
   "cell_type": "code",
   "execution_count": null,
   "id": "a42a2a7f",
   "metadata": {},
   "outputs": [],
   "source": []
  },
  {
   "cell_type": "code",
   "execution_count": null,
   "id": "93c189a7",
   "metadata": {},
   "outputs": [],
   "source": []
  },
  {
   "cell_type": "code",
   "execution_count": null,
   "id": "846b3235",
   "metadata": {},
   "outputs": [],
   "source": []
  },
  {
   "cell_type": "code",
   "execution_count": null,
   "id": "74014906",
   "metadata": {},
   "outputs": [],
   "source": []
  },
  {
   "cell_type": "code",
   "execution_count": null,
   "id": "e46d429a",
   "metadata": {},
   "outputs": [],
   "source": [
    "before_agg[:24].unstack().plot.bar()"
   ]
  },
  {
   "cell_type": "code",
   "execution_count": null,
   "id": "81e3bbab",
   "metadata": {},
   "outputs": [],
   "source": [
    "after_agg[:24].unstack().plot.bar()"
   ]
  },
  {
   "cell_type": "code",
   "execution_count": null,
   "id": "3125a99e",
   "metadata": {},
   "outputs": [],
   "source": []
  },
  {
   "cell_type": "code",
   "execution_count": null,
   "id": "aff22bc7",
   "metadata": {},
   "outputs": [],
   "source": []
  },
  {
   "cell_type": "code",
   "execution_count": null,
   "id": "8987fb2b",
   "metadata": {},
   "outputs": [],
   "source": [
    "before_property.sort_values(by=[\"neighborhood\", \"ucrDescription\"])\n",
    "after_property.sort_values(by=[\"neighborhood\", \"ucrDescription\"])\n",
    "\n",
    "before_violent.sort_values(by=[\"neighborhood\", \"ucrDescription\"])\n",
    "after_violent.sort_values(by=[\"neighborhood\", \"ucrDescription\"])"
   ]
  },
  {
   "cell_type": "code",
   "execution_count": null,
   "id": "ad3b01f4",
   "metadata": {},
   "outputs": [],
   "source": [
    "before_property_grp = before.groupby([\"neighborhood\", \"ucrDescription\"])\n",
    "after_property_grp = after.groupby([\"neighborhood\", \"ucrDescription\"])\n",
    "\n",
    "before_violent_grp = before.groupby([\"neighborhood\", \"ucrDescription\"])\n",
    "after_violent_grp = after.groupby([\"neighborhood\", \"ucrDescription\"])"
   ]
  },
  {
   "cell_type": "code",
   "execution_count": null,
   "id": "71406c99",
   "metadata": {},
   "outputs": [],
   "source": [
    "before_property_agg = before_grp[\"number\"].sum()\n",
    "after_property_agg = after_grp[\"number\"].sum()\n",
    "\n",
    "before_violent_agg = before_grp[\"number\"].sum()\n",
    "after_violent_agg = after_grp[\"number\"].sum()"
   ]
  },
  {
   "cell_type": "code",
   "execution_count": null,
   "id": "99601152",
   "metadata": {},
   "outputs": [],
   "source": [
    "after_violent_agg.head(10)"
   ]
  },
  {
   "cell_type": "code",
   "execution_count": null,
   "id": "e7168672",
   "metadata": {},
   "outputs": [],
   "source": [
    "before_violent_agg.head(10)"
   ]
  },
  {
   "cell_type": "code",
   "execution_count": null,
   "id": "fcd5b228",
   "metadata": {},
   "outputs": [],
   "source": [
    "after_violent_agg[:24].unstack().plot.bar()"
   ]
  },
  {
   "cell_type": "code",
   "execution_count": null,
   "id": "947385bf",
   "metadata": {},
   "outputs": [],
   "source": [
    "before_violent_agg[:24].unstack().plot.bar()"
   ]
  },
  {
   "cell_type": "code",
   "execution_count": null,
   "id": "5affb589",
   "metadata": {},
   "outputs": [],
   "source": [
    "MPLS_CITIES = CALHOUN_ISLES + CAMDEN + CENTRAL + LONGFELLOW + NEAR_NORTH + NOKOMIS + NORTHEAST + \\\n",
    "              PHILLIPS + POWDERHORN + SOUTHWEST + UNIVERSITY\n",
    "df_cities = df.neighborhood.unique()"
   ]
  },
  {
   "cell_type": "code",
   "execution_count": null,
   "id": "4ac2d8b6",
   "metadata": {},
   "outputs": [],
   "source": [
    "for c in sorted(MPLS_CITIES):\n",
    "    if c in df_cities:\n",
    "        pass\n",
    "    else:\n",
    "        print(c)"
   ]
  },
  {
   "cell_type": "code",
   "execution_count": null,
   "id": "9395a840",
   "metadata": {},
   "outputs": [],
   "source": [
    "sorted(MPLS_CITIES) == sorted(df_cities)"
   ]
  },
  {
   "cell_type": "code",
   "execution_count": null,
   "id": "7183e1b8",
   "metadata": {},
   "outputs": [],
   "source": [
    "len(MPLS_CITIES)"
   ]
  },
  {
   "cell_type": "code",
   "execution_count": null,
   "id": "b665a226",
   "metadata": {},
   "outputs": [],
   "source": [
    "len(df_cities)"
   ]
  },
  {
   "cell_type": "code",
   "execution_count": null,
   "id": "1d8a229f",
   "metadata": {},
   "outputs": [],
   "source": [
    "print(sorted(MPLS_CITIES))"
   ]
  },
  {
   "cell_type": "code",
   "execution_count": null,
   "id": "4cacca78",
   "metadata": {},
   "outputs": [],
   "source": [
    "print(sorted(df_cities))"
   ]
  },
  {
   "cell_type": "code",
   "execution_count": null,
   "id": "92438007",
   "metadata": {},
   "outputs": [],
   "source": [
    "oddballs = [x for x in (MPLS_CITIES + df_cities.tolist()) if x not in MPLS_CITIES or x not in df_cities]\n",
    "print(oddballs)"
   ]
  },
  {
   "cell_type": "code",
   "execution_count": null,
   "id": "46d3294d",
   "metadata": {},
   "outputs": [],
   "source": [
    "master_city_list = sorted(MPLS_CITIES)"
   ]
  },
  {
   "cell_type": "code",
   "execution_count": null,
   "id": "92f80f0d",
   "metadata": {},
   "outputs": [],
   "source": [
    "master_city_list == sorted(df_cities)"
   ]
  },
  {
   "cell_type": "code",
   "execution_count": null,
   "id": "126db662",
   "metadata": {},
   "outputs": [],
   "source": [
    "master_city_dict = {}"
   ]
  },
  {
   "cell_type": "code",
   "execution_count": null,
   "id": "86577ea3",
   "metadata": {},
   "outputs": [],
   "source": [
    "master_city_dict[\"CALHOUN_ISLES\"] = CALHOUN_ISLES\n",
    "master_city_dict[\"CAMDEN\"] = CAMDEN\n",
    "master_city_dict[\"CENTRAL\"] = CENTRAL\n",
    "master_city_dict[\"LONGFELLOW\"] = LONGFELLOW\n",
    "master_city_dict[\"NEAR_NORTH\"] = NEAR_NORTH\n",
    "master_city_dict[\"NOKOMIS\"] = NOKOMIS\n",
    "master_city_dict[\"NORTHEAST\"] = NORTHEAST\n",
    "master_city_dict[\"PHILLIPS\"] = PHILLIPS\n",
    "master_city_dict[\"POWDERHORN\"] = POWDERHORN\n",
    "master_city_dict[\"SOUTHWEST\"] = SOUTHWEST\n",
    "master_city_dict[\"UNIVERSITY\"] = UNIVERSITY"
   ]
  },
  {
   "cell_type": "code",
   "execution_count": null,
   "id": "89f91b80",
   "metadata": {},
   "outputs": [],
   "source": [
    "print(master_city_dict)"
   ]
  },
  {
   "cell_type": "code",
   "execution_count": null,
   "id": "5d78aa79",
   "metadata": {},
   "outputs": [],
   "source": [
    "before_property_agg"
   ]
  },
  {
   "cell_type": "code",
   "execution_count": null,
   "id": "78a42dea",
   "metadata": {},
   "outputs": [],
   "source": [
    "after_property_agg"
   ]
  },
  {
   "cell_type": "code",
   "execution_count": null,
   "id": "cdae3180",
   "metadata": {},
   "outputs": [],
   "source": [
    "before_violent_agg "
   ]
  },
  {
   "cell_type": "code",
   "execution_count": null,
   "id": "71c23759",
   "metadata": {},
   "outputs": [],
   "source": [
    "after_violent_agg "
   ]
  }
 ],
 "metadata": {
  "kernelspec": {
   "display_name": "Python 3 (ipykernel)",
   "language": "python",
   "name": "python3"
  },
  "language_info": {
   "codemirror_mode": {
    "name": "ipython",
    "version": 3
   },
   "file_extension": ".py",
   "mimetype": "text/x-python",
   "name": "python",
   "nbconvert_exporter": "python",
   "pygments_lexer": "ipython3",
   "version": "3.8.13"
  }
 },
 "nbformat": 4,
 "nbformat_minor": 5
}
