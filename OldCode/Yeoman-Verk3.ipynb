{
 "cells": [
  {
   "cell_type": "code",
   "execution_count": null,
   "id": "1103a348",
   "metadata": {},
   "outputs": [],
   "source": [
    "import pandas as pd\n",
    "import numpy as np\n",
    "import scipy.stats as st\n",
    "import matplotlib.pyplot as plt"
   ]
  },
  {
   "cell_type": "code",
   "execution_count": null,
   "id": "8f5d6371",
   "metadata": {},
   "outputs": [],
   "source": [
    "pd.options.display.max_rows = 1000\n",
    "\n",
    "df = pd.read_csv(\"mpls_crime_2017-2022.csv\", encoding=\"utf-8\")"
   ]
  },
  {
   "cell_type": "code",
   "execution_count": null,
   "id": "00bc0666",
   "metadata": {
    "scrolled": true
   },
   "outputs": [],
   "source": [
    "df.sample(n=5)"
   ]
  },
  {
   "cell_type": "code",
   "execution_count": null,
   "id": "634d2928",
   "metadata": {},
   "outputs": [],
   "source": [
    "df = df.drop(\"neighborhoodCrimeStatisticsID\", axis=1)\n",
    "df"
   ]
  },
  {
   "cell_type": "code",
   "execution_count": null,
   "id": "1d4c8823",
   "metadata": {},
   "outputs": [],
   "source": [
    "df.neighborhood.unique()"
   ]
  },
  {
   "cell_type": "code",
   "execution_count": null,
   "id": "c5a258b4",
   "metadata": {},
   "outputs": [],
   "source": [
    "df = df.loc[df[\"neighborhood\"] != \"Z_** NOT ASSIGNED **\"]\n",
    "df = df.loc[df[\"neighborhood\"] != \"** NOT ASSIGNED **\"]\n",
    "\n",
    "df.neighborhood.value_counts()"
   ]
  },
  {
   "cell_type": "code",
   "execution_count": null,
   "id": "cf32b0cd",
   "metadata": {},
   "outputs": [],
   "source": [
    "df[\"neighborhood\"] = df[\"neighborhood\"].replace(\"CARAG\", \"South Uptown\")\n",
    "df[\"neighborhood\"] = df[\"neighborhood\"].replace(\"ECCO\", \"East Bde Maka Ska\")\n",
    "df[\"neighborhood\"] = df[\"neighborhood\"].replace(\"WEST CALHOUN\", \"West Maka Ska\")\n",
    "\n",
    "df[\"neighborhood\"] = df.neighborhood.str.lower()\n",
    "\n",
    "df.neighborhood.value_counts()"
   ]
  },
  {
   "cell_type": "code",
   "execution_count": null,
   "id": "f7e93c30",
   "metadata": {},
   "outputs": [],
   "source": [
    "df[\"neighborhood\"] = df[\"neighborhood\"].replace(\"stevens square - loring heights\", \"steven's square - loring heights\")\n",
    "\n",
    "df[\"neighborhood\"] = df[\"neighborhood\"].replace(\"west calhoun\", \"west maka ska\")\n",
    "\n",
    "df.neighborhood.value_counts()\n",
    "\n",
    "# 480 data points for each neighborhood, accounting for name changes!"
   ]
  },
  {
   "cell_type": "code",
   "execution_count": null,
   "id": "4e82a81a",
   "metadata": {},
   "outputs": [],
   "source": [
    "df"
   ]
  },
  {
   "cell_type": "code",
   "execution_count": null,
   "id": "3f7c865c",
   "metadata": {},
   "outputs": [],
   "source": []
  },
  {
   "cell_type": "code",
   "execution_count": null,
   "id": "1a64ec18",
   "metadata": {},
   "outputs": [],
   "source": [
    "df.ucrDescription.unique()"
   ]
  },
  {
   "cell_type": "code",
   "execution_count": null,
   "id": "e0216e6c",
   "metadata": {},
   "outputs": [],
   "source": [
    "violent_crimes = [\"Aggravated Assault\", \"Homicide\", \"Rape\", \"Robbery\"]\n",
    "\n",
    "property_crimes = [\"Arson\", \"Auto Theft\", \"Burglary\", \"Larceny\"]\n",
    "\n",
    "# As per FBI ucr reporting standards"
   ]
  },
  {
   "cell_type": "code",
   "execution_count": null,
   "id": "bf2b2253",
   "metadata": {},
   "outputs": [],
   "source": [
    "# Narrow down to just months and type of crime I'm interested in\n",
    "\n",
    "before_violent = df[ (df[\"reportMonth\"]==5) & (df[\"reportYear\"]==2020) & (df[\"ucrDescription\"].isin(violent_crimes)) ]\n",
    "after_violent = df[ (df[\"reportMonth\"]==6) & (df[\"reportYear\"]==2020) & (df[\"ucrDescription\"].isin(violent_crimes)) ]\n",
    "\n",
    "before_violent = before_violent.sort_values(by=[\"neighborhood\", \"ucrDescription\"])\n",
    "after_violent = after_violent.sort_values(by=[\"neighborhood\", \"ucrDescription\"])\n",
    "\n",
    "before_property = df[ (df[\"reportMonth\"]==5) & (df[\"reportYear\"]==2020) & (df[\"ucrDescription\"].isin(property_crimes)) ]\n",
    "after_property = df[ (df[\"reportMonth\"]==6) & (df[\"reportYear\"]==2020) & (df[\"ucrDescription\"].isin(property_crimes)) ]\n",
    "\n",
    "before_property = before_property.sort_values(by=[\"neighborhood\", \"ucrDescription\"])\n",
    "after_property = after_property.sort_values(by=[\"neighborhood\", \"ucrDescription\"])"
   ]
  },
  {
   "cell_type": "code",
   "execution_count": null,
   "id": "33bc9ea4",
   "metadata": {},
   "outputs": [],
   "source": [
    "before_property = before_property.drop([\"reportMonth\", \"reportYear\"], axis=1)"
   ]
  },
  {
   "cell_type": "code",
   "execution_count": null,
   "id": "1183b267",
   "metadata": {},
   "outputs": [],
   "source": [
    "after_property = after_property.drop([\"reportMonth\", \"reportYear\"], axis=1)"
   ]
  },
  {
   "cell_type": "code",
   "execution_count": null,
   "id": "00092b04",
   "metadata": {},
   "outputs": [],
   "source": [
    "before_violent = before_violent.drop([\"reportMonth\", \"reportYear\"], axis=1)"
   ]
  },
  {
   "cell_type": "code",
   "execution_count": null,
   "id": "6e4d3323",
   "metadata": {},
   "outputs": [],
   "source": [
    "after_violent = after_violent.drop([\"reportMonth\", \"reportYear\"], axis=1)"
   ]
  },
  {
   "cell_type": "code",
   "execution_count": null,
   "id": "9b1240f9",
   "metadata": {},
   "outputs": [],
   "source": []
  },
  {
   "cell_type": "code",
   "execution_count": null,
   "id": "151524a7",
   "metadata": {},
   "outputs": [],
   "source": [
    "CALHOUN_ISLES = [\"bryn-mawr\", \"cedar-isles-dean\", \"east bde maka ska\", \"east isles\", \"kenwood\", \"lowry hill\", \\\n",
    "                 \"lowry hill east\", \"south uptown\", \"west maka ska\"]\n",
    "\n",
    "CAMDEN = [\"camden industrial\", \"cleveland\", \"folwell\", \"humboldt industrial area\", \"lind-bohanon\", \"mckinley\", \"shingle creek\", \"victory\", \"webber-camden\"]\n",
    "\n",
    "CENTRAL = [\"downtown east\", \"downtown west\", \"elliot park\", \"loring park\", \"north loop\", \"stevens square-loring heights\"]\n",
    "\n",
    "LONGFELLOW = [\"cooper\", \"hiawatha\", \"howe\", \"longfellow\", \"seward\"]\n",
    "\n",
    "NEAR_NORTH = [\"harrison\", \"hawthorne\", \"jordan\", \"near-north\", \"sumner-glenwood\", \"willard-hay\"]\n",
    "\n",
    "NOKOMIS = [\"diamond lake\", \"ericsson\", \"field\", \"hale\", \"keewaydin\", \"minnehaha\", \"morris park\", \\\n",
    "           \"northrop\", \"page\", \"regina\", \"wenonah\"]\n",
    "\n",
    "NORTHEAST = [\"audubon park\", \"beltrami\", \"bottineau\", \"columbia park\", \"holland\", \"logan park\", \"marshall terrace\", \\\n",
    "             \"northeast park\", \"sheridan\", \"st. anthony east\", \"st. anthony west\", \"waite park\", \"windom park\"]\n",
    "\n",
    "PHILLIPS = [\"east phillips\", \"midtown phillips\", \"phillips west\", \"ventura village\"]\n",
    "\n",
    "POWDERHORN = [\"bancroft\", \"bryant\", \"central\", \"corcoran\", \"lyndale\", \"powderhorn park\", \"standish\", \"whittier\"]\n",
    "\n",
    "SOUTHWEST = [\"armatage\", \"east harriet\", \"fulton\", \"kenny\", \"king field\", \"linden hills\", \"lynnhurst\", \"tangletown\", \"windom\"]\n",
    "\n",
    "UNIVERSITY = [\"cedar-riverside\", \"como\", \"marcy-holmes\", \"mid-city industrial\", \"nicollet island-east bank\", \"prospect park-east river road\", \"university of minnesota\"]\n",
    "\n",
    "COMMUNITIES = [CALHOUN_ISLES, CAMDEN, CENTRAL, LONGFELLOW, NEAR_NORTH, NOKOMIS, NORTHEAST, \\\n",
    "              PHILLIPS, POWDERHORN, SOUTHWEST, UNIVERSITY]"
   ]
  },
  {
   "cell_type": "code",
   "execution_count": null,
   "id": "2977edc2",
   "metadata": {},
   "outputs": [],
   "source": []
  },
  {
   "cell_type": "code",
   "execution_count": null,
   "id": "4e7d98a9",
   "metadata": {},
   "outputs": [],
   "source": []
  },
  {
   "cell_type": "code",
   "execution_count": null,
   "id": "e842fa6f",
   "metadata": {},
   "outputs": [],
   "source": [
    "before_grp = before.groupby([\"neighborhood\", \"ucrDescription\"])\n",
    "after_grp = after.groupby([\"neighborhood\", \"ucrDescription\"])"
   ]
  },
  {
   "cell_type": "code",
   "execution_count": null,
   "id": "aec1d8f6",
   "metadata": {},
   "outputs": [],
   "source": [
    "before_agg = before_grp[\"number\"].sum()\n",
    "after_agg = after_grp[\"number\"].sum()"
   ]
  },
  {
   "cell_type": "code",
   "execution_count": null,
   "id": "16aedbfc",
   "metadata": {},
   "outputs": [],
   "source": []
  },
  {
   "cell_type": "code",
   "execution_count": null,
   "id": "7c0ecf4d",
   "metadata": {},
   "outputs": [],
   "source": []
  },
  {
   "cell_type": "code",
   "execution_count": null,
   "id": "a42a2a7f",
   "metadata": {},
   "outputs": [],
   "source": []
  },
  {
   "cell_type": "code",
   "execution_count": null,
   "id": "93c189a7",
   "metadata": {},
   "outputs": [],
   "source": []
  },
  {
   "cell_type": "code",
   "execution_count": null,
   "id": "846b3235",
   "metadata": {},
   "outputs": [],
   "source": []
  },
  {
   "cell_type": "code",
   "execution_count": null,
   "id": "74014906",
   "metadata": {},
   "outputs": [],
   "source": []
  },
  {
   "cell_type": "code",
   "execution_count": null,
   "id": "e46d429a",
   "metadata": {},
   "outputs": [],
   "source": [
    "before_agg[:24].unstack().plot.bar()"
   ]
  },
  {
   "cell_type": "code",
   "execution_count": null,
   "id": "81e3bbab",
   "metadata": {},
   "outputs": [],
   "source": [
    "after_agg[:24].unstack().plot.bar()"
   ]
  },
  {
   "cell_type": "code",
   "execution_count": null,
   "id": "3125a99e",
   "metadata": {},
   "outputs": [],
   "source": []
  },
  {
   "cell_type": "code",
   "execution_count": null,
   "id": "aff22bc7",
   "metadata": {},
   "outputs": [],
   "source": []
  },
  {
   "cell_type": "code",
   "execution_count": null,
   "id": "8987fb2b",
   "metadata": {},
   "outputs": [],
   "source": [
    "before_property.sort_values(by=[\"neighborhood\", \"ucrDescription\"])\n",
    "after_property.sort_values(by=[\"neighborhood\", \"ucrDescription\"])\n",
    "\n",
    "before_violent.sort_values(by=[\"neighborhood\", \"ucrDescription\"])\n",
    "after_violent.sort_values(by=[\"neighborhood\", \"ucrDescription\"])"
   ]
  },
  {
   "cell_type": "code",
   "execution_count": null,
   "id": "ad3b01f4",
   "metadata": {},
   "outputs": [],
   "source": [
    "before_property_grp = before.groupby([\"neighborhood\", \"ucrDescription\"])\n",
    "after_property_grp = after.groupby([\"neighborhood\", \"ucrDescription\"])\n",
    "\n",
    "before_violent_grp = before.groupby([\"neighborhood\", \"ucrDescription\"])\n",
    "after_violent_grp = after.groupby([\"neighborhood\", \"ucrDescription\"])"
   ]
  },
  {
   "cell_type": "code",
   "execution_count": null,
   "id": "71406c99",
   "metadata": {},
   "outputs": [],
   "source": [
    "before_property_agg = before_grp[\"number\"].sum()\n",
    "after_property_agg = after_grp[\"number\"].sum()\n",
    "\n",
    "before_violent_agg = before_grp[\"number\"].sum()\n",
    "after_violent_agg = after_grp[\"number\"].sum()"
   ]
  },
  {
   "cell_type": "code",
   "execution_count": null,
   "id": "99601152",
   "metadata": {},
   "outputs": [],
   "source": [
    "after_violent_agg.head(10)"
   ]
  },
  {
   "cell_type": "code",
   "execution_count": null,
   "id": "e7168672",
   "metadata": {},
   "outputs": [],
   "source": [
    "before_violent_agg.head(10)"
   ]
  },
  {
   "cell_type": "code",
   "execution_count": null,
   "id": "fcd5b228",
   "metadata": {},
   "outputs": [],
   "source": [
    "after_violent_agg[:24].unstack().plot.bar()"
   ]
  },
  {
   "cell_type": "code",
   "execution_count": null,
   "id": "947385bf",
   "metadata": {},
   "outputs": [],
   "source": [
    "before_violent_agg[:24].unstack().plot.bar()"
   ]
  },
  {
   "cell_type": "code",
   "execution_count": null,
   "id": "5affb589",
   "metadata": {},
   "outputs": [],
   "source": [
    "MPLS_CITIES = CALHOUN_ISLES + CAMDEN + CENTRAL + LONGFELLOW + NEAR_NORTH + NOKOMIS + NORTHEAST + \\\n",
    "              PHILLIPS + POWDERHORN + SOUTHWEST + UNIVERSITY\n",
    "df_cities = df.neighborhood.unique()"
   ]
  },
  {
   "cell_type": "code",
   "execution_count": null,
   "id": "4ac2d8b6",
   "metadata": {},
   "outputs": [],
   "source": [
    "for c in sorted(MPLS_CITIES):\n",
    "    if c in df_cities:\n",
    "        pass\n",
    "    else:\n",
    "        print(c)"
   ]
  },
  {
   "cell_type": "code",
   "execution_count": null,
   "id": "9395a840",
   "metadata": {},
   "outputs": [],
   "source": [
    "sorted(MPLS_CITIES) == sorted(df_cities)"
   ]
  },
  {
   "cell_type": "code",
   "execution_count": null,
   "id": "7183e1b8",
   "metadata": {},
   "outputs": [],
   "source": [
    "len(MPLS_CITIES)"
   ]
  },
  {
   "cell_type": "code",
   "execution_count": null,
   "id": "b665a226",
   "metadata": {},
   "outputs": [],
   "source": [
    "len(df_cities)"
   ]
  },
  {
   "cell_type": "code",
   "execution_count": null,
   "id": "1d8a229f",
   "metadata": {},
   "outputs": [],
   "source": [
    "print(sorted(MPLS_CITIES))"
   ]
  },
  {
   "cell_type": "code",
   "execution_count": null,
   "id": "4cacca78",
   "metadata": {},
   "outputs": [],
   "source": [
    "print(sorted(df_cities))"
   ]
  },
  {
   "cell_type": "code",
   "execution_count": null,
   "id": "92438007",
   "metadata": {},
   "outputs": [],
   "source": [
    "oddballs = [x for x in (MPLS_CITIES + df_cities.tolist()) if x not in MPLS_CITIES or x not in df_cities]\n",
    "print(oddballs)"
   ]
  },
  {
   "cell_type": "code",
   "execution_count": null,
   "id": "46d3294d",
   "metadata": {},
   "outputs": [],
   "source": [
    "master_city_list = sorted(MPLS_CITIES)"
   ]
  },
  {
   "cell_type": "code",
   "execution_count": null,
   "id": "92f80f0d",
   "metadata": {},
   "outputs": [],
   "source": [
    "master_city_list == sorted(df_cities)"
   ]
  },
  {
   "cell_type": "code",
   "execution_count": null,
   "id": "126db662",
   "metadata": {},
   "outputs": [],
   "source": [
    "master_city_dict = {}"
   ]
  },
  {
   "cell_type": "code",
   "execution_count": null,
   "id": "86577ea3",
   "metadata": {},
   "outputs": [],
   "source": [
    "master_city_dict[\"CALHOUN_ISLES\"] = CALHOUN_ISLES\n",
    "master_city_dict[\"CAMDEN\"] = CAMDEN\n",
    "master_city_dict[\"CENTRAL\"] = CENTRAL\n",
    "master_city_dict[\"LONGFELLOW\"] = LONGFELLOW\n",
    "master_city_dict[\"NEAR_NORTH\"] = NEAR_NORTH\n",
    "master_city_dict[\"NOKOMIS\"] = NOKOMIS\n",
    "master_city_dict[\"NORTHEAST\"] = NORTHEAST\n",
    "master_city_dict[\"PHILLIPS\"] = PHILLIPS\n",
    "master_city_dict[\"POWDERHORN\"] = POWDERHORN\n",
    "master_city_dict[\"SOUTHWEST\"] = SOUTHWEST\n",
    "master_city_dict[\"UNIVERSITY\"] = UNIVERSITY"
   ]
  },
  {
   "cell_type": "code",
   "execution_count": null,
   "id": "89f91b80",
   "metadata": {},
   "outputs": [],
   "source": [
    "print(master_city_dict)"
   ]
  },
  {
   "cell_type": "code",
   "execution_count": null,
   "id": "5d78aa79",
   "metadata": {},
   "outputs": [],
   "source": [
    "before_property_agg"
   ]
  },
  {
   "cell_type": "code",
   "execution_count": null,
   "id": "78a42dea",
   "metadata": {},
   "outputs": [],
   "source": [
    "after_property_agg"
   ]
  },
  {
   "cell_type": "code",
   "execution_count": null,
   "id": "cdae3180",
   "metadata": {},
   "outputs": [],
   "source": [
    "before_violent_agg "
   ]
  },
  {
   "cell_type": "code",
   "execution_count": null,
   "id": "71c23759",
   "metadata": {},
   "outputs": [],
   "source": [
    "after_violent_agg "
   ]
  }
 ],
 "metadata": {
  "kernelspec": {
   "display_name": "Python 3 (ipykernel)",
   "language": "python",
   "name": "python3"
  },
  "language_info": {
   "codemirror_mode": {
    "name": "ipython",
    "version": 3
   },
   "file_extension": ".py",
   "mimetype": "text/x-python",
   "name": "python",
   "nbconvert_exporter": "python",
   "pygments_lexer": "ipython3",
   "version": "3.8.13"
  }
 },
 "nbformat": 4,
 "nbformat_minor": 5
}
