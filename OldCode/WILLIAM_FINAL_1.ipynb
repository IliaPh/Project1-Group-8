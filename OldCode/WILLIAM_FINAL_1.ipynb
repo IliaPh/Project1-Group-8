{
 "cells": [
  {
   "cell_type": "code",
   "execution_count": null,
   "id": "1103a348",
   "metadata": {},
   "outputs": [],
   "source": [
    "import pandas as pd\n",
    "import numpy as np\n",
    "import scipy.stats as st\n",
    "import matplotlib.pyplot as plt"
   ]
  },
  {
   "cell_type": "code",
   "execution_count": null,
   "id": "8f5d6371",
   "metadata": {},
   "outputs": [],
   "source": [
    "pd.options.display.max_rows = 1000\n",
    "\n",
    "df = pd.read_csv(\"mpls_crime_2017-2022.csv\", encoding=\"utf-8\")"
   ]
  },
  {
   "cell_type": "code",
   "execution_count": null,
   "id": "00bc0666",
   "metadata": {
    "scrolled": true
   },
   "outputs": [],
   "source": [
    "df.sample(n=5)"
   ]
  },
  {
   "cell_type": "code",
   "execution_count": null,
   "id": "80d3b6d8",
   "metadata": {},
   "outputs": [],
   "source": [
    "def cleanup_df(a_df):\n",
    "     \n",
    "    a_df[\"neighborhood\"] = a_df[\"neighborhood\"].str.lower()    \n",
    "           \n",
    "    a_df[\"neighborhood\"] = a_df[\"neighborhood\"].replace({\"carag\":\"south uptown\", \"ecco\":\"east bde maka ska\", \"west calhoun\":\"west maka ska\"})\n",
    "    \n",
    "    a_df[\"neighborhood\"] = a_df[\"neighborhood\"].replace({\"stevens square - loring heights\":\"steven's square - loring heights\"})\n",
    "    \n",
    "    a_df = a_df.loc[(a_df[\"neighborhood\"] != \"z_** not assigned **\") & (a_df[\"neighborhood\"] != \"** not assigned **\")]\n",
    "    \n",
    "    a_df = a_df.drop(\"neighborhoodCrimeStatisticsID\", axis=1)\n",
    "    \n",
    "    return a_df"
   ]
  },
  {
   "cell_type": "code",
   "execution_count": null,
   "id": "cb28acc3",
   "metadata": {},
   "outputs": [],
   "source": [
    "# Breakpoint\n",
    "\n",
    "\n",
    "\n",
    "clean_df = cleanup_df(df)\n",
    "\n",
    "df = clean_df.copy()"
   ]
  },
  {
   "cell_type": "code",
   "execution_count": null,
   "id": "634d2928",
   "metadata": {},
   "outputs": [],
   "source": [
    "# 480 data points for each neighborhood, accounting for name changes!\n",
    "\n",
    "df[\"neighborhood\"].value_counts()"
   ]
  },
  {
   "cell_type": "code",
   "execution_count": null,
   "id": "a267f1f9",
   "metadata": {},
   "outputs": [],
   "source": [
    "# Mpls Neighborhood \"Communities\"\n",
    "\n",
    "CALHOUN_ISLES = [\"bryn - mawr\", \"cedar - isles - dean\", \"east bde maka ska\", \"east isles\", \"kenwood\", \"lowry hill\", \\\n",
    "                 \"lowry hill east\", \"south uptown\", \"west maka ska\"]\n",
    "CAMDEN = [\"camden industrial\", \"cleveland\", \"folwell\", \"humboldt industrial area\", \"lind - bohanon\", \"mckinley\", \\\n",
    "          \"shingle creek\", \"victory\", \"webber - camden\"]\n",
    "CENTRAL = [\"downtown east\", \"downtown west\", \"elliot park\", \"loring park\", \"north loop\", \"steven's square - loring heights\"]\n",
    "LONGFELLOW = [\"cooper\", \"hiawatha\", \"howe\", \"longfellow\", \"seward\"]\n",
    "NEAR_NORTH = [\"harrison\", \"hawthorne\", \"jordan\", \"near - north\", \"sumner - glenwood\", \"willard - hay\"]\n",
    "NOKOMIS = [\"diamond lake\", \"ericsson\", \"field\", \"hale\", \"keewaydin\", \"minnehaha\", \"morris park\", \\\n",
    "           \"northrop\", \"page\", \"regina\", \"wenonah\"]\n",
    "NORTHEAST = [\"audubon park\", \"beltrami\", \"bottineau\", \"columbia park\", \"holland\", \"logan park\", \"marshall terrace\", \\\n",
    "             \"northeast park\", \"sheridan\", \"st. anthony east\", \"st. anthony west\", \"waite park\", \"windom park\"]\n",
    "PHILLIPS = [\"east phillips\", \"midtown phillips\", \"phillips west\", \"ventura village\"]\n",
    "POWDERHORN = [\"bancroft\", \"bryant\", \"central\", \"corcoran\", \"lyndale\", \"powderhorn park\", \"standish\", \"whittier\"]\n",
    "SOUTHWEST = [\"armatage\", \"east harriet\", \"fulton\", \"kenny\", \"king field\", \"linden hills\", \"lynnhurst\", \"tangletown\", \\\n",
    "             \"windom\"]\n",
    "UNIVERSITY = [\"cedar riverside\", \"como\", \"marcy holmes\", \"mid - city industrial\", \"nicollet island - east bank\", \\\n",
    "              \"prospect park - east river road\", \"university of minnesota\"]"
   ]
  },
  {
   "cell_type": "code",
   "execution_count": null,
   "id": "3f7c865c",
   "metadata": {},
   "outputs": [],
   "source": [
    "# Make list of communities names, each a list of neighborhoods\n",
    "\n",
    "COMMUNITIES = [\"CALHOUN_ISLES\", \"CAMDEN\", \"CENTRAL\", \"LONGFELLOW\", \"NEAR_NORTH\", \"NOKOMIS\", \"NORTHEAST\", \\\n",
    "              \"PHILLIPS\", \"POWDERHORN\", \"SOUTHWEST\", \"UNIVERSITY\"]"
   ]
  },
  {
   "cell_type": "code",
   "execution_count": null,
   "id": "e0216e6c",
   "metadata": {},
   "outputs": [],
   "source": [
    "# As per FBI ucr reporting standards\n",
    "\n",
    "violent_crimes = [\"Aggravated Assault\", \"Homicide\", \"Rape\", \"Robbery\"]\n",
    "\n",
    "property_crimes = [\"Arson\", \"Auto Theft\", \"Burglary\", \"Larceny\"]"
   ]
  },
  {
   "cell_type": "code",
   "execution_count": null,
   "id": "6eaf3521",
   "metadata": {},
   "outputs": [],
   "source": [
    "# All crime \n",
    "\n",
    "before_all = df[ (df[\"reportMonth\"]==5) & (df[\"reportYear\"]==2020) ]\n",
    "before_all = before_all.sort_values(by=[\"neighborhood\", \"ucrDescription\"])\n",
    "\n",
    "before_all = before_all.drop([\"reportMonth\", \"reportYear\"], axis=1)\n",
    "\n",
    "# before_all\n",
    "\n",
    "\n",
    "after_all = df[ (df[\"reportMonth\"]==6) & (df[\"reportYear\"]==2020) ]\n",
    "after_all = after_all.sort_values(by=[\"neighborhood\", \"ucrDescription\"])\n",
    "\n",
    "after_all = after_all.drop([\"reportMonth\", \"reportYear\"], axis=1)\n",
    "\n",
    "# after_all"
   ]
  },
  {
   "cell_type": "code",
   "execution_count": null,
   "id": "1e50e03d",
   "metadata": {},
   "outputs": [],
   "source": [
    "# Narrow down to just months and type of crime I'm interested in\n",
    "\n",
    "before_violent = df[ (df[\"reportMonth\"]==5) & (df[\"reportYear\"]==2020) & (df[\"ucrDescription\"].isin(violent_crimes)) ]\n",
    "before_violent = before_violent.sort_values(by=[\"neighborhood\", \"ucrDescription\"])\n",
    "\n",
    "before_violent = before_violent.drop([\"reportMonth\", \"reportYear\"], axis=1)\n",
    "\n",
    "# before_violent[\"number\"].describe()\n"
   ]
  },
  {
   "cell_type": "code",
   "execution_count": null,
   "id": "a2f64da9",
   "metadata": {},
   "outputs": [],
   "source": [
    "after_violent = df[ (df[\"reportMonth\"]==6) & (df[\"reportYear\"]==2020) & (df[\"ucrDescription\"].isin(violent_crimes)) ]\n",
    "after_violent = after_violent.sort_values(by=[\"neighborhood\", \"ucrDescription\"])\n",
    "\n",
    "after_violent = after_violent.drop([\"reportMonth\", \"reportYear\"], axis=1)\n",
    "\n",
    "# after_violent[\"number\"].describe()"
   ]
  },
  {
   "cell_type": "code",
   "execution_count": null,
   "id": "15e314d3",
   "metadata": {},
   "outputs": [],
   "source": [
    "before_property = df[ (df[\"reportMonth\"]==5) & (df[\"reportYear\"]==2020) & (df[\"ucrDescription\"].isin(property_crimes)) ]\n",
    "before_property = before_property.sort_values(by=[\"neighborhood\", \"ucrDescription\"])\n",
    "\n",
    "before_property = before_property.drop([\"reportMonth\", \"reportYear\"], axis=1)\n",
    "\n",
    "# before_property[\"number\"].describe()"
   ]
  },
  {
   "cell_type": "code",
   "execution_count": null,
   "id": "bf2b2253",
   "metadata": {},
   "outputs": [],
   "source": [
    "after_property = df[ (df[\"reportMonth\"]==6) & (df[\"reportYear\"]==2020) & (df[\"ucrDescription\"].isin(property_crimes)) ]\n",
    "after_property = after_property.sort_values(by=[\"neighborhood\", \"ucrDescription\"])\n",
    "\n",
    "after_property = after_property.drop([\"reportMonth\", \"reportYear\"], axis=1)\n",
    "\n",
    "# after_property[\"number\"].describe()"
   ]
  },
  {
   "cell_type": "code",
   "execution_count": null,
   "id": "67e8d6e4",
   "metadata": {},
   "outputs": [],
   "source": [
    "CALH_bp = int(before_property.loc[ (before_property[\"neighborhood\"].isin(CALHOUN_ISLES)), : ].groupby(\"neighborhood\").sum().sum())\n",
    "\n",
    "CAMD_bp = int(before_property.loc[ (before_property[\"neighborhood\"].isin(CAMDEN)), : ].groupby(\"neighborhood\").sum().sum())\n",
    "\n",
    "CENT_bp = int(before_property.loc[ (before_property[\"neighborhood\"].isin(CENTRAL)), : ].groupby(\"neighborhood\").sum().sum())\n",
    "\n",
    "LONG_bp = int(before_property.loc[ (before_property[\"neighborhood\"].isin(LONGFELLOW)), : ].groupby(\"neighborhood\").sum().sum())\n",
    "\n",
    "NEAR_bp = int(before_property.loc[ (before_property[\"neighborhood\"].isin(NEAR_NORTH)), : ].groupby(\"neighborhood\").sum().sum())\n",
    "\n",
    "NOKO_bp = int(before_property.loc[ (before_property[\"neighborhood\"].isin(NOKOMIS)), : ].groupby(\"neighborhood\").sum().sum())\n",
    "\n",
    "NORT_bp = int(before_property.loc[ (before_property[\"neighborhood\"].isin(NORTHEAST)), : ].groupby(\"neighborhood\").sum().sum())\n",
    "\n",
    "PHIL_bp = int(before_property.loc[ (before_property[\"neighborhood\"].isin(PHILLIPS)), : ].groupby(\"neighborhood\").sum().sum())\n",
    "\n",
    "POWD_bp = int(before_property.loc[ (before_property[\"neighborhood\"].isin(POWDERHORN)), : ].groupby(\"neighborhood\").sum().sum())\n",
    "\n",
    "SOUT_bp = int(before_property.loc[ (before_property[\"neighborhood\"].isin(SOUTHWEST)), : ].groupby(\"neighborhood\").sum().sum())\n",
    "\n",
    "UNIV_bp = int(before_property.loc[ (before_property[\"neighborhood\"].isin(UNIVERSITY)), : ].groupby(\"neighborhood\").sum().sum())\n"
   ]
  },
  {
   "cell_type": "code",
   "execution_count": null,
   "id": "838846c5",
   "metadata": {},
   "outputs": [],
   "source": [
    "CALH_ap = int(after_property.loc[ (after_property[\"neighborhood\"].isin(CALHOUN_ISLES)), : ].groupby(\"neighborhood\").sum().sum())\n",
    "\n",
    "CAMD_ap = int(after_property.loc[ (after_property[\"neighborhood\"].isin(CAMDEN)), : ].groupby(\"neighborhood\").sum().sum())\n",
    "\n",
    "CENT_ap = int(after_property.loc[ (after_property[\"neighborhood\"].isin(CENTRAL)), : ].groupby(\"neighborhood\").sum().sum())\n",
    "\n",
    "LONG_ap = int(after_property.loc[ (after_property[\"neighborhood\"].isin(LONGFELLOW)), : ].groupby(\"neighborhood\").sum().sum())\n",
    "\n",
    "NEAR_ap = int(after_property.loc[ (after_property[\"neighborhood\"].isin(NEAR_NORTH)), : ].groupby(\"neighborhood\").sum().sum())\n",
    "\n",
    "NOKO_ap = int(after_property.loc[ (after_property[\"neighborhood\"].isin(NOKOMIS)), : ].groupby(\"neighborhood\").sum().sum())\n",
    "\n",
    "NORT_ap = int(after_property.loc[ (after_property[\"neighborhood\"].isin(NORTHEAST)), : ].groupby(\"neighborhood\").sum().sum())\n",
    "\n",
    "PHIL_ap = int(after_property.loc[ (after_property[\"neighborhood\"].isin(PHILLIPS)), : ].groupby(\"neighborhood\").sum().sum())\n",
    "\n",
    "POWD_ap = int(after_property.loc[ (after_property[\"neighborhood\"].isin(POWDERHORN)), : ].groupby(\"neighborhood\").sum().sum())\n",
    "\n",
    "SOUT_ap = int(after_property.loc[ (after_property[\"neighborhood\"].isin(SOUTHWEST)), : ].groupby(\"neighborhood\").sum().sum())\n",
    "\n",
    "UNIV_ap = int(after_property.loc[ (after_property[\"neighborhood\"].isin(UNIVERSITY)), : ].groupby(\"neighborhood\").sum().sum())\n"
   ]
  },
  {
   "cell_type": "code",
   "execution_count": null,
   "id": "fcc49758",
   "metadata": {},
   "outputs": [],
   "source": [
    "CALH_bv = int(before_violent.loc[ (before_violent[\"neighborhood\"].isin(CALHOUN_ISLES)), : ].groupby(\"neighborhood\").sum().sum())\n",
    "\n",
    "CAMD_bv = int(before_violent.loc[ (before_violent[\"neighborhood\"].isin(CAMDEN)), : ].groupby(\"neighborhood\").sum().sum())\n",
    "\n",
    "CENT_bv = int(before_violent.loc[ (before_violent[\"neighborhood\"].isin(CENTRAL)), : ].groupby(\"neighborhood\").sum().sum())\n",
    "\n",
    "LONG_bv = int(before_violent.loc[ (before_violent[\"neighborhood\"].isin(LONGFELLOW)), : ].groupby(\"neighborhood\").sum().sum())\n",
    "\n",
    "NEAR_bv = int(before_violent.loc[ (before_violent[\"neighborhood\"].isin(NEAR_NORTH)), : ].groupby(\"neighborhood\").sum().sum())\n",
    "\n",
    "NOKO_bv = int(before_violent.loc[ (before_violent[\"neighborhood\"].isin(NOKOMIS)), : ].groupby(\"neighborhood\").sum().sum())\n",
    "\n",
    "NORT_bv = int(before_violent.loc[ (before_violent[\"neighborhood\"].isin(NORTHEAST)), : ].groupby(\"neighborhood\").sum().sum())\n",
    "\n",
    "PHIL_bv = int(before_violent.loc[ (before_violent[\"neighborhood\"].isin(PHILLIPS)), : ].groupby(\"neighborhood\").sum().sum())\n",
    "\n",
    "POWD_bv = int(before_violent.loc[ (before_violent[\"neighborhood\"].isin(POWDERHORN)), : ].groupby(\"neighborhood\").sum().sum())\n",
    "\n",
    "SOUT_bv = int(before_violent.loc[ (before_violent[\"neighborhood\"].isin(SOUTHWEST)), : ].groupby(\"neighborhood\").sum().sum())\n",
    "\n",
    "UNIV_bv = int(before_violent.loc[ (before_violent[\"neighborhood\"].isin(UNIVERSITY)), : ].groupby(\"neighborhood\").sum().sum())\n"
   ]
  },
  {
   "cell_type": "code",
   "execution_count": null,
   "id": "a4448424",
   "metadata": {},
   "outputs": [],
   "source": [
    "CALH_av = int(after_violent.loc[ (after_violent[\"neighborhood\"].isin(CALHOUN_ISLES)), : ].groupby(\"neighborhood\").sum().sum())\n",
    "\n",
    "CAMD_av = int(after_violent.loc[ (after_violent[\"neighborhood\"].isin(CAMDEN)), : ].groupby(\"neighborhood\").sum().sum())\n",
    "\n",
    "CENT_av = int(after_violent.loc[ (after_violent[\"neighborhood\"].isin(CENTRAL)), : ].groupby(\"neighborhood\").sum().sum())\n",
    "\n",
    "LONG_av = int(after_violent.loc[ (after_violent[\"neighborhood\"].isin(LONGFELLOW)), : ].groupby(\"neighborhood\").sum().sum())\n",
    "\n",
    "NEAR_av = int(after_violent.loc[ (after_violent[\"neighborhood\"].isin(NEAR_NORTH)), : ].groupby(\"neighborhood\").sum().sum())\n",
    "\n",
    "NOKO_av = int(after_violent.loc[ (after_violent[\"neighborhood\"].isin(NOKOMIS)), : ].groupby(\"neighborhood\").sum().sum())\n",
    "\n",
    "NORT_av = int(after_violent.loc[ (after_violent[\"neighborhood\"].isin(NORTHEAST)), : ].groupby(\"neighborhood\").sum().sum())\n",
    "\n",
    "PHIL_av = int(after_violent.loc[ (after_violent[\"neighborhood\"].isin(PHILLIPS)), : ].groupby(\"neighborhood\").sum().sum())\n",
    "\n",
    "POWD_av = int(after_violent.loc[ (after_violent[\"neighborhood\"].isin(POWDERHORN)), : ].groupby(\"neighborhood\").sum().sum())\n",
    "\n",
    "SOUT_av = int(after_violent.loc[ (after_violent[\"neighborhood\"].isin(SOUTHWEST)), : ].groupby(\"neighborhood\").sum().sum())\n",
    "\n",
    "UNIV_av = int(after_violent.loc[ (after_violent[\"neighborhood\"].isin(UNIVERSITY)), : ].groupby(\"neighborhood\").sum().sum())\n"
   ]
  },
  {
   "cell_type": "code",
   "execution_count": null,
   "id": "a2756146",
   "metadata": {},
   "outputs": [],
   "source": [
    "bp = [CALH_bp, CAMD_bp, CENT_bp, LONG_bp, NEAR_bp, NOKO_bp, NORT_bp, PHIL_bp, POWD_bp, SOUT_bp, UNIV_bp]\n",
    "ap = [CALH_ap, CAMD_ap, CENT_ap, LONG_ap, NEAR_ap, NOKO_ap, NORT_ap, PHIL_ap, POWD_ap, SOUT_ap, UNIV_ap]\n",
    "\n",
    "bv = [CALH_bv, CAMD_bv, CENT_bv, LONG_bv, NEAR_bv, NOKO_bv, NORT_bv, PHIL_bv, POWD_bv, SOUT_bv, UNIV_bv]\n",
    "av = [CALH_av, CAMD_av, CENT_av, LONG_av, NEAR_av, NOKO_av, NORT_av, PHIL_av, POWD_av, SOUT_av, UNIV_av]\n",
    "\n",
    "# COMMUNITIES is list of neighborhood communities for plotting"
   ]
  },
  {
   "cell_type": "code",
   "execution_count": null,
   "id": "659aebbf",
   "metadata": {},
   "outputs": [],
   "source": [
    "plot_df_prop = pd.DataFrame(index=COMMUNITIES, data={\"Property_Before\":bp, \"Property_After\":ap, \"%_Chg\": 0})\n",
    "plot_df_viol = pd.DataFrame(index=COMMUNITIES, data={\"Violent_Before\":bv, \"Violent_After\":av, \"%_Chg\": 0})\n",
    "   \n",
    "plot_df_prop[\"%_Chg\"] = ((plot_df_prop[\"Property_After\"] - plot_df_prop[\"Property_Before\"]) / plot_df_prop[\"Property_Before\"]) * 100\n",
    "\n",
    "plot_df_viol[\"%_Chg\"] = ((plot_df_viol[\"Violent_After\"] - plot_df_viol[\"Violent_Before\"]) / plot_df_viol[\"Violent_Before\"]) * 100\n",
    "\n"
   ]
  },
  {
   "cell_type": "code",
   "execution_count": null,
   "id": "2dba1ec6",
   "metadata": {},
   "outputs": [],
   "source": [
    "plot_df_prop.plot.bar(color=[\"blue\",\"green\",\"black\"], figsize=(12,8))\n",
    "plt.ylim(-50, 290)\n",
    "plt.xticks(rotation=45)\n",
    "plt.grid()\n",
    "plt.title(\"Number of Property Crimes and % Change 1 Month Before and After George Floyd Killing\")\n",
    "\n",
    "plt.savefig(\"Property_Before_After.png\")"
   ]
  },
  {
   "cell_type": "code",
   "execution_count": null,
   "id": "54f6fd7f",
   "metadata": {},
   "outputs": [],
   "source": [
    "plot_df_viol.plot.bar(color=[\"blue\",\"green\",\"black\"], figsize=(12,8))\n",
    "plt.ylim(-20, 120)\n",
    "plt.xticks(rotation=45)\n",
    "plt.grid()\n",
    "plt.title(\"Number of Violent Crimes and % Change 1 Month Before and After George Floyd Killing\")\n",
    "plt.savefig(\"Violent_Before_After.png\")"
   ]
  },
  {
   "cell_type": "code",
   "execution_count": null,
   "id": "9586fbb9",
   "metadata": {},
   "outputs": [],
   "source": [
    "# % Change in Property Crime 1 Month Before and After GF  \n",
    "\n",
    "plot_df_prop[\"positive\"] = plot_df_prop[\"%_Chg\"] >= 0\n",
    "\n",
    "x = COMMUNITIES\n",
    "y = plot_df_prop[\"%_Chg\"]\n",
    "z = plot_df_prop[\"positive\"]\n",
    "\n",
    "\n",
    "plt.barh(x, y, color=z.map({True: 'red', False: 'yellow'}))\n",
    " \n",
    "for index, value in enumerate(y):\n",
    "    the_num = f\"+{str(int(value))}%\" if int(value)>= 0 else f\"{str(int(value))}%\"\n",
    "    plt.text(round(value,2), index, the_num)\n",
    "\n",
    "# Invert y-axis\n",
    "\n",
    "ax = plt.gca()\n",
    "ax.invert_yaxis()\n",
    "\n",
    "ax.set_xlim(-40, 119)\n",
    "\n",
    "plt.title(f\"Property Crime % Change in Minneapolis\\n(1 Month After George Floyd Killing)\")\n",
    "plt.grid()\n",
    "plt.tight_layout()\n",
    "\n",
    "plt.savefig(\"PercentChangeProperty.png\")"
   ]
  },
  {
   "cell_type": "code",
   "execution_count": null,
   "id": "b3d35eed",
   "metadata": {},
   "outputs": [],
   "source": [
    "# % Change in Violent Crime 1 Month Before and After GF  \n",
    "\n",
    "plot_df_viol[\"positive\"] = plot_df_viol[\"%_Chg\"] >= 0\n",
    "\n",
    "x = COMMUNITIES\n",
    "y = plot_df_viol[\"%_Chg\"]\n",
    "z = plot_df_viol[\"positive\"]\n",
    "\n",
    "\n",
    "plt.barh(x, y, color=z.map({True: 'red', False: 'yellow'}))\n",
    " \n",
    "for index, value in enumerate(y):\n",
    "    the_num = f\"+{str(int(value))}%\" if int(value)>= 0 else f\"{str(int(value))}%\"\n",
    "    plt.text(round(value,2), index, the_num)\n",
    "\n",
    "# Invert y-axis\n",
    "\n",
    "ax = plt.gca()\n",
    "ax.invert_yaxis()\n",
    "\n",
    "ax.set_xlim(-40, 119)\n",
    "\n",
    "plt.title(f\"Violent Crime % Change in Minneapolis\\n(1 Month After George Floyd Killing)\")\n",
    "plt.grid()\n",
    "\n",
    "plt.tight_layout()\n",
    "\n",
    "plt.savefig(\"PercentChangeViolent.png\")"
   ]
  },
  {
   "cell_type": "code",
   "execution_count": null,
   "id": "499eae90",
   "metadata": {},
   "outputs": [],
   "source": [
    "# T-test for property crime before and after GF\n",
    "\n",
    "st.ttest_ind(bp, ap, equal_var=False) "
   ]
  },
  {
   "cell_type": "code",
   "execution_count": null,
   "id": "8da551d8",
   "metadata": {},
   "outputs": [],
   "source": [
    "# T-test for property crime before and after GF\n",
    "\n",
    "st.ttest_ind(bv, av, equal_var=False) "
   ]
  }
 ],
 "metadata": {
  "kernelspec": {
   "display_name": "Python 3 (ipykernel)",
   "language": "python",
   "name": "python3"
  },
  "language_info": {
   "codemirror_mode": {
    "name": "ipython",
    "version": 3
   },
   "file_extension": ".py",
   "mimetype": "text/x-python",
   "name": "python",
   "nbconvert_exporter": "python",
   "pygments_lexer": "ipython3",
   "version": "3.8.13"
  }
 },
 "nbformat": 4,
 "nbformat_minor": 5
}
