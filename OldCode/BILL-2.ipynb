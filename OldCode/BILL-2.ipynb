{
 "cells": [
  {
   "cell_type": "code",
   "execution_count": 1,
   "id": "3612a6ff",
   "metadata": {},
   "outputs": [],
   "source": [
    " # Dependencies and Setup\n",
    "import matplotlib.pyplot as plt\n",
    "import pandas as pd\n",
    "import numpy as np\n",
    "\n",
    "pd.options.display.max_rows = 1000"
   ]
  },
  {
   "cell_type": "code",
   "execution_count": 4,
   "id": "0578e5ce",
   "metadata": {},
   "outputs": [],
   "source": [
    "df = pd.read_csv(\"mpls_crime_2017-2022.csv\")\n",
    "df = df[df[\"reportYear\"]>=2019]"
   ]
  },
  {
   "cell_type": "code",
   "execution_count": 5,
   "id": "84c6ad1c",
   "metadata": {},
   "outputs": [
    {
     "data": {
      "text/plain": [
       "Armatage                            344\n",
       "Longfellow                          344\n",
       "Powderhorn Park                     344\n",
       "Phillips West                       344\n",
       "Page                                344\n",
       "Northrop                            344\n",
       "Northeast Park                      344\n",
       "North Loop                          344\n",
       "Nicollet Island - East Bank         344\n",
       "Near - North                        344\n",
       "Morris Park                         344\n",
       "Minnehaha                           344\n",
       "Midtown Phillips                    344\n",
       "Mid - City Industrial               344\n",
       "McKinley                            344\n",
       "Marshall Terrace                    344\n",
       "Marcy Holmes                        344\n",
       "Lynnhurst                           344\n",
       "Lyndale                             344\n",
       "Lowry Hill East                     344\n",
       "Lowry Hill                          344\n",
       "Prospect Park - East River Road     344\n",
       "Regina                              344\n",
       "Seward                              344\n",
       "Victory                             344\n",
       "Z_** NOT ASSIGNED **                344\n",
       "Windom Park                         344\n",
       "Windom                              344\n",
       "Willard - Hay                       344\n",
       "Whittier                            344\n",
       "Wenonah                             344\n",
       "Webber - Camden                     344\n",
       "Waite Park                          344\n",
       "Ventura Village                     344\n",
       "Sheridan                            344\n",
       "University of Minnesota             344\n",
       "Tangletown                          344\n",
       "Sumner - Glenwood                   344\n",
       "Steven's Square - Loring Heights    344\n",
       "Standish                            344\n",
       "St. Anthony West                    344\n",
       "St. Anthony East                    344\n",
       "Shingle Creek                       344\n",
       "Audubon Park                        344\n",
       "Loring Park                         344\n",
       "Logan Park                          344\n",
       "Cleveland                           344\n",
       "Linden Hills                        344\n",
       "Downtown West                       344\n",
       "Downtown East                       344\n",
       "Diamond Lake                        344\n",
       "Corcoran                            344\n",
       "Cooper                              344\n",
       "Como                                344\n",
       "Columbia Park                       344\n",
       "Central                             344\n",
       "East Phillips                       344\n",
       "Cedar Riverside                     344\n",
       "Cedar - Isles - Dean                344\n",
       "Camden Industrial                   344\n",
       "Bryn - Mawr                         344\n",
       "Bryant                              344\n",
       "Bottineau                           344\n",
       "Beltrami                            344\n",
       "Bancroft                            344\n",
       "East Isles                          344\n",
       "East Harriet                        344\n",
       "Humboldt Industrial Area            344\n",
       "King Field                          344\n",
       "Kenny                               344\n",
       "Keewaydin                           344\n",
       "Lind - Bohanon                      344\n",
       "Jordan                              344\n",
       "Elliot Park                         344\n",
       "Howe                                344\n",
       "Holland                             344\n",
       "Hiawatha                            344\n",
       "Hawthorne                           344\n",
       "Harrison                            344\n",
       "Hale                                344\n",
       "Fulton                              344\n",
       "Folwell                             344\n",
       "Field                               344\n",
       "Ericsson                            344\n",
       "Kenwood                             344\n",
       "CARAG                               312\n",
       "ECCO                                248\n",
       "West Calhoun                        248\n",
       "East Bde Maka Ska                    96\n",
       "West Maka Ska                        96\n",
       "South Uptown                         32\n",
       "Name: neighborhood, dtype: int64"
      ]
     },
     "execution_count": 5,
     "metadata": {},
     "output_type": "execute_result"
    }
   ],
   "source": [
    "df[\"neighborhood\"].value_counts()"
   ]
  },
  {
   "cell_type": "code",
   "execution_count": null,
   "id": "c8f35d85",
   "metadata": {},
   "outputs": [],
   "source": []
  }
 ],
 "metadata": {
  "kernelspec": {
   "display_name": "Python 3 (ipykernel)",
   "language": "python",
   "name": "python3"
  },
  "language_info": {
   "codemirror_mode": {
    "name": "ipython",
    "version": 3
   },
   "file_extension": ".py",
   "mimetype": "text/x-python",
   "name": "python",
   "nbconvert_exporter": "python",
   "pygments_lexer": "ipython3",
   "version": "3.8.13"
  }
 },
 "nbformat": 4,
 "nbformat_minor": 5
}
